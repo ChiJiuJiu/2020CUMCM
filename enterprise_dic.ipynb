{
 "nbformat": 4,
 "nbformat_minor": 2,
 "metadata": {
  "language_info": {
   "name": "python",
   "codemirror_mode": {
    "name": "ipython",
    "version": 3
   },
   "version": "3.7.5-final"
  },
  "orig_nbformat": 2,
  "file_extension": ".py",
  "mimetype": "text/x-python",
  "name": "python",
  "npconvert_exporter": "python",
  "pygments_lexer": "ipython3",
  "version": 3,
  "kernelspec": {
   "name": "python37564bit7ce19d34b5d64e10aeb63e084aaca162",
   "display_name": "Python 3.7.5 64-bit"
  }
 },
 "cells": [
  {
   "cell_type": "code",
   "execution_count": 2,
   "metadata": {},
   "outputs": [],
   "source": [
    "import numpy as np\n",
    "import pandas as pd\n",
    "import plotly_express as px\n",
    "from Invoice import Invoice\n",
    "from Enterprise import Enterprise"
   ]
  },
  {
   "cell_type": "code",
   "execution_count": 3,
   "metadata": {},
   "outputs": [],
   "source": [
    "enterprise_info=pd.read_csv('./C/1_info.csv')\n",
    "N_enterprise=enterprise_info.shape[0]"
   ]
  },
  {
   "cell_type": "code",
   "execution_count": 4,
   "metadata": {},
   "outputs": [],
   "source": [
    "enterprise_dic={}\n",
    "for i in range(N_enterprise):\n",
    "    number = enterprise_info['企业代号'][i]\n",
    "    name = enterprise_info['企业名称'][i]\n",
    "    credit_rating = enterprise_info['信誉评级'][i]\n",
    "    break_contract_str = enterprise_info['是否违约'][i]\n",
    "    break_contract = True if break_contract_str=='是' else False\n",
    "    enterprise_object=Enterprise(number,name,credit_rating,break_contract)\n",
    "    enterprise_dic[number]=enterprise_object"
   ]
  },
  {
   "cell_type": "code",
   "execution_count": 5,
   "metadata": {},
   "outputs": [],
   "source": [
    "invoice_in = pd.read_csv('./C/1_in.csv')\n",
    "N_in = invoice_in.shape[0]"
   ]
  },
  {
   "cell_type": "code",
   "execution_count": 6,
   "metadata": {},
   "outputs": [],
   "source": [
    "from datetime import date\n",
    "def get_date(date_str):\n",
    "    y,m,d=date_str.split('/')\n",
    "    if len(m) != 2:\n",
    "        m = '0' + m\n",
    "    if len(d) != 2:\n",
    "        d = '0' + d\n",
    "    return date.fromisoformat(y+'-'+m+'-'+d)"
   ]
  },
  {
   "cell_type": "code",
   "execution_count": 7,
   "metadata": {},
   "outputs": [],
   "source": [
    "for i in range(N_in):\n",
    "    enterprise_name = invoice_in['企业代号'][i]\n",
    "    number = invoice_in['发票号码'][i]\n",
    "    date_str = invoice_in['开票日期'][i]\n",
    "    date = get_date(date_str)\n",
    "    self_enterprise = enterprise_dic[enterprise_name]\n",
    "    partner = invoice_in['销方单位代号'][i]\n",
    "    amount = invoice_in['金额'][i]\n",
    "    tax = invoice_in['税额'][i]\n",
    "    sum_money = invoice_in['价税合计'][i]\n",
    "    state_available_str = invoice_in['发票状态'][i]\n",
    "    state_available = True if state_available_str == '有效发票' else False\n",
    "    invoice_object = Invoice(number,date,self_enterprise,partner,amount,tax,sum_money,state_available,True)\n",
    "    self_enterprise.add_invoice(invoice_object)"
   ]
  },
  {
   "cell_type": "code",
   "execution_count": 9,
   "metadata": {},
   "outputs": [],
   "source": [
    "invoice_out = pd.read_csv('./C/1_out.csv')\n",
    "N_out = invoice_out.shape[0]"
   ]
  },
  {
   "cell_type": "code",
   "execution_count": 10,
   "metadata": {},
   "outputs": [],
   "source": [
    "for i in range(N_out):\n",
    "    enterprise_name = invoice_out['企业代号'][i]\n",
    "    number = invoice_out['发票号码'][i]\n",
    "    date_str = invoice_out['开票日期'][i]\n",
    "    date = get_date(date_str)\n",
    "    self_enterprise = enterprise_dic[enterprise_name]\n",
    "    partner = invoice_out['购方单位代号'][i]\n",
    "    amount = invoice_out['金额'][i]\n",
    "    tax = invoice_out['税额'][i]\n",
    "    sum_money = invoice_out['价税合计'][i]\n",
    "    state_available_str = invoice_out['发票状态'][i]\n",
    "    state_available = True if state_available_str == '有效发票' else False\n",
    "    invoice_object = Invoice(number,date,self_enterprise,partner,amount,tax,sum_money,state_available,False)\n",
    "    self_enterprise.add_invoice(invoice_object)"
   ]
  },
  {
   "cell_type": "code",
   "execution_count": 26,
   "metadata": {},
   "outputs": [],
   "source": [
    "for enterprise in enterprise_dic.values():\n",
    "    enterprise.invoice_list.sort(key=lambda x:x.date)"
   ]
  },
  {
   "cell_type": "code",
   "execution_count": null,
   "metadata": {},
   "outputs": [],
   "source": []
  }
 ]
}