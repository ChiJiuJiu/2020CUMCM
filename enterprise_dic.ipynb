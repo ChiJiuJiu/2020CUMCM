{
 "nbformat": 4,
 "nbformat_minor": 2,
 "metadata": {
  "language_info": {
   "name": "python",
   "codemirror_mode": {
    "name": "ipython",
    "version": 3
   },
   "version": "3.7.5-final"
  },
  "orig_nbformat": 2,
  "file_extension": ".py",
  "mimetype": "text/x-python",
  "name": "python",
  "npconvert_exporter": "python",
  "pygments_lexer": "ipython3",
  "version": 3,
  "kernelspec": {
   "name": "python37564bit7ce19d34b5d64e10aeb63e084aaca162",
   "display_name": "Python 3.7.5 64-bit"
  }
 },
 "cells": [
  {
   "cell_type": "code",
   "execution_count": 2,
   "metadata": {},
   "outputs": [],
   "source": [
    "import numpy as np\n",
    "import pandas as pd\n",
    "import plotly_express as px\n",
    "from Invoice import Invoice\n",
    "from Enterprise import Enterprise"
   ]
  },
  {
   "cell_type": "code",
   "execution_count": 3,
   "metadata": {},
   "outputs": [],
   "source": [
    "enterprise_info=pd.read_csv('./C/1_info.csv')\n",
    "N_enterprise=enterprise_info.shape[0]"
   ]
  },
  {
   "cell_type": "code",
   "execution_count": 4,
   "metadata": {},
   "outputs": [],
   "source": [
    "enterprise_dic={}\n",
    "for i in range(N_enterprise):\n",
    "    number = enterprise_info['企业代号'][i]\n",
    "    name = enterprise_info['企业名称'][i]\n",
    "    credit_rating = enterprise_info['信誉评级'][i]\n",
    "    break_contract_str = enterprise_info['是否违约'][i]\n",
    "    break_contract = True if break_contract_str=='是' else False\n",
    "    enterprise_object=Enterprise(number,name,credit_rating,break_contract)\n",
    "    enterprise_dic[number]=enterprise_object"
   ]
  },
  {
   "cell_type": "code",
   "execution_count": 5,
   "metadata": {},
   "outputs": [],
   "source": [
    "invoice_in = pd.read_csv('./C/1_in.csv')\n",
    "N_in = invoice_in.shape[0]"
   ]
  },
  {
   "cell_type": "code",
   "execution_count": 6,
   "metadata": {},
   "outputs": [],
   "source": [
    "from datetime import date\n",
    "def get_date(date_str):\n",
    "    y,m,d=date_str.split('/')\n",
    "    if len(m) != 2:\n",
    "        m = '0' + m\n",
    "    if len(d) != 2:\n",
    "        d = '0' + d\n",
    "    return date.fromisoformat(y+'-'+m+'-'+d)"
   ]
  },
  {
   "cell_type": "code",
   "execution_count": 7,
   "metadata": {},
   "outputs": [],
   "source": [
    "for i in range(N_in):\n",
    "    enterprise_name = invoice_in['企业代号'][i]\n",
    "    number = invoice_in['发票号码'][i]\n",
    "    date_str = invoice_in['开票日期'][i]\n",
    "    date = get_date(date_str)\n",
    "    self_enterprise = enterprise_dic[enterprise_name]\n",
    "    partner = invoice_in['销方单位代号'][i]\n",
    "    amount = invoice_in['金额'][i]\n",
    "    tax = invoice_in['税额'][i]\n",
    "    sum_money = invoice_in['价税合计'][i]\n",
    "    state_available_str = invoice_in['发票状态'][i]\n",
    "    state_available = True if state_available_str == '有效发票' else False\n",
    "    invoice_object = Invoice(number,date,self_enterprise,partner,amount,tax,sum_money,state_available,True)\n",
    "    self_enterprise.add_invoice(invoice_object)"
   ]
  },
  {
   "cell_type": "code",
   "execution_count": 9,
   "metadata": {},
   "outputs": [],
   "source": [
    "invoice_out = pd.read_csv('./C/1_out.csv')\n",
    "N_out = invoice_out.shape[0]"
   ]
  },
  {
   "cell_type": "code",
   "execution_count": 10,
   "metadata": {},
   "outputs": [],
   "source": [
    "for i in range(N_out):\n",
    "    enterprise_name = invoice_out['企业代号'][i]\n",
    "    number = invoice_out['发票号码'][i]\n",
    "    date_str = invoice_out['开票日期'][i]\n",
    "    date = get_date(date_str)\n",
    "    self_enterprise = enterprise_dic[enterprise_name]\n",
    "    partner = invoice_out['购方单位代号'][i]\n",
    "    amount = invoice_out['金额'][i]\n",
    "    tax = invoice_out['税额'][i]\n",
    "    sum_money = invoice_out['价税合计'][i]\n",
    "    state_available_str = invoice_out['发票状态'][i]\n",
    "    state_available = True if state_available_str == '有效发票' else False\n",
    "    invoice_object = Invoice(number,date,self_enterprise,partner,amount,tax,sum_money,state_available,False)\n",
    "    self_enterprise.add_invoice(invoice_object)"
   ]
  },
  {
   "cell_type": "code",
   "execution_count": 26,
   "metadata": {},
   "outputs": [],
   "source": [
    "for enterprise in enterprise_dic.values():\n",
    "    enterprise.invoice_list.sort(key=lambda x:x.date)"
   ]
  },
  {
   "cell_type": "code",
   "execution_count": 37,
   "metadata": {},
   "outputs": [
    {
     "data": {
      "text/html": "<div>\n<style scoped>\n    .dataframe tbody tr th:only-of-type {\n        vertical-align: middle;\n    }\n\n    .dataframe tbody tr th {\n        vertical-align: top;\n    }\n\n    .dataframe thead th {\n        text-align: right;\n    }\n</style>\n<table border=\"1\" class=\"dataframe\">\n  <thead>\n    <tr style=\"text-align: right;\">\n      <th></th>\n      <th>日期</th>\n      <th>资金</th>\n    </tr>\n  </thead>\n  <tbody>\n  </tbody>\n</table>\n</div>",
      "text/plain": "Empty DataFrame\nColumns: [日期, 资金]\nIndex: []"
     },
     "execution_count": 37,
     "metadata": {},
     "output_type": "execute_result"
    }
   ],
   "source": [
    "sum = 0\n",
    "for enterprise in enterprise_dic.values():\n",
    "    frame = pd.DataFrame(columns=['日期','资金'])\n",
    "    current_date = enterprise.invoice_list[0].date\n",
    "    for invoice in enterprise.invoice_list:\n",
    "        if invoice.date!=current_date:\n",
    "            frame = frame.append([{'日期':current_date,'资金':sum}])\n",
    "        else:\n",
    "            if invoice.buy_in == True:\n",
    "                \n",
    "    enterprise.invoice_list.sort(key=lambda x:x.date)"
   ]
  },
  {
   "cell_type": "code",
   "execution_count": 45,
   "metadata": {},
   "outputs": [
    {
     "data": {
      "text/html": "<div>\n<style scoped>\n    .dataframe tbody tr th:only-of-type {\n        vertical-align: middle;\n    }\n\n    .dataframe tbody tr th {\n        vertical-align: top;\n    }\n\n    .dataframe thead th {\n        text-align: right;\n    }\n</style>\n<table border=\"1\" class=\"dataframe\">\n  <thead>\n    <tr style=\"text-align: right;\">\n      <th></th>\n      <th>日期</th>\n      <th>资金</th>\n    </tr>\n  </thead>\n  <tbody>\n    <tr>\n      <th>0</th>\n      <td>2020-09-10</td>\n      <td>123</td>\n    </tr>\n  </tbody>\n</table>\n</div>",
      "text/plain": "           日期   资金\n0  2020-09-10  123"
     },
     "execution_count": 45,
     "metadata": {},
     "output_type": "execute_result"
    }
   ],
   "source": [
    "frame123 = pd.DataFrame(columns=['日期','资金'])\n",
    "frame123 = frame123.append([{'日期':date.today(),'资金':123}])\n",
    "frame123"
   ]
  },
  {
   "cell_type": "code",
   "execution_count": null,
   "metadata": {},
   "outputs": [],
   "source": []
  }
 ]
}