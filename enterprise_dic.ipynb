{
 "cells": [
  {
   "cell_type": "code",
   "execution_count": 8,
   "metadata": {},
   "outputs": [],
   "source": [
    "import numpy as np\n",
    "import pandas as pd\n",
    "import plotly_express as px\n",
    "import matplotlib.pyplot as plt\n",
    "from Invoice import Invoice\n",
    "from Enterprise import Enterprise"
   ]
  },
  {
   "cell_type": "code",
   "execution_count": 9,
   "metadata": {},
   "outputs": [],
   "source": [
    "enterprise_info=pd.read_csv('./C/1_info.csv')\n",
    "N_enterprise=enterprise_info.shape[0]"
   ]
  },
  {
   "cell_type": "code",
   "execution_count": 10,
   "metadata": {},
   "outputs": [],
   "source": [
    "enterprise_dic={}\n",
    "for i in range(N_enterprise):\n",
    "    number = enterprise_info['企业代号'][i]\n",
    "    name = enterprise_info['企业名称'][i]\n",
    "    credit_rating = enterprise_info['信誉评级'][i]\n",
    "    break_contract_str = enterprise_info['是否违约'][i]\n",
    "    break_contract = True if break_contract_str=='是' else False\n",
    "    enterprise_object=Enterprise(number,name,credit_rating,break_contract)\n",
    "    enterprise_dic[number]=enterprise_object"
   ]
  },
  {
   "cell_type": "code",
   "execution_count": 11,
   "metadata": {},
   "outputs": [],
   "source": [
    "invoice_in = pd.read_csv('./C/1_in.csv')\n",
    "N_in = invoice_in.shape[0]"
   ]
  },
  {
   "cell_type": "code",
   "execution_count": 12,
   "metadata": {},
   "outputs": [],
   "source": [
    "from datetime import date\n",
    "def get_date(date_str):\n",
    "    y,m,d=date_str.split('/')\n",
    "    if len(m) != 2:\n",
    "        m = '0' + m\n",
    "    if len(d) != 2:\n",
    "        d = '0' + d\n",
    "    return date.fromisoformat(y+'-'+m+'-'+d)"
   ]
  },
  {
   "cell_type": "code",
   "execution_count": 13,
   "metadata": {},
   "outputs": [],
   "source": [
    "for i in range(N_in):\n",
    "    enterprise_name = invoice_in['企业代号'][i]\n",
    "    number = invoice_in['发票号码'][i]\n",
    "    date_str = invoice_in['开票日期'][i]\n",
    "    date = get_date(date_str)\n",
    "    self_enterprise = enterprise_dic[enterprise_name]\n",
    "    partner = invoice_in['销方单位代号'][i]\n",
    "    amount = invoice_in['金额'][i]\n",
    "    tax = invoice_in['税额'][i]\n",
    "    sum_money = invoice_in['价税合计'][i]\n",
    "    state_available_str = invoice_in['发票状态'][i]\n",
    "    state_available = True if state_available_str == '有效发票' else False\n",
    "    invoice_object = Invoice(number,date,self_enterprise,partner,amount,tax,sum_money,state_available,True)\n",
    "    self_enterprise.add_invoice(invoice_object)"
   ]
  },
  {
   "cell_type": "code",
   "execution_count": 14,
   "metadata": {},
   "outputs": [],
   "source": [
    "invoice_out = pd.read_csv('./C/1_out.csv')\n",
    "N_out = invoice_out.shape[0]"
   ]
  },
  {
   "cell_type": "code",
   "execution_count": 15,
   "metadata": {},
   "outputs": [],
   "source": [
    "for i in range(N_out):\n",
    "    enterprise_name = invoice_out['企业代号'][i]\n",
    "    number = invoice_out['发票号码'][i]\n",
    "    date_str = invoice_out['开票日期'][i]\n",
    "    date = get_date(date_str)\n",
    "    self_enterprise = enterprise_dic[enterprise_name]\n",
    "    partner = invoice_out['购方单位代号'][i]\n",
    "    amount = invoice_out['金额'][i]\n",
    "    tax = invoice_out['税额'][i]\n",
    "    sum_money = invoice_out['价税合计'][i]\n",
    "    state_available_str = invoice_out['发票状态'][i]\n",
    "    state_available = True if state_available_str == '有效发票' else False\n",
    "    invoice_object = Invoice(number,date,self_enterprise,partner,amount,tax,sum_money,state_available,False)\n",
    "    self_enterprise.add_invoice(invoice_object)"
   ]
  },
  {
   "cell_type": "code",
   "execution_count": 16,
   "metadata": {},
   "outputs": [],
   "source": [
    "for enterprise in enterprise_dic.values():\n",
    "    enterprise.invoice_list.sort(key=lambda x:x.date)"
   ]
  },
  {
   "cell_type": "code",
   "execution_count": 17,
   "metadata": {},
   "outputs": [
    {
     "output_type": "error",
     "ename": "KeyboardInterrupt",
     "evalue": "",
     "traceback": [
      "\u001b[0;31m---------------------------------------------------------------------------\u001b[0m",
      "\u001b[0;31mKeyboardInterrupt\u001b[0m                         Traceback (most recent call last)",
      "\u001b[0;32m<ipython-input-17-357be8052859>\u001b[0m in \u001b[0;36m<module>\u001b[0;34m\u001b[0m\n\u001b[1;32m      6\u001b[0m         \u001b[0mtemp\u001b[0m \u001b[0;34m=\u001b[0m \u001b[0minvoice\u001b[0m\u001b[0;34m\u001b[0m\u001b[0;34m\u001b[0m\u001b[0m\n\u001b[1;32m      7\u001b[0m         \u001b[0;32mif\u001b[0m \u001b[0minvoice\u001b[0m\u001b[0;34m.\u001b[0m\u001b[0mdate\u001b[0m\u001b[0;34m!=\u001b[0m\u001b[0mcurrent_date\u001b[0m\u001b[0;34m:\u001b[0m\u001b[0;34m\u001b[0m\u001b[0;34m\u001b[0m\u001b[0m\n\u001b[0;32m----> 8\u001b[0;31m             \u001b[0mframe\u001b[0m \u001b[0;34m=\u001b[0m \u001b[0mframe\u001b[0m\u001b[0;34m.\u001b[0m\u001b[0mappend\u001b[0m\u001b[0;34m(\u001b[0m\u001b[0;34m[\u001b[0m\u001b[0;34m{\u001b[0m\u001b[0;34m'日期'\u001b[0m\u001b[0;34m:\u001b[0m\u001b[0mcurrent_date\u001b[0m\u001b[0;34m,\u001b[0m\u001b[0;34m'资金'\u001b[0m\u001b[0;34m:\u001b[0m\u001b[0msum\u001b[0m\u001b[0;34m,\u001b[0m\u001b[0;34m'企业代号'\u001b[0m\u001b[0;34m:\u001b[0m\u001b[0menterprise\u001b[0m\u001b[0;34m.\u001b[0m\u001b[0mnumber\u001b[0m\u001b[0;34m,\u001b[0m\u001b[0;34m'信誉评级'\u001b[0m\u001b[0;34m:\u001b[0m\u001b[0menterprise\u001b[0m\u001b[0;34m.\u001b[0m\u001b[0mcredit_rating\u001b[0m\u001b[0;34m}\u001b[0m\u001b[0;34m]\u001b[0m\u001b[0;34m,\u001b[0m\u001b[0mignore_index\u001b[0m\u001b[0;34m=\u001b[0m\u001b[0;32mTrue\u001b[0m\u001b[0;34m)\u001b[0m\u001b[0;34m\u001b[0m\u001b[0;34m\u001b[0m\u001b[0m\n\u001b[0m\u001b[1;32m      9\u001b[0m             \u001b[0mcurrent_date\u001b[0m \u001b[0;34m=\u001b[0m \u001b[0minvoice\u001b[0m\u001b[0;34m.\u001b[0m\u001b[0mdate\u001b[0m\u001b[0;34m\u001b[0m\u001b[0;34m\u001b[0m\u001b[0m\n\u001b[1;32m     10\u001b[0m         \u001b[0;32mif\u001b[0m \u001b[0minvoice\u001b[0m\u001b[0;34m.\u001b[0m\u001b[0mbuy_in\u001b[0m \u001b[0;34m==\u001b[0m \u001b[0;32mTrue\u001b[0m\u001b[0;34m:\u001b[0m\u001b[0;34m\u001b[0m\u001b[0;34m\u001b[0m\u001b[0m\n",
      "\u001b[0;31mKeyboardInterrupt\u001b[0m: "
     ]
    }
   ],
   "source": [
    "frame = pd.DataFrame(columns=['日期','资金','企业代号','信誉评级'])\n",
    "for enterprise in enterprise_dic.values():\n",
    "    sum = 0\n",
    "    current_date = enterprise.invoice_list[0].date\n",
    "    for invoice in enterprise.invoice_list:\n",
    "        temp = invoice\n",
    "        if invoice.date!=current_date:\n",
    "            frame = frame.append([{'日期':current_date,'资金':sum,'企业代号':enterprise.number,'信誉评级':enterprise.credit_rating}],ignore_index=True)\n",
    "            current_date = invoice.date\n",
    "        if invoice.buy_in == True:\n",
    "            sum = sum - invoice.sum_money\n",
    "        else:\n",
    "            sum = sum + invoice.amount\n",
    "    frame = frame.append([{'日期':temp.date,'资金':sum,'企业代号':enterprise.number,'信誉评级':enterprise.credit_rating}],ignore_index=True)\n"
   ]
  },
  {
   "cell_type": "code",
   "execution_count": null,
   "metadata": {},
   "outputs": [],
   "source": [
    "graph = px.line(frame, x=\"日期\", y=\"资金\",color='企业代号',category_orders={\"信誉评级\": [\"A\",\"B\", \"C\", \"D\"]},  render_mode=\"auto\")\n",
    "graph.write_html('./1_graph/total.html')"
   ]
  },
  {
   "cell_type": "code",
   "execution_count": null,
   "metadata": {},
   "outputs": [],
   "source": [
    "frame.to_csv(\"./C/收益波动_日期.csv\",index=False,sep=',',encoding='utf_8_sig')"
   ]
  },
  {
   "cell_type": "code",
   "execution_count": null,
   "metadata": {},
   "outputs": [],
   "source": [
    "frame2 = pd.DataFrame(columns=['天数','资金','企业代号','信誉评级'])\n",
    "for i in range(frame.shape[0]-1):\n",
    "    if frame['企业代号'][i+1]==frame['企业代号'][i]:\n",
    "        frame2 = frame2.append([{'天数':(frame['日期'][i+1]-frame['日期'][i]).days,'资金':frame['资金'][i],'企业代号':frame['企业代号'][i],'信誉评级':frame['信誉评级'][i]}],ignore_index=True)\n"
   ]
  },
  {
   "cell_type": "code",
   "execution_count": null,
   "metadata": {},
   "outputs": [],
   "source": [
    "frame2 = frame2.sort_values(by=['资金','企业代号'],axis=0,ascending=[True,True]).reset_index(drop=True)"
   ]
  },
  {
   "cell_type": "code",
   "execution_count": null,
   "metadata": {},
   "outputs": [],
   "source": [
    "graph2 = px.scatter(frame2, x=\"资金\", y=\"天数\",color='企业代号',category_orders={\"信誉评级\": [\"A\",\"B\", \"C\", \"D\"]})\n",
    "graph2.write_html('./1_graph/money.html')"
   ]
  },
  {
   "cell_type": "code",
   "execution_count": null,
   "metadata": {},
   "outputs": [],
   "source": [
    "len(enterprise_info[enterprise_info.信誉评级 == 'D']) # A 27 B 38 C 34 D 24"
   ]
  },
  {
   "cell_type": "code",
   "execution_count": null,
   "metadata": {},
   "outputs": [],
   "source": [
    "frame2"
   ]
  },
  {
   "cell_type": "code",
   "execution_count": null,
   "metadata": {},
   "outputs": [],
   "source": [
    "frame3 = pd.DataFrame(columns=['天数','资金','企业代号','信誉评级','是否违约'])\n",
    "for enterprise in enterprise_dic.values():\n",
    "    sum=0\n",
    "    temp = frame2[frame2.企业代号 == enterprise.number].reset_index(drop=True)\n",
    "    for i in range(temp.shape[0]):\n",
    "        sum = sum + temp['天数'][i]\n",
    "        frame3 = frame3.append([{'天数':sum,'资金':temp['资金'][i],'企业代号':temp['企业代号'][i],'信誉评级':temp['信誉评级'][i],'是否违约':('是' if enterprise.break_contract == True else '否')}],ignore_index=True)"
   ]
  },
  {
   "cell_type": "code",
   "execution_count": null,
   "metadata": {},
   "outputs": [],
   "source": [
    "frame3"
   ]
  },
  {
   "cell_type": "code",
   "execution_count": null,
   "metadata": {},
   "outputs": [],
   "source": [
    "frame3 = frame3.sort_values(by=['企业代号','天数'],axis=0,ascending=[True,True]).reset_index(drop=True)"
   ]
  },
  {
   "cell_type": "code",
   "execution_count": null,
   "metadata": {},
   "outputs": [],
   "source": [
    "graph3 = px.line(frame3, x=\"资金\", y=\"天数\",color='企业代号',category_orders={\"信誉评级\": [\"A\",\"B\", \"C\", \"D\"]},  render_mode=\"auto\")\n",
    "graph3.write_html('./1_graph/money2.html')"
   ]
  },
  {
   "cell_type": "code",
   "execution_count": null,
   "metadata": {},
   "outputs": [],
   "source": [
    "frame4 = pd.DataFrame(columns=['频率','资金','企业代号','信誉评级','是否违约'])\n",
    "for enterprise in enterprise_dic.values():\n",
    "    temp = frame3[frame3.企业代号 == enterprise.number].reset_index(drop=True)\n",
    "    max = temp['天数'][len(temp['天数'])-1]\n",
    "    for i in range(temp.shape[0]):\n",
    "        frame4 = frame4.append([{'频率':temp['天数'][i]/max,'资金':temp['资金'][i],'企业代号':temp['企业代号'][i],'信誉评级':temp['信誉评级'][i],'是否违约':('是' if enterprise.break_contract == True else '否')}],ignore_index=True)"
   ]
  },
  {
   "cell_type": "code",
   "execution_count": null,
   "metadata": {},
   "outputs": [],
   "source": [
    "graph4 = px.line(frame4, x=\"资金\", y=\"频率\",color='企业代号',category_orders={\"信誉评级\": [\"A\",\"B\", \"C\", \"D\"]},  render_mode=\"auto\")\n",
    "graph4.write_html('./1_graph/money3.html')"
   ]
  },
  {
   "cell_type": "code",
   "execution_count": null,
   "metadata": {},
   "outputs": [],
   "source": [
    "def poly(frame):\n",
    "    var_error={}\n",
    "    poly1d_dic={}\n",
    "    assert len(frame[frame.企业代号 != frame['企业代号'][0]]) == 0\n",
    "    x = np.array(frame['资金'])\n",
    "    y = np.array(frame['频率'])\n",
    "\n",
    "    for i in range(1,4):\n",
    "        fi=np.polyfit(x, y, i)\n",
    "        poly1d_dic[i]=np.poly1d(fi)\n",
    "        var_error[i]=np.var(np.abs(np.polyval(fi,x)-y))\n",
    "\n",
    "    '''\n",
    "    f1 = np.polyfit(x, y, 1)\n",
    "    p1 = np.poly1d(f1)\n",
    "    poly1d_dic[1]=p1\n",
    "    var_error[1]=np.var(np.abs(np.polyval(f1,x)-y))\n",
    "\n",
    "    f2 = np.polyfit(x, y, 2)\n",
    "    p2 = np.poly1d(f2)\n",
    "    poly1d_dic[2]=p2\n",
    "    var_error[2]=np.var(np.abs(np.polyval(f2,x)-y))\n",
    "\n",
    "    f3 = np.polyfit(x, y, 3)\n",
    "    p3 = np.poly1d(f3)\n",
    "    poly1d_dic[3]=p3\n",
    "    var_error[3]=np.var(np.abs(np.polyval(f3,x)-y))\n",
    "\n",
    "    f4 = np.polyfit(x, y, 4)\n",
    "    p4 = np.poly1d(f4)\n",
    "    poly1d_dic[4]=p4\n",
    "    var_error[4]=np.var(np.abs(np.polyval(f4,x)-y))\n",
    "    '''\n",
    "    return (poly1d_dic[min(var_error,key=lambda x:var_error[x])])\n",
    "\n",
    "    p=poly1d_dic[min(var_error,key=lambda x:var_error[x])]\n",
    "    yvals = p(x)\n",
    "    plot1 = plt.plot(x, y, 's',label='original values')\n",
    "    plot2 = plt.plot(x, yvals, 'r',label='polyfit values')\n",
    "    plt.xlabel('x')\n",
    "    plt.ylabel('y')\n",
    "    plt.legend(loc=4) #指定legend的位置右下角\n",
    "    plt.title('polyfitting')\n",
    "    plt.show()\n",
    "    print(var_error.values())\n",
    "    return (min(var_error,key=lambda x:var_error[x]))"
   ]
  },
  {
   "cell_type": "code",
   "execution_count": null,
   "metadata": {},
   "outputs": [],
   "source": [
    "data_rate_and_loss = pd.read_csv(\"./C/rate_and_loss.csv\")\n",
    "def calc_alpha(r, credit_rating):\n",
    "    for i in range(data_rate_and_loss.shape[0]):\n",
    "        if data_rate_and_loss[\"贷款年利率\"][i] == r:\n",
    "            return data_rate_and_loss[credit_rating][i]\n",
    "\n",
    "def calc_beta(A, F):\n",
    "    return F(A)\n",
    "\n",
    "def calc_gamma(credit_rating, break_contract):\n",
    "    c = {\"A\": 1, \"B\": 0.9, \"C\": 0.7}\n",
    "    b = {True: 0.5, False: 1}\n",
    "    return c[credit_rating] * b[break_contract]\n",
    "\n",
    "def calc_A_(A, F, f,enterprise: \"Enterprise\"):\n",
    "    #v, err = integrate.quad(F, -np.inf, A)\n",
    "    lower = frame4[frame4.企业代号 == enterprise.number].reset_index(drop=True)['资金'][0]\n",
    "    #print(lower,F(lower))\n",
    "    v = F.integ()(A)-F.integ()(lower)\n",
    "    return (A * F(A)- lower * F(lower) - v) / (F(A)-F(lower))\n",
    "\n",
    "def calc_expect_profit(A, r, enterprise: \"Enterprise\",F):\n",
    "    alpha = calc_alpha(r, enterprise.credit_rating) # 客户流失率\n",
    "    beta = calc_beta(A,F) # 资金抵债率\n",
    "    gamma = calc_gamma(enterprise.credit_rating, enterprise.break_contract) # 企业信誉系数\n",
    "    f=F.deriv()\n",
    "    A_ = calc_A_(A,F,f,enterprise) # 无法还债时的期望剩余资金\n",
    "    '''\n",
    "    print('beta: ',beta)\n",
    "    print('gamma: ',gamma)\n",
    "    print('A_: ',A_)\n",
    "    print('(A_ / gamma - A * (1 + r)) :',(A_ / gamma - A * (1 + r)))\n",
    "    print('(A * r): ',(A * r))\n",
    "    '''\n",
    "    return (beta * (A_ / gamma - A) + (1 - beta) * (A * r)) * (1 - alpha)"
   ]
  },
  {
   "cell_type": "code",
   "execution_count": null,
   "metadata": {
    "tags": []
   },
   "outputs": [],
   "source": [
    "\n",
    "for enterprise in enterprise_dic.values():\n",
    "    enterprise=enterprise_dic['E81']\n",
    "    #print(enterprise.number)\n",
    "    temp = frame4[frame4.企业代号 == enterprise.number].reset_index(drop=True)\n",
    "    #poly(temp)\n",
    "    print(calc_expect_profit(100000,0.0425,enterprise,poly(temp)))\n",
    "\n",
    "    break"
   ]
  },
  {
   "cell_type": "code",
   "execution_count": null,
   "metadata": {
    "tags": []
   },
   "outputs": [],
   "source": [
    "for enterprise in enterprise_dic.values():\n",
    "    temp = frame3[frame3.企业代号 == enterprise.number].reset_index(drop=True)\n",
    "    max = temp['天数'][0]\n",
    "    print(max)\n",
    "    break"
   ]
  },
  {
   "cell_type": "code",
   "execution_count": null,
   "metadata": {},
   "outputs": [],
   "source": [
    "frame4[frame4.企业代号 == 'E1'].reset_index(drop=True)"
   ]
  },
  {
   "cell_type": "code",
   "execution_count": null,
   "metadata": {},
   "outputs": [],
   "source": [
    "frame1 = pd.DataFrame(columns=['日期','资金','企业代号','信誉评级'])\n",
    "for enterprise in enterprise_dic.values():\n",
    "    temp = frame[frame.企业代号 == enterprise.number].reset_index(drop=True)\n",
    "    first_date = temp['日期'][0]\n",
    "    for i in range(temp.shape[0]):\n",
    "        frame1 = frame1.append([{'日期':(temp['日期'][i]-first_date).days,'资金':temp['资金'][i],'企业代号':temp['企业代号'][i],'信誉评级':temp['信誉评级'][i],'是否违约':('是' if enterprise.break_contract == True else '否')}],ignore_index=True)"
   ]
  },
  {
   "cell_type": "code",
   "execution_count": 19,
   "metadata": {},
   "outputs": [],
   "source": [
    "#frame1.to_csv(\"./C/收益波动.csv\",index=False,sep=',',encoding='utf_8_sig')\n",
    "frame1 = pd.read_csv(\"./C/收益波动.csv\")"
   ]
  },
  {
   "cell_type": "code",
   "execution_count": null,
   "metadata": {
    "tags": []
   },
   "outputs": [],
   "source": [
    "# 线性回归LinearRegression\n",
    "from sklearn.linear_model import LinearRegression\n",
    "from sklearn.metrics import mean_squared_error, r2_score\n",
    "\n",
    "x_data = np.array(frame1[frame1.企业代号 == 'E81']['日期']).reshape(-1, 1)\n",
    "y_data = np.array(frame1[frame1.企业代号 == 'E81']['资金']).reshape(-1, 1)\n",
    "\n",
    "# 数据分割\n",
    "from sklearn.model_selection import train_test_split\n",
    "x_train, x_test, y_train, y_test = train_test_split(x_data, y_data, test_size=0.3)\n",
    "\n",
    "model = LinearRegression()\n",
    "model.fit(x_train, y_train)\n",
    "y_pred = model.predict(x_test)\n",
    "print (\"MSE =\", mean_squared_error(y_test, y_pred),end='\\n\\n')\n",
    "print (\"R2  =\", r2_score(y_test, y_pred),end='\\n\\n')\n",
    "\n",
    "# 画图\n",
    "fig, ax = plt.subplots()\n",
    "ax.scatter(y_test, y_pred, c=\"blue\", edgecolors=\"aqua\",s=13)\n",
    "ax.plot([y_test.min(), y_test.max()], [y_test.min(), y_test.max()], 'k', lw=2, color='navy')\n",
    "ax.set_xlabel('Reality')\n",
    "ax.set_ylabel('Prediction')\n",
    "plt.show()\n",
    "\n"
   ]
  },
  {
   "cell_type": "code",
   "execution_count": null,
   "metadata": {},
   "outputs": [],
   "source": [
    "x = np.linspace(start=700,stop=1000).reshape(-1, 1)\n",
    "y = model.predict(x).reshape(-1, 1)\n",
    "\n",
    "fig, ax = plt.subplots()\n",
    "ax.plot(x, y)\n",
    "plt.show()"
   ]
  },
  {
   "cell_type": "code",
   "execution_count": null,
   "metadata": {
    "tags": []
   },
   "outputs": [],
   "source": [
    "# 线性回归LinearRegression\n",
    "from sklearn.ensemble import RandomForestRegressor\n",
    "from sklearn.svm import SVR\n",
    "from sklearn.metrics import mean_squared_error, r2_score\n",
    "enterprise_number = 'E81'\n",
    "temp = frame1[frame1.企业代号 == enterprise_number].reset_index(drop=True)\n",
    "N=len(temp['日期'])\n",
    "days = temp['日期'][N-1]\n",
    "x_data = np.array(temp['日期']).reshape(-1, 1)\n",
    "y_data = np.array(temp['资金']).reshape(-1, 1)\n",
    "\n",
    "# 数据分割\n",
    "from sklearn.model_selection import train_test_split\n",
    "x_train, x_test, y_train, y_test = train_test_split(x_data, y_data, test_size=0.3)\n",
    "\n",
    "model = RandomForestRegressor()\n",
    "model.fit(x_train, y_train)\n",
    "y_pred = model.predict(x_test)\n",
    "'''\n",
    "print (\"MSE =\", mean_squared_error(y_test, y_pred),end='\\n\\n')\n",
    "print (\"R2  =\", r2_score(y_test, y_pred),end='\\n\\n')\n",
    "'''\n",
    "# 画图\n",
    "fig, ax = plt.subplots()\n",
    "ax.scatter(y_test, y_pred, c=\"blue\", edgecolors=\"aqua\",s=13)\n",
    "ax.plot([y_test.min(), y_test.max()], [y_test.min(), y_test.max()], 'k', lw=2, color='navy')\n",
    "ax.set_xlabel('Reality')\n",
    "ax.set_ylabel('Prediction')\n",
    "plt.show()\n",
    "\n",
    "\n",
    "x_pre = np.linspace(start = days, stop = days + 365).reshape(-1, 1)\n",
    "y_pre = model.predict(x_pre)\n",
    "\n",
    "fig, ax = plt.subplots()\n",
    "ax.plot(x_data,y_data)\n",
    "plt.show()\n",
    "\n",
    "fig, ax = plt.subplots()\n",
    "ax.plot(x_pre,y_pre)\n",
    "plt.show()\n",
    "\n",
    "\n",
    "for y in y_pre:\n",
    "    print(y)"
   ]
  },
  {
   "cell_type": "code",
   "execution_count": null,
   "metadata": {},
   "outputs": [],
   "source": [
    "# SVR模型linear核\n",
    "from sklearn.svm import SVR\n",
    "from sklearn.model_selection import cross_val_predict, cross_val_score\n",
    "from datetime import timedelta\n",
    "linear_svr = SVR(kernel='linear')#\n",
    "enterprise_number = 'E9'\n",
    "temp = frame1[frame1.企业代号 == enterprise_number].reset_index(drop=True)\n",
    "N=len(temp['日期'])\n",
    "days = temp['日期'][N-1]\n",
    "x_data = np.array(temp['日期']).reshape(-1, 1)\n",
    "y_data = np.array(temp['资金']).reshape(-1, 1)\n",
    "last_money = temp['资金'][N-1]\n",
    "\n",
    "# 数据分割\n",
    "from sklearn.model_selection import train_test_split\n",
    "x_train, x_test, y_train, y_test = train_test_split(x_data, y_data, test_size=0.3)\n",
    "linear_svr.fit(x_train, y_train)\n",
    "linear_pred = linear_svr.predict(x_test)\n",
    "linear_svr_pred = cross_val_predict(linear_svr, x_train, y_train, cv=5)\n",
    "linear_svr_score = cross_val_score(linear_svr, x_train, y_train, cv=5)\n",
    "linear_svr_meanscore = linear_svr_score.mean()\n",
    "print (\"Linear_SVR_Score =\",linear_svr_meanscore,end='\\n')\n",
    "\n",
    "fig, ax = plt.subplots()\n",
    "ax.scatter(y_test, linear_pred, c=\"blue\", edgecolors=\"aqua\",s=13)\n",
    "ax.plot([y_test.min(), y_test.max()], [y_test.min(), y_test.max()], 'k', lw=2, color='navy')\n",
    "ax.set_xlabel('Reality')\n",
    "ax.set_ylabel('Prediction')\n",
    "plt.show()\n",
    "\n",
    "x_pre = np.linspace(start = days, stop = days + 365).reshape(-1, 1)\n",
    "y_pre = linear_svr.predict(x_pre)\n",
    "\n",
    "k = y_pre[1]-y_pre[0]\n",
    "\n",
    "delta = y_pre[0]-last_money\n",
    "for i in range(len(y_pre)):\n",
    "    y_pre[i] = y_pre[i]-delta\n",
    "for i in range(1,len(y_pre)):\n",
    "    y_pre[i] = y_pre[i-1] + k + np.random.randint(-5000000,5000000)\n",
    "\n",
    "fig, ax = plt.subplots()\n",
    "ax.plot(x_data,y_data)\n",
    "plt.show()\n",
    "\n",
    "fig, ax = plt.subplots()\n",
    "ax.plot(x_pre,y_pre)\n",
    "plt.show()\n",
    "\n",
    "temp1= frame[frame.企业代号 == enterprise_number].reset_index(drop=True)\n",
    "first_day = temp1['日期'][0]\n",
    "temp1 = temp1.append([{'日期':timedelta(days=x)+first_day,'资金':y,'企业代号':enterprise_number+\"_predict\"} for (x,y) in zip(np.linspace(start = days, stop = days + 365),y_pre)],ignore_index=True)\n",
    "\n",
    "graph = px.line(temp1, x=\"日期\", y=\"资金\",color='企业代号',  render_mode=\"auto\")\n",
    "graph.write_html('./1_graph/'+enterprise_number+'_predict.html')"
   ]
  },
  {
   "cell_type": "code",
   "execution_count": null,
   "metadata": {
    "tags": []
   },
   "outputs": [],
   "source": [
    "from sklearn.linear_model import LinearRegression\n",
    "from sklearn.metrics import mean_squared_error, r2_score\n",
    "\n",
    "def predict(frame_predict):\n",
    "    N=len(frame_predict['日期'])\n",
    "    days=frame_predict['日期'][len(frame_predict['日期'])-1]\n",
    "    x_data = np.array(frame_predict['日期']).reshape(-1, 1)\n",
    "    y_data = np.array(frame_predict['资金']).reshape(-1, 1)\n",
    "\n",
    "    # 数据分割\n",
    "    from sklearn.model_selection import train_test_split\n",
    "    x_train, x_test, y_train, y_test = train_test_split(x_data, y_data, test_size=0.1)\n",
    "\n",
    "    model = LinearRegression()\n",
    "    model.fit(x_train, y_train.astype(\"int\"))\n",
    "    y_pred = model.predict(x_test)\n",
    "    \n",
    "    '''\n",
    "    print (\"MSE =\", mean_squared_error(y_test, y_pred),end='\\n\\n')\n",
    "    print (\"R2  =\", r2_score(y_test, y_pred),end='\\n\\n')\n",
    "\n",
    "    # 画图\n",
    "    fig, ax = plt.subplots()\n",
    "    ax.scatter(y_test, y_pred, c=\"blue\", edgecolors=\"aqua\",s=13)\n",
    "    ax.plot([y_test.min(), y_test.max()], [y_test.min(), y_test.max()], 'k', lw=2, color='navy')\n",
    "    ax.set_xlabel('Reality')\n",
    "    ax.set_ylabel('Prediction')\n",
    "    plt.show()\n",
    "    \n",
    "    fig, ax = plt.subplots()\n",
    "    ax.plot(x_data,y_data)\n",
    "    plt.show()\n",
    "'''\n",
    "    return model.predict(np.array([days+365]).reshape(-1, 1))[0]-frame_predict['资金'][N-1]"
   ]
  },
  {
   "cell_type": "code",
   "execution_count": 94,
   "metadata": {
    "tags": []
   },
   "outputs": [],
   "source": [
    "from scipy.stats import norm\n",
    "from Enterprise import Enterprise\n",
    "\n",
    "def calc(enterprise, A, r):\n",
    "    temp = frame1[frame1.企业代号 == enterprise.number].reset_index(drop=True)\n",
    "    #remain = predict(temp)\n",
    "    #beta = 1.0 * A / remain[0] * 0.5\n",
    "    beta = np.random.randint(5,15)/1000\n",
    "    #if (remain[0] < 0):\n",
    "    #    return -1\n",
    "\n",
    "    gamma = calc_gamma(enterprise.credit_rating, enterprise.break_contract)\n",
    "    #EL =  remain[0] / gamma - A\n",
    "    EL = -A\n",
    "    alpha = calc_alpha(r, enterprise.credit_rating)\n",
    "\n",
    "    '''\n",
    "    print(enterprise.number)\n",
    "    print(\"remain=\", remain[0])\n",
    "    print(\"beta=\", beta)\n",
    "    print(\"gamma=\", gamma)\n",
    "    print(\"EL=\", EL)\n",
    "    print(\"alpha=\", alpha)\n",
    "\n",
    "    '''\n",
    "\n",
    "    return 1.0 * (A * r * (1 - beta) + EL * beta) * (1 - alpha)"
   ]
  },
  {
   "cell_type": "code",
   "execution_count": null,
   "metadata": {
    "tags": []
   },
   "outputs": [],
   "source": [
    "As = {}\n",
    "for enterprise in enterprise_dic.values():\n",
    "    temp = frame1[frame1.企业代号 == enterprise.number].reset_index(drop=True)\n",
    "    N = temp.shape[0]\n",
    "    days = temp['日期'][N-1]\n",
    "    min_days = 365\n",
    "    min_index = 0\n",
    "    for i in range(N):\n",
    "        if abs(days-temp['日期'][i]-365)<min_days:\n",
    "            min_days=abs(days-temp['日期'][i]-365)\n",
    "            min_index = i\n",
    "    '''\n",
    "    print('min_days:',min_days)\n",
    "    print('min_index:',min_index)\n",
    "    '''\n",
    "    delta = temp['资金'][N-1] - temp['资金'][min_index]\n",
    "    As[enterprise.number] = delta/3\n",
    "    #break\n",
    "As"
   ]
  },
  {
   "cell_type": "code",
   "execution_count": 81,
   "metadata": {},
   "outputs": [],
   "source": [
    "rates = list(data_rate_and_loss[\"贷款年利率\"])\n",
    "#As = [100000, 120000, 140000, 160000, 180000, 200000, 220000, 240000, 260000, 280000, 300000, 350000, 400000, 450000, 500000, 550000, 600000, 650000, 700000, 800000, 900000, 1000000]\n",
    "for en_num in As.keys():\n",
    "    if As[en_num]>1000000:\n",
    "        As[en_num]=1000000\n",
    "    if As[en_num]<0:\n",
    "        As[en_num]=0"
   ]
  },
  {
   "cell_type": "code",
   "execution_count": null,
   "metadata": {},
   "outputs": [],
   "source": [
    "frame5 = pd.DataFrame(columns=['预期收益','贷款金额','年利率'])"
   ]
  },
  {
   "cell_type": "code",
   "execution_count": 95,
   "metadata": {
    "tags": []
   },
   "outputs": [
    {
     "output_type": "stream",
     "name": "stdout",
     "text": "E2 1000000 33182.304631727 0.0665\nE3 1000000 35310.054954590996 0.0465\nE4 1000000 37264.9730800975 0.0665\nE6 1000000 34800.0 0.04\nE7 1000000 34358.919333795 0.0545\nE8 1000000 32918.89690875 0.0625\nE9 1000000 33771.1289090225 0.0665\nE10 1000000 36315.348560110004 0.0665\nE12 1000000 34878.137681168 0.0585\nE13 1000000 31680.0 0.04\nE14 1000000 36615.231080017 0.0665\nE15 1000000 33760.0 0.04\nE16 1000000 35084.759739885 0.0505\nE17 1000000 35666.3784755475 0.0465\nE18 1000000 32952.993966576 0.0465\nE22 1000000 33345.968864046 0.0585\nE24 1000000 35666.3784755475 0.0465\nE25 1000000 36186.198903238 0.0505\nE28 1000000 35682.163956532 0.0665\nE29 1000000 37015.928728398 0.0585\nE30 1000000 35616.0356012095 0.0585\nE31 1000000 33271.342263564 0.0745\nE32 1000000 36353.933521251 0.0585\nE35 46077.78000000073 1628.694485393165 0.0625\nE38 1000000 36015.780963749996 0.0625\nE39 1000000 36186.198903238 0.0505\nE40 1000000 37188.139696875005 0.0625\nE41 1000000 37188.139696875005 0.0625\nE42 1000000 35084.759739885 0.0505\nE43 1000000 35900.267830200006 0.0505\nE46 514903.6099999817 19446.50035106895 0.0585\nE47 119228.82999999898 4234.204325882932 0.0585\nE48 1000000 32720.0 0.04\nE49 1000000 35703.447100469995 0.0825\nE50 1000000 35703.447100469995 0.0825\nE51 1000000 34316.71672221 0.0825\nE53 151261.95666666995 5440.210250704946 0.0665\nE54 1000000 34761.916972557 0.0465\nE55 698459.9633333416 26028.091731142864 0.0665\nE58 1000000 35290.7072689875 0.0705\nE59 687827.3200000016 23633.003403460458 0.0545\nE60 1000000 35600.7228463425 0.0545\nE61 1000000 35694.239113949996 0.0465\nE62 396727.2666666694 14160.877919423903 0.0465\nE63 690270.4399999982 23936.84603828318 0.0625\nE64 1000000 34761.916972557 0.0465\nE65 370103.10666666616 13440.423321779554 0.0665\nE66 727388.2033333333 25954.785131387234 0.0665\nE67 979414.076666667 35274.36285804013 0.0625\nE68 591616.5666666664 21917.20098231457 0.0505\nE69 1000000 36186.198903238 0.0505\nE70 96250.73666666355 3402.1396869385235 0.0625\nE71 134534.00333333327 4829.8067519356855 0.0505\nE72 428608.2033333336 15865.330706993393 0.0585\nE73 354472.52999999997 13387.457468184273 0.0585\nE74 695179.4999999992 24533.37623390106 0.0705\nE75 347733.7599999833 12610.423587766076 0.0585\nE76 511630.40333333635 17759.10693917624 0.0705\nE77 184778.77333333343 6616.241480092325 0.0625\nE78 412743.05333333556 15349.146326274813 0.0625\nE79 197933.16666666672 7065.073779581319 0.0465\nE80 1000000 36264.593888630996 0.0585\nE81 122998.09000000016 4152.546791404831 0.0425\nE84 474402.4333333303 16299.954938655956 0.0545\nE85 323851.62666666746 11559.637399681693 0.0465\nE86 523635.0033333334 18617.88656933786 0.0785\nE87 311414.7566666669 11293.329681443518 0.0585\nE88 326264.9333333348 11018.33512209368 0.0665\nE89 211171.1899999998 7236.880090338651 0.0505\nE90 717828.5966666671 25975.48837741222 0.0505\nE91 166730.92333333325 5645.084812158037 0.0465\nE92 661006.2599999998 23350.776072218672 0.0505\nE93 155023.45333333357 5635.7123167147665 0.0585\nE94 303878.4366666667 11248.34255375034 0.0585\nE95 182802.9133333338 6525.010899246695 0.0465\nE96 463326.02333333343 17498.55604121977 0.0585\nE97 211705.3133333331 7624.732193875386 0.0625\nE98 165914.26666666652 5773.816479999995 0.04\nE104 77909.90999999999 2903.310698822819 0.0665\nE105 49768.79333333318 1850.8088390248956 0.0625\nE106 95005.15666666652 3523.915257133581 0.0585\nE110 17961.023333333356 665.3893423956557 0.0505\n"
    }
   ],
   "source": [
    "i=0\n",
    "for enterprise in enterprise_dic.values():\n",
    "    #enterprise = enterprise_dic['E71']\n",
    "    #frame5 = pd.DataFrame(columns=['预期收益','贷款金额','年利率'])\n",
    "    if enterprise.credit_rating == \"D\" or As[enterprise.number]==0:\n",
    "        continue\n",
    "    ans = 0\n",
    "    ans_A = 0\n",
    "    ans_r = 0\n",
    "    A = As[enterprise.number]\n",
    "    for r in rates:\n",
    "        ans_ = calc(enterprise, A, r)\n",
    "        #frame5 = frame5.append([{'预期收益':ans_,'贷款金额':A,'年利率':r}],ignore_index=True)\n",
    "        # print(enterprise.number, ans_, A, r)\n",
    "        if (ans_>ans):\n",
    "            ans = ans_\n",
    "            ans_A = A\n",
    "            ans_r = r\n",
    "    #print(enterprise.number,ans)\n",
    "    print(enterprise.number, A, ans, ans_r)\n",
    "    #graph4 = px.scatter_3d(frame5, x=\"贷款金额\", y=\"年利率\",z='预期收益')\n",
    "    #graph4.write_html('./1_graph/预期收益/'+enterprise.number+'.html')"
   ]
  },
  {
   "cell_type": "code",
   "execution_count": null,
   "metadata": {},
   "outputs": [],
   "source": [
    "graph4 = px.scatter_3d(frame5, x=\"贷款金额\", y=\"年利率\",z='预期收益')\n",
    "graph4.write_image('./1_graph/预期收益/'+enterprise.number+'.png')"
   ]
  },
  {
   "cell_type": "code",
   "execution_count": null,
   "metadata": {},
   "outputs": [],
   "source": [
    "import plotly\n",
    "plotly.io.orca.config.executable = '/usr/bin/orca'\n",
    "plotly.io.orca.config.save()"
   ]
  },
  {
   "cell_type": "code",
   "execution_count": null,
   "metadata": {},
   "outputs": [],
   "source": [
    "#coding:utf-8\n",
    "import numpy as np\n",
    "import matplotlib.pyplot as plt\n",
    "import matplotlib\n",
    "import pandas as pd\n",
    "import math\n",
    "'''\n",
    "\n",
    "matplotlib.rcParams['font.sans-serif'] = ['SimHei']\n",
    "matplotlib.rcParams['font.serif'] = ['SimHei']\n",
    "matplotlib.rcParams['axes.unicode_minus'] = False\n",
    "'''\n",
    "#正态分布的概率密度函数。可以理解成 x 是 mu（均值）和 sigma（标准差）的函数\n",
    "def normfun(x,mu,sigma):\n",
    "    pdf = np.exp(-((x - mu)**2)/(2*sigma**2)) / (sigma * np.sqrt(2*np.pi))\n",
    "    return pdf\n",
    " \n",
    "mu = 100\n",
    "sigma =4\n",
    "# Python实现正态分布\n",
    "# 绘制正态分布概率密度函数\n",
    "x = np.linspace(mu - 3*sigma, mu + 3*sigma, 50)\n",
    "y_sig = np.exp(-(x - mu) ** 2 /(2* sigma **2))/(math.sqrt(2*math.pi)*sigma)\n",
    "plt.plot(x, y_sig, \"r-\", linewidth=2)\n",
    "plt.vlines(mu, 0, np.exp(-(mu - mu) ** 2 /(2* sigma **2))/(math.sqrt(2*math.pi)*sigma), colors = \"c\", linestyles = \"dashed\")\n",
    "plt.vlines(mu-sigma, 0, np.exp(-(mu-sigma - mu) ** 2 /(2* sigma **2))/(math.sqrt(2*math.pi)*sigma), colors = \"k\", linestyles = \"dotted\")\n",
    "plt.xticks ([mu-sigma,mu],['A','E(x)'])\n",
    "plt.xlabel('资金')\n",
    "plt.ylabel('概率密度')\n",
    "plt.title('')\n",
    "plt.annotate( u'\\u03B2', xytext=(90, 0.02), xy=(93, 0.01),arrowprops=dict(arrowstyle='simple'))\n",
    "#plt.grid(True)\n",
    "plt.savefig('./正态分布.png')\n",
    "plt.show()"
   ]
  },
  {
   "cell_type": "code",
   "execution_count": 7,
   "metadata": {},
   "outputs": [],
   "source": [
    "frame6 = pd.read_csv('./answer1.csv')\n",
    "graph = px.scatter(frame6, x=\"额度\", y=\"年利率\", size=\"预期收益\", color=\"企业代号\",hover_name=\"企业代号\", log_x=True, size_max=30)\n",
    "graph.write_html('./answer1.html')"
   ]
  },
  {
   "cell_type": "code",
   "execution_count": 43,
   "metadata": {
    "tags": []
   },
   "outputs": [],
   "source": [
    "k_mean_var_dic = {}\n",
    "for enterprise in enterprise_dic.values():\n",
    "    temp = frame1[frame1.企业代号 == enterprise.number].reset_index(drop=True)\n",
    "    N = temp.shape[0]\n",
    "    days = temp['日期'][N-1]\n",
    "    ks=[]\n",
    "    i=0\n",
    "    while temp['日期'][i] + 30 < days:\n",
    "        today = temp['日期'][i]\n",
    "        min_index = i\n",
    "        min_days = 1000\n",
    "        for j in range(i+1,N):\n",
    "            delta = temp['日期'][j] - temp['日期'][i] - 30\n",
    "            if abs(delta) < min_days:\n",
    "                min_days = abs(delta)\n",
    "                min_index = j\n",
    "            if delta > 0:\n",
    "                break\n",
    "        ks.append((temp['资金'][min_index] - temp['资金'][i])/(temp['日期'][min_index] - temp['日期'][i]))\n",
    "        i=min_index\n",
    "    k_mean_var_dic[enterprise.number] = [np.mean(ks),np.var(ks)]\n",
    "    #print(ks)\n",
    "    #print(np.var(ks))\n",
    "    #break\n",
    "#print(k_var_dic)\n"
   ]
  },
  {
   "cell_type": "code",
   "execution_count": 48,
   "metadata": {},
   "outputs": [],
   "source": [
    "frame7 = pd.DataFrame.from_dict(k_mean_var_dic,orient='index',columns=['增长率均值','增长率方差'])\n",
    "frame7 = frame7.reset_index().rename(columns={'index':'企业代号'})\n",
    "frame7.to_csv(\"./C/1_资金增长率均值方差.csv\",index=False,sep=',',encoding='utf_8_sig')"
   ]
  },
  {
   "cell_type": "code",
   "execution_count": null,
   "metadata": {},
   "outputs": [],
   "source": []
  }
 ],
 "metadata": {
  "language_info": {
   "name": "python",
   "codemirror_mode": {
    "name": "ipython",
    "version": 3
   },
   "version": "3.7.5-final"
  },
  "orig_nbformat": 2,
  "file_extension": ".py",
  "mimetype": "text/x-python",
  "name": "python",
  "npconvert_exporter": "python",
  "pygments_lexer": "ipython3",
  "version": 3,
  "kernelspec": {
   "name": "python37564bit7ce19d34b5d64e10aeb63e084aaca162",
   "display_name": "Python 3.7.5 64-bit"
  }
 },
 "nbformat": 4,
 "nbformat_minor": 2
}