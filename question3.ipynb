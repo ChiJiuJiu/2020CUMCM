{
 "cells": [
  {
   "cell_type": "code",
   "execution_count": 74,
   "metadata": {},
   "outputs": [],
   "source": [
    "import numpy as np\n",
    "import pandas as pd\n",
    "import plotly_express as px\n",
    "import matplotlib.pyplot as plt\n",
    "from Invoice import Invoice\n",
    "from Enterprise import Enterprise"
   ]
  },
  {
   "cell_type": "code",
   "execution_count": 75,
   "metadata": {},
   "outputs": [],
   "source": [
    "frame1 = pd.read_csv('./C/3_类型.csv')\n",
    "graph = px.scatter(frame1, x=\"x\", y=\"y\",text='名称',size='size', color=\"类型\",size_max=20)\n",
    "graph.write_html('./3.html')\n"
   ]
  },
  {
   "cell_type": "code",
   "execution_count": 76,
   "metadata": {
    "tags": []
   },
   "outputs": [
    {
     "output_type": "stream",
     "name": "stdout",
     "text": "-0.6146355275 3.3311457512500002 商业\n-0.07636197976190474 -1.4163842261904762 服务业\n8.783128668333333 -1.1277624586666668 工程\n4.847104245000001 -1.66025459 医药\n-4.1868999725 -2.1691959575 技术\n-3.693242466 4.295700412 文娱\n"
    }
   ],
   "source": [
    "sorts = [\"商业\",\"服务业\",\"工程\",\"医药\",\"技术\",\"文娱\"]\n",
    "for sort in sorts:\n",
    "    temp = frame1[frame1.类型 == sort].reset_index(drop=True)\n",
    "    N = temp.shape[0]\n",
    "    sum_x = 0\n",
    "    sum_y = 0\n",
    "    for i in range(N):\n",
    "        sum_x = sum_x + temp['x'][i]\n",
    "        sum_y = sum_y + temp['y'][i]\n",
    "    average_x = sum_x/N\n",
    "    average_y = sum_y/N\n",
    "    print(average_x,average_y,sort)\n"
   ]
  }
 ],
 "metadata": {
  "language_info": {
   "codemirror_mode": {
    "name": "ipython",
    "version": 3
   },
   "file_extension": ".py",
   "mimetype": "text/x-python",
   "name": "python",
   "nbconvert_exporter": "python",
   "pygments_lexer": "ipython3",
   "version": "3.7.5-final"
  },
  "orig_nbformat": 2,
  "kernelspec": {
   "name": "python37564bit7ce19d34b5d64e10aeb63e084aaca162",
   "display_name": "Python 3.7.5 64-bit"
  }
 },
 "nbformat": 4,
 "nbformat_minor": 2
}