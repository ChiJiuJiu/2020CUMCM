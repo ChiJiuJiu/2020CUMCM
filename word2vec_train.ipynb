{
 "metadata": {
  "language_info": {
   "codemirror_mode": {
    "name": "ipython",
    "version": 3
   },
   "file_extension": ".py",
   "mimetype": "text/x-python",
   "name": "python",
   "nbconvert_exporter": "python",
   "pygments_lexer": "ipython3",
   "version": "3.6.8-final"
  },
  "orig_nbformat": 2,
  "kernelspec": {
   "name": "python_defaultSpec_1599894515782",
   "display_name": "Python 3.6.8 64-bit"
  }
 },
 "nbformat": 4,
 "nbformat_minor": 2,
 "cells": [
  {
   "cell_type": "code",
   "execution_count": 3,
   "metadata": {},
   "outputs": [],
   "source": [
    "\"\"\"\n",
    "import sys\n",
    "reload(sys)\n",
    "sys.setdefaultencoding('utf8')\n",
    "\"\"\"\n",
    "from gensim.corpora.wikicorpus import extract_pages,filter_wiki\n",
    "import bz2file\n",
    "import re\n",
    "import opencc\n",
    "from tqdm import tqdm\n",
    "import codecs"
   ]
  },
  {
   "cell_type": "code",
   "execution_count": 4,
   "metadata": {},
   "outputs": [],
   "source": [
    "wiki = extract_pages(bz2file.open('./zhwiki-latest-pages-articles.xml.bz2'))"
   ]
  },
  {
   "cell_type": "code",
   "execution_count": 8,
   "metadata": {
    "tags": []
   },
   "outputs": [
    {
     "output_type": "stream",
     "name": "stderr",
     "text": "已获取1143800篇文章: : 3558026it [1:25:26, 693.98it/s]\n"
    }
   ],
   "source": [
    "cc = opencc.OpenCC('t2s')\n",
    "\n",
    "def wiki_replace(d):\n",
    "    s = d[1]\n",
    "    s = re.sub(':*{\\|[\\s\\S]*?\\|}', '', s)\n",
    "    s = re.sub('<gallery>[\\s\\S]*?</gallery>', '', s)\n",
    "    s = re.sub('(.){{([^{}\\n]*?\\|[^{}\\n]*?)}}', '\\\\1[[\\\\2]]', s)\n",
    "    s = filter_wiki(s)\n",
    "    s = re.sub('\\* *\\n|\\'{2,}', '', s)\n",
    "    s = re.sub('\\n+', '\\n', s)\n",
    "    s = re.sub('\\n[:;]|\\n +', '\\n', s)\n",
    "    s = re.sub('\\n==', '\\n\\n==', s)\n",
    "    s = u'【' + d[0] + u'】\\n' + s\n",
    "    return cc.convert(s).strip()\n",
    "    # return s.strip()\n",
    " \n",
    "i = 0\n",
    "f = codecs.open('wiki.txt', 'w', encoding='utf-8')\n",
    "w = tqdm(wiki, desc=u'已获取0篇文章')\n",
    "for d in w:\n",
    "    if not re.findall('^[a-zA-Z]+:', d[0]) and d[0] and not re.findall(u'^#', d[1]):\n",
    "        s = wiki_replace(d)\n",
    "        f.write(s+'\\n\\n\\n')\n",
    "        i += 1\n",
    "        if i % 100 == 0:\n",
    "            w.set_description(u'已获取%s篇文章'%i)\n",
    " \n",
    "f.close()"
   ]
  },
  {
   "cell_type": "code",
   "execution_count": 11,
   "metadata": {
    "tags": []
   },
   "outputs": [
    {
     "output_type": "stream",
     "name": "stdout",
     "text": "【哲学】\n\n\n\n苏格拉底之死，由雅克·路易·大卫所绘（1787年）\n\n哲学（philosophy）是研究普遍的、基本问题的学科，包括存在、知识、价值、理智、心灵、语言等领域。哲学与其他学科不同之处在于哲学有独特之思考方式，例如批判的方式、通常是系统化的方法，并以理性论证为基础。在日常用语中，哲学可被引申为个人或团体的最基本信仰、概念或态度，不过此处并非此定义。\n\n\n\n== 简介 ==\n\n\n\n=== 词源 ===\n\n英语词语Philosophy（philosophia）源于古希腊语中的φιλοσοφία，意思为「爱智慧」，有时也译为「智慧的朋友」，该词由φίλος（philos，爱）的派生词φιλεῖν（Philein，去爱）和σοφία（Sophia，智慧）组合而成。一般认为，古希腊思想家毕达哥拉斯最先在著作中引入“哲学家”和“哲学”这两个术语。\n\n“哲”一词在中国起源很早，如“孔门十哲”，“古圣先哲”等词，“哲”或“哲人”，专指那些善于思辨，学问精深者，即西方近世“哲学家”，“思想家”之谓。在《易经》当中已经开始讨论哲学问题，形而上学的中文名称取自《易经·系辞上传》「形而上者谓之道，形而下者谓之器」一语。1874年，日本启蒙家西周，在《百一新论》中首先用汉文「哲学」来翻译philosophy一词。\n\n\n\n=== 哲学的定义 ===\n\n英国哲学家罗素对哲学的定义是：哲学，就我对这个词的理解来说，乃是某种介乎神学与科学之间的东西。它和神学一样，包含着人类对于那些迄今仍为科学知识所不能肯定之事物的思考；但它又像科学一样，是诉之于人类的理性而不是诉之于权威的，不论是传统的权威还是启示的权威。一切确切的知识（罗素认为）都属于科学；一切涉及超乎确切知识之外的教条都属于神学。但介乎神学与科学之间还有一片受到双方攻击的无人之域，这片无人之域就是哲学。\n\n胡适在《中国哲学史大纲》中称「凡研究人生切要的问题，从根本上着想，要寻一个根本的解决：这种学问叫做哲学」。\n\n虽然哲学源自西方的传统，但许多文明在历史上都存在著一些相似的论题。东亚和南亚的哲学被称之为东方哲学，而北非和中东则因为其和欧洲密切的互动，因此常被视为是西方哲学的一部份。\n\n对哲学的主题亦存在许多看法。一些人认为哲学是对问题本身过程的审查；另外一些人则认为实质上存在著哲学必须去回答的哲学命题。\n\n*后现代主义把哲学定义为创造概念的学术。\n\n*哲学所涉及的研究范畴是其它学科的总和，它给出对世界本质的解释，在很大程度上影响着接受者的世界观。\n\n*哲学是研究范畴及其相互关系的一门学问。范畴涉及到一门学科的最基本研究对象、概念和内容，哲学具有一般方法论的功能。\n\n*哲学和其他承述问题方法的差异是有批判性的、有条理的方法以及以理性为基础的辩论。\n\n\n\n=== 研究基础 ===\n\n古希腊哲学家经常提出问题，他们所提出的问题大概可以归类为三类，这三类问题分别形成了哲学的基础学科——分别是形而上学、伦理学、知识论  。\n\n现代哲学上出现\"不要求精确理由\"之哲学理论，例如\"本质技巧\"(认定本质不可知)，这种现象将不可知论(世界上终究有人不能理解的存在)的重要程度提高了。\n\n自亚里士多德时代以来，在古典或者现代哲学当中，逻辑通常都扮演着重要的角色。特别是其提出的三段论，对西方哲学发展有着深远影响。\n\n\n\n== 分支 ==\n\n\n\n=== 主分支 ===\n\n哲学可以分为很多不同的分支，主要包括形而上学、知识论、伦理学、逻辑学和美学。\n\n* 逻辑学\n\n* 形而上学/宇宙论\n\n* 知识论\n\n* 伦理学/价值论\n\n* 美学\n\n\n\n=== 特殊分支 ===\n\n这些分支是应用在其他学科，或者交叉学科的哲学研究。\n\n* 后设哲学\n\n* 宗教哲学\n\n* 心灵哲学\n\n* 语言哲学\n\n* 科学哲学\n\n* 政治哲学\n\n* 法律哲学\n\n\n\n== 历史 ==\n\n很多人类社群思考过哲学问题并且互相学习建立了各种哲学流派。\n\n东方哲学是通过每个地区的历史时期来组织的。西方哲学一般可以分为三个或更多时期，最重要的是古典哲学、中世纪哲学和近代哲学。\n\n\n\n=== 古典哲学 ===\n\n\n\n==== 古印度 ====\n\n印度哲学的历史源远流长，早在吠陀时代已经开始，至公元前6世纪为全盛时期。当时古印度的思想界百花齐放，其中最著名的包括佛教创始人释迦牟尼佛、耆那教创始人笩駄摩那、阿耆多·翅舍钦婆罗、波拘陀·迦旃延、富兰那·迦叶、数论派等。\n\n\n\n==== 中国 ====\n\n中国哲学的主要部分起源东周时期，当时以诸子百家广为人知，以孔子的儒家、老子的道家、墨子的墨家及晚期的法家为代表，还有一些流派例如农家、阴阳家和名家在之后则名声不显。在秦朝焚书坑儒后除了法家、儒家、道家外其他流派都不再活跃。在当代，中国哲学仍然在亚洲文化扮演一定作用，但是学理上仍在争辩中国哲学是否应归为哲学。\n\n\n\n==== 古希腊-罗马 ====\n\n柏拉图（左）和亚里士多德（右）：裁剪自雅典学院，拉斐尔·圣齐奥作，1509\n\n古希腊-罗马哲学是西方哲学的一个时期，时间为公元前6世纪约585到公元6世纪。它一般被分为三个时期：前苏格拉底时期、柏拉图和亚里士多德的古典希腊时期、和后亚里士多德（或希腊化）时期：有时候会把新柏拉图主义和基督教哲学家们的古典时代晚期加入作为第四个时期。\n\n\n\n===== 前苏格拉底时期 =====\n\n在公元前6世纪的希腊，西方哲学就从古代神话和诗歌中脱颖而出，逐步开始对宇宙的组成以及本源的思考而开始了独立发展。前苏格拉底时期的自然派哲学家们多关注自然界，被认为是西方最早的哲学家，不管他们认识以及解释世界的方式是否正确，但是他们的想法之所以有别于迷信的原因在于，这些哲学家是以理性辅佐证据的方式归纳出自然界的现象。诸如：\n\n* 米利都学派，其代表有最早的哲学家泰勒斯，阿那克西曼德和阿那克西米尼以及色诺芬尼。皆是一元论者，即世界万物皆来自一个本源。如泰勒斯的“水”，阿那克西曼德的“无限物”，阿那克西米尼的“气”，而色诺芬尼发展了阿那克西米尼学说，提出神主宰一切，并主张一神论。\n\n*伊利亚学派，其代表有巴门尼德和芝诺。巴门尼德提出一个重要的理论：无不能生有，有不能变无，则一切运动变化都是不存在。爱利亚的芝诺进一步发展了老师的理论，即世界只有“存在”，而没有“不存在”，只有“一”，而没有“多”，因此，世界是不变的。\n\n* 赫拉克利特，他强调“变”。认为变才是真实的，而永久的不变是不存在的（万物流变）。他便向外界宣传自己的理论，世界是一团熊熊燃烧的火焰，火就是一切事物的本质。他更加暗示世界中的变存在着秩序和理性。\n\n* 多元论者，如恩培多克勒提出的“四元素”；阿那克萨戈拉的“种子”，即粒子论；德谟克利特又指出了“原子”，即原子论等。皆认为变是若干物体的不同组合。\n\n公元前5世纪中期，普罗泰戈拉和高尔吉亚等所形成的辩士学派将研究的重点由自然转移到人类本身。认为“人才是万物之本”。他们都不相信有真正的存在和真理。普罗泰戈拉认为是非善恶都是相对于人的感觉而言，而高尔吉亚却认为所有的都是同样的假，这是怀疑论的雏形。 \n\n公元前6世纪末，以毕达哥拉斯为主的毕达哥拉斯学派所主张的哲学与前述的观点既相近又有不同。罗马古代的历史上记载毕达哥拉斯第一个称自己为哲学家，或者说是爱智慧。他认为“一切都是数字”。其意思就是说一切事物的实质和结构都是它们所包含的数字关系所决定的。他称平均、秩序和调和是宇宙的三大基调，并以音乐的调和说明宇宙的调和。他所在的学派将宇宙总结为十种性质相异的组合：有限与无限、奇与偶、少与多、左与右、男与女、静与动、直与曲、光明与黑暗、善与恶、方与圆。至此之后，数学的本质及其地位，一直都是哲学的主要问题之一，数学不受观察和实验造成的不确定性影响，而且是通过纯粹的思想加以理解的。\n\n其中关于变与不变的关系的争论，真实世界与直觉世界的差别，真理与意见的矛盾，导致产生了认识论的问题。\n\n\n\n===== 古典希腊时期 =====\n\n在古典希腊时期西方哲学方法的关键特质被建立：依靠诉诸理性和论证，通过一种批判性的方法来接受或建立观点。这包括苏格拉底被称为苏格拉底反诘法或“反驳论证”方法的辩证法，他主要用其来检验例如善良和公平正义的关键道德概念。这种方法将一个问题分解成一系列的疑问，在对疑问的回答中逐步提取想要找到的答案，其极大影响可以从现在使用的科学方法中看出，在科学方法中假说是第一个阶段。\n\n苏格拉底没有直接教过人，但之后的柏拉图深受其影响。而其整个哲学思想来源于两大理论：其一，永远不要做坏事；其二，一个内心真正善良且正义的人绝不会做相反之事。他认为真理有其客观性，试图推翻智者们以个人主观感觉为真理的思想。然后提出德的概念，以作为人生行事的方向。对于道德是什么的问题，苏格拉底的回复为“知识即道德。”对于知识是何物的问题，他回答说知识是透过理性而得的概念。苏格拉底开创了认识论和伦理学，如此奠定了他的哲学地位。\n\n古典希腊时期的的哲学家中柏拉图和亚里士多德对后世的影响力最大，特别是柏拉图被认为是西方哲学的创始人。哲学家阿尔弗雷德·诺思·怀特黑德评价柏拉图：“欧洲哲学传统最被普遍公认的特点，就是它包含了一系列对柏拉图的注脚。我的意思不是怀疑学者们系统体系的思想是提取自柏拉图的著作。我暗示的是那些他们散落的一般思想的财富。”换言之即使数千年后，人们依旧在试著回答他所提出的问题，这也代表著人们依然为这些问题或是这些问题所延伸的更多问题而感到困惑。\n\n毕达哥拉斯的思想对柏拉图产生了显著地影响，并通过柏拉图影响了整个西方哲学。柏拉图和亚里士多德作为最早的古典希腊哲学家批判地引用了其它的一些“智者”，当时这些人在希腊被称为“辩士”并在毕达哥拉斯之前相当普遍。从他们的批判看来，在他们的古典时代一个在更高尚地、纯粹地“爱智慧”（真的哲学家）与那些更早更普遍的旅行教师——经常也通过自己的技艺来赚钱——之间的分水岭之后被建立。\n\n\n\n===== 希腊化时代 =====\n\n亚里士多德死后，整个哲学界陷入了独立时期，称为希腊化哲学时期。因为整个社会和政治陷入混乱。这段时期产生了斯多葛学派和伊壁鸠鲁学派，以及怀疑主义派、新柏拉图派和Neopythagoreanism。这些学派的共同特点是伦理化。斯多葛学派主要是顺应自然和自制。伊壁鸠鲁学派则是把快乐作为生活的本质和善的标准。而新柏拉图派和新毕达哥拉斯派都是带有宗教主义的哲学，并逐渐产生融化基督教和希腊哲学于一体的理论，即为后来的基督教哲学。\n\n直到公元529年，罗马皇帝查士丁尼一世尼命令关闭雅典的柏拉图学院。J.B.伯里称一些余下的学院成员逃入了萨珊王朝首都泰西封。\n\n\n\n==== 古印度 ====\n\n印度哲学是指起源于印度次大陆的哲学思想，包括Hindu philosophy、Buddhist philosophy、Jainism philosophy等，这些印度哲学具有一些共同且复杂的起源，都有有关佛法及业的主题，而且都希望达到个人的解放。这些哲学约在西元前一世纪到西元几世纪的时间成形。\n\n\n\n=== 中世纪哲学（5-16世纪） ===\n\n\n\n==== 中世纪欧洲 ====\n\n圣托马斯·阿奎那\n\n中世纪哲学指的是西欧和中东在中世纪的哲学体系，其时间范围没有定论，大致上是从基督化的罗马帝国时期至文艺复兴时期。中世纪哲学被部分定义为对古典希腊和希腊化哲学的再发现和进一步发展，另一部分是需要解决神学问题并把亚伯拉罕诸教（伊斯兰教、犹太教和基督教）的教条同世俗知识一同整合并推广。\n\n文艺复兴人文学者们排斥中世纪时期，把它当作在希腊罗马的古典时代与古典文化“复兴”之间的一个“过渡”的野蛮时期。然而在中世纪这将近一千年中哲学在欧洲仍取得了长足地发展。Jorge Gracia认为\"在强度、复杂度还有成就上，可以确信地说哲学在十三世纪的兴盛能与公元前四世纪古希腊哲学的黄金时期媲美。\"\n\n这个时代讨论的问题有信仰和理智的关系，神的存在与统一，神学话题和形而上学，关于知识、宇宙和个人的问题。\n\n中世纪的哲学家包括基督教学者希波的奥古斯丁、波爱修斯、安瑟伦、Gilbert of Poitiers、皮埃尔·阿伯拉尔、罗吉尔·培根、圣文德、托马斯·阿奎那、邓斯·司各脱、奥卡姆的威廉和让·布里丹等；犹太哲学家迈蒙尼德和Gersonides;还有穆斯林哲学家肯迪、法拉比、海什木、伊本·西那、安萨里、伊本·巴哲、Ibn Tufail、伊本·赫勒敦和伊本·鲁世德等。中世纪的经院哲学传统一直到17世纪仍在活跃，例如弗朗西斯科·苏亚雷斯和John of St. Thomas等人物。其中托马斯主义之父阿奎那极大地影响了整个天主教欧洲，他特别强调理性和论证，是最先开始使用亚里士多德形而上学和知识论的著作的新译本的学者之一。他的工作明显远离了统治大部分早期经院哲学的新柏拉图主义和奥古斯丁的思想。\n\n\n\n====文艺复兴====\n\nupright\n\n从文艺复兴开始，人们的思想开始从清净的僧院走出，来到喧嚣的尘世。从而发展自然，也发展人类自身。从而形成人文主义和自然哲学两股既有联系又有区别的思潮。\n\n\"文艺复兴\"是对中世纪到近代之间过渡时期的通称，那时对古典文献的重新学习帮助把哲学界的兴趣从对逻辑学、形而上学和神学领域的钻研转移到包括道德、语言学和神秘主义的更加广泛的研究。对经典和人文艺术例如历史学和文学的研究在基督教世界学术界中享有前所未有的兴趣，这个趋势被称为人文主义，它受到柏拉图主义、希腊怀疑主义和罗马斯多葛主义的影响。人文主义者的哲学兴趣跟随彼特拉克转移到造物主与其美德上，替代了中世纪时对形而上学和逻辑学的兴趣。\n\n那时对古典哲学的研究出现了两种新方式。一方面对亚里士多德的研究因为阿威罗伊主义的影响而产生了变化。阿威罗伊亚里士多德主义者和更正统的天主教亚里士多德主义者譬如艾尔伯图斯·麦格努斯和托马斯·阿奎那之间的分歧最终在文艺复兴发展出一种“人文亚里斯多德哲学”，譬如Pietro Pomponazzi和Giacomo Zabarella的思想。另一方面，在一些之前不为西欧所熟知的作品的重发现的帮助下，对柏拉图和新柏拉图主义的研究作为另一个选择变得普遍起来。著名的文艺复兴时期的柏拉图主义者包括库萨的尼古拉，还有之后的马尔西利奥·费奇诺和若望·皮科·德拉·米兰多拉。\n\n文艺复兴也重新产生了对反亚里士多德的把自然看作一个有机的、活生生的整体而不取决于神学的理论的兴趣，例如在库萨的尼古拉、尼古拉·哥白尼、焦尔达诺·布鲁诺、Bernardino Telesio还有托马索·康帕内拉的著作中。在自然哲学中这样的运动与对神秘主义、魔法、赫尔墨斯主义还有占星学等兴趣重燃相契合，它们被认为隐藏着收获知识和掌控自然方法的大门。\n\n这些新的哲学运动伴随着欧洲宗教和政治的剧变同时出现：宗教改革和封建制的衰落。虽然参与宗教改革的神学家们对哲学没有直接的兴趣，他们打破了神学和知识权威的传统基础。同时还伴随着信仰主义和怀疑主义的复兴，体现在伊拉斯谟，蒙泰涅和桑切斯等思想家身上。同时，民族国家政治上逐步的中央集权的过程得到了世俗政治哲学的响应，如尼可罗·马基亚维利（常被描述为第一个现代政治思想家，或者是现代政治思想形成的关键点）、托马斯·莫尔、伊拉斯谟、尤斯图斯·利普修斯、让·博丹和胡果·格老秀斯等的著作。\n\n\n\n====东亚====\n\n先秦诸子之后的两汉经学、魏晋玄学等都是中国哲学的一部份，自唐朝起佛教也开始对哲学产生重要影响；不过中世纪中国哲学最主要的部分是宋明理学的发展。\n\n宋明理学反对汉代后开始影响儒学的道教和佛教中的迷信和神秘的元素，是一股倡导更加理性和世俗化儒学的哲学运动。尽管理学遭到道教和佛教徒的批评，理学仍借鉴了它们两个的部分术语和概念。然而和佛教和道教把形而上学看作心灵发展、宗教启示的催化剂并且是不朽的不同，宋明理学把形而上学当作建立一个理性的伦理体系的指导。宋明理学的起源可以追溯到唐朝：韩愈和李翱被视为宋代理学的先驱。宋代理学家周敦颐以道教形而上学理论为框架建立了他的伦理哲学体系，他被看作是宋明理学的创始人。\n\n在东亚的其他地方，日本哲学形成于本土的神道信仰和佛教、儒家以及另一些中国哲学和印度哲学学派混合发展。与日本类似，在Korean philosophy中巫教的情绪化内容被混合到了从中国传入的理学当中。\n\n\n\n=== 近代哲学（17-19世纪） ===\n\n主条目：近代哲学\n\n\n\n==== 早期近代哲学 ====\n\n西方哲学史上的近代早期一般指17世纪和18世纪，其中18世纪常被称为启蒙时代。现代哲学不同于其前身，它和传统权威例如教会、学院、亚里士多德的关系更加独立，出现了对知识基础和形而上学体系建设的新兴趣；和摆脱了自然哲学的近代物理学的出现。从17世纪开始，近代哲学就以认识论为研究重点。由于经验论（经验主义）与唯理论（理性主义）的争论，使物质与精神的关系作为认识论的首要问题突显出来。\n\n勒内·笛卡儿\n\n当时其他的哲学焦点包括精神的天性和其与身体的关系，新的自然科学对诸如自由意志和神的传统上属于神学的话题的影响，和伦理学和政治哲学的世俗基础\n\n。这种潮流最早被鲜明地体现在弗兰西斯·培根的被称为用来扩展知识的新的、经验主义的程序，并很快在笛卡儿的机械主义物理学和理性主义的形而上学中建立了具有巨大影响力的形式。培根运用归纳法，第一个提出思维的主体“人”应该主动干涉自然来为人服务。\n\n近现代政治哲学的鼻祖托马斯·霍布斯最早将这套方法论系统得应用在政治哲学上，包括\"社会契约\"的近代理论。早期近代哲学的学术经典一般包括笛卡尔、斯宾诺莎、莱布尼茨、洛克、贝克莱、休谟和康德。同时其的其他思想家也对哲学做出了贡献，例如伽利略、皮埃尔·伽桑狄、布莱兹·帕斯卡、马勒伯朗士、艾萨克·牛顿、克里斯蒂安·沃尔夫、孟德斯鸠、皮埃尔·贝尔、托马斯·里德、让·勒朗·达朗贝尔和亚当·斯密，而让-雅克·卢梭是反启蒙运动的开创性人物。早期近代哲学的大致结束通常被确定为伊曼努尔·康德的试图限定形而上学范围、证明科学知识并用道德和自由来调和两者的体系。\n\n理性主义者中勒内·笛卡儿认为物质世界是由数学关系组成的单一体系，他企图将物理学转化为数学。他在其著作中，对整个经院哲学以及在他那个时代流行的教育与哲学体系加以讽刺。其认为“我思故我在”是认识论的无可怀疑之出发点。笛卡尔是割裂精神和物质的二元论者，为了厘清二者关系，他坚定认为在上帝那里，精神和物质是统一的。其理论被称为笛卡尔主义\n\n。斯宾诺莎是笛卡尔之后，又一位著名的唯理论者。他的认识论、几何学和机械观都来自于笛卡尔。但他不认同笛卡尔的二元论，认为精神和物质不过是唯一实体的两种属性\n\n。莱布尼茨作为唯理论者坚定地维护笛卡尔的学说并反驳约翰·洛克的理论。与笛卡尔不同的是，他认为万物的实体是“单子”，且互相没有关系，而是由于“前定和谐”才共存一体，即存在于神之中。“前定和谐”调和了笛卡尔之二元论和斯宾诺莎之实体双重性。\n\n约翰·洛克\n\n洛克发展了经验论，他不认同笛卡尔的“天赋观念”，提出白板说，他强调人们从感觉中抽象出普遍的概念，认为感觉中的个别东西才是第一位的。不过他基本认同笛卡尔的二元论。贝克莱发展了洛克的哲学理论，提出了“存在就是被感知”。他认为除了感知的主题和被感知的知觉之外，什么也没有。他非常不赞同物质的抽象概念，认为其既无客观实在，也不能存在于人心。大卫·休谟的理论比贝克莱的更进一步，他不仅仅认为物质实体不存在，更认为精神实体不存在。只承认知觉的存在。他还以自己的不可知论和怀疑论认为不存在统一性和普遍性的东西，认定多样性和个别性才是最高原理。\n\n经验论与唯理论的争论也包含了唯物主义与唯心主义的争论。在18世纪时，法国的拉美特利公开宣布唯物主义是唯一的，而百科全书的主编德尼·狄德罗也拒绝承认神的存在。\n\n另外伏尔泰，孟德斯鸠和其他百科全书派的学者都有涉及政治和伦理领域。他们都认为机械主义才是最终形式——物质是唯一的且处于永恒运动的，精神只是人脑的属性。因此他们认为无机物与有机物不可逾越，人的思维是人感官的结果。不过他们仍然是经验主义者，在因果性上，他们认为只有必然性才是唯一的，这就成为唯心主义的观念。\n\n\n\n==== 德国古典哲学 ====\n\n从18世纪中后期开始，直到19世纪初，哲学便进入了近代哲学的总结时期，这就是德国古典哲学时期。有两条线索标志着转折的到来：一、思维与存在的关系更加明确；二、产生了系统辩证法。其代表人物有I.康德、J.G.费希特、F.W.谢林、G.W.F.黑格尔等。 \n\n\n\n===== 康德 =====\n\n康德给哲学带来了三个标志性的创造：\n\n*哲学意义的新规定；\n\n*哲学方法的新概念；\n\n*哲学写作的新结构。\n\n他受到休谟的诸多影响，并为西方哲学带来一次革命。他认为哲学的研究核心就是规定理性的任务。\n\n康德同意休谟的理论并认为，存在一些原则，使得心灵对经验和认识加以组织，而证据皆可以在数学中找到。即是，包含在命题里的要比包含在原是概念的定义要多得多。他使用称之为批判哲学的先验方法，来展现经验的某些范畴和形式都必然地被预先存在于人们一切言谈之中。\n\n凭借着他的三部“批判性”的著作，为先验方法作出相应的结构：\n\n*分析论，分析理性的有效机能；\n\n*辨证论，展示理性的可能失误；\n\n*方法论，列举实用的各种规则。\n\n他还为道德哲学奠定了新基础，且他赋予了自由概念的新意义。因为其影响在现代依旧尚存，其理论被人们称为康德主义。\n\n\n\n===== 费希特和谢林 =====\n\n费希特本来承认斯宾诺莎的机械的因果决定论，但后来受到康德的影响，开始认为因果决定论只是表面，其实质为自我不是必然性的奴仆而是独立自由的主体。就此，他建立了主观的思维与客观的存在之统一说。\n\n谢林是从费希特理论出发的，但深受斯宾诺莎和文学上浪漫主义的影响，创立了自己的学说。即他认为自然和精神、存在和思维，客体和主体，表面相反，实则统一，是同一个“绝对”的不同发展阶段，这个“绝对”即是万事万物的根源。他认为艺术才是最直观的理性。\n\n\n\n===== 黑格尔 =====\n\n黑格尔及其理论的出现将西方哲学的推上一个新高度，他创立了西方哲学史上最庞大的客观唯心主义体系，并系统地阐述了辩证法。他的理论和学说对近现代哲学产生了很深远的影响，并被称为黑格尔主义。\n\n从黑格尔的思想体系中发展而成的多种哲学运动。其重点就是以历史和逻辑为主，历史方面，它从不同角度理解“凡是合理的就是现实的”；逻辑方面，它有发现其中所说的“真理即整体”。\n\n黑格尔认为哲学的重点是放弃分裂，达到统一。他把以前的时代说成是思维与存在、理想与现实分裂，自由与必然，个人与社会、无限与有限、统一性与多样性分裂之时代。\n\n他从康德的“心灵的合理性以及在经验中的积极作用”的概念出发，但反对康德的“超越经验世界和‘物自身’的世界”，并认为心灵和世界一样具有相同基础理性结构。他所认为的普遍性不是脱离特殊的抽象普遍，而是包含特殊在内之普遍，即为具体普遍；他所认为的统一也非脱离矛盾、对立的抽象统一，而是包含它们在内的统一，即为对立统一。上述综合在一起即是他的理论：最真实的无所不包的整体即是“绝对精神”，又是对立的统一。\n\n他认为，为了达到这个“绝对精神”，需要经过三个阶段，从逻辑、自然到精神，即是从思维到存在，再到两者统一的过程，从而完成他的统一论。\n\n就此，社会和历史的现象，便被赋予一种在哲学史上还是崭新的显赫地位。他还将伦理学划归到这个领域，从而在伦理学理论和对思想的理解中提出重要的路线。\n\n\n\n=== 现代哲学（19-20世纪） ===\n\n从19世纪中叶开始，西方哲学就进入现代哲学阶段。因为在19世纪中期，欧洲的工业革命几近完成。\n\n现代哲学，特别是19世纪中后期的哲学流派，有叔本华的意志主义，新康德主义，新黑格尔主义，马克思主义。然而此时的哲学与后来的存在主义、现象学等在当代一般归为「欧陆哲学」，与二十世纪以后著重严谨逻辑与语词分析所发展出的「分析哲学」成为风格迥异的两大西方哲学典范。\n\n20世纪的西方哲学上主流有两条：\n\n一、由弗雷格、罗素创立的，并以维特根斯坦为主的分析哲学。它把哲学问题变成语言分析问题，由此产生了逻辑经验主义或逻辑实证主义以及其他语言分析相关的哲学派系。\n\n二、由胡塞尔创立的现象学发展起来，以海德格尔为主的存在主义。它把哲学问题变成对个人生存状态的反思，由此产生了解释学。\n\n现代哲学主要包含以下几种潮流。\n\n\n\n==== 以黑格尔主义为主的潮流 ====\n\n历程哲学：\n\n19世纪中期，黑格尔主义在中欧受到欢迎，并在此后也隐约出现在该地区。在英国和美国也具有影响力，不仅启发了布拉德利、罗伊斯等人的观念论哲学，还形成了一种哲学气候。即形式有所修正，但是本质不变。比如怀特海的“历程哲学”。\n\n主流马克思主义：\n\nK.马克思的著作本身不能说成是一种哲学，更不是一种哲学体系，但他的全部论述是对哲学，特别是对黑格尔体系中的唯心主义进行的激进批判。他认为哲学必须与现实取得联系。\n\n“哲学只是持续地解释世界，而与当下关联的则是改变世界。”\n\n但是尽管马克思本人批判黑格尔的观念论，但其思想却深受黑格尔的特别是辨证论的影响。并将其基本本质作了自然主义的改造。这之后，从19世纪末期到20世纪初期，马克思的哲学思想才在恩格斯、普列汉诺夫和列宁等人的阐释和补充下，为辩证唯物论和历史唯物论，并形成新的世界观。\n\n另外马克思主义也指各种不同的社会主义运动，如由列宁所创立而被斯大林修改的苏联马克思主义，称为马克思列宁主义，为俄国革命以及后来建立的各种共产党之教义。它的旁系包括反斯大林的托洛茨基及其追随者的马克思主义、毛泽东的马克思列宁主义和其他第三世界马克思主义。\n\n西方马克思主义：\n\n此外，比上述类型更为复杂的版本有阿尔都塞等人做出详尽阐述。然而，在卢卡奇和布洛赫等人采用黑格尔学说，而非科学学说对马克思思想重新诠释，才使得马克思主义在欧洲，后来在英美等地获得新生。\n\n之后，新马克思主义的哲学理论受到弗洛伊德、存在主义、康德、社会科学以及黑格尔等思想的革新，已形成不同的发展方向。如霍克海默、阿多诺。以及与“法兰克福学派”有联系的“批判会理论”等。后来，萨特和不少法国学者的“存在主义的马克思主义”以及科拉科夫斯基和Gajo Petrović等东欧哲学家提出的“人道主义的马克思主义”。\n\n革新的黑格尔主义：\n\n20世纪开始，黑格尔主义的社会性方面在狄尔泰和一些德国学者重新发展。他们对其在研究人类社会和文化的生活与历史的进路作出修正。\n\n在美国，詹姆士和杜威对黑格尔主义作出了相似的，在社会性倾向和自然主义特色的详尽阐述。实用主义运动在英美影响甚大，在此将黑格尔的思想发扬为新的哲学运动。\n\n英国的维特根斯坦也转变的思路，从之前的实证主义和新康德思想，转而去研究语言、科学，及科学史、伦理学等。\n\n结构主义：\n\n在法国，Alexandre Kojève的影响，使得黑格尔主义对萨特等人形成冲击，当他们研究马克思主义时，这种冲击更加明显。则出现与克劳德·李维等相关联的“结构主义”。还有福柯和德里达等法国“后结构主义”等思想。 \n\n\n\n==== 后古典现代哲学 ====\n\n分析哲学：\n\n后古典主义是种哲学观，从培根，笛卡尔到休谟和康德，这股浪潮获得科学的倾向，后来又获得逻辑和语言的，逐渐形成一种基本的分析哲学。\n\n实证主义：\n\n19世纪上半叶英美，“苏格兰常识学派”很普及，后来英国摩尔的思想和20世纪初美国“新实在论者”都发展了它。孔德的实证主义在法国引起了广泛的注意。在美国得到米尔格拉姆的发展，成为“实验主义”，又形成科学性的实证主义。\n\n新康德主义：\n\n实证主义在德国由陆宰和Léon Brunschvicg等人的发展下，形成“新康德主义”，并经由重新发现的休谟主义和黑格尔主义的影响，在英美等地也流行起来。\n\n逻辑实证主义：\n\n一种很注重逻辑的学说，在德摩根、布伦塔诺、迈农和弗雷格等人的努力下，取得了进展。罗素和摩尔发动了分析运动，由此形成分析哲学的雏形。又在维特根斯坦的研究下，将分析哲学进行了重新解释，变成了语言分析问题，从而产生逻辑实证主义。\n\n语言哲学：\n\n二战后，分析哲学更加分化，并形成多个不同的派系。但其本质相差无几，都集中研究“分析”这一概念上来，后来有不少开始研究语言哲学这一分支。\n\n现象学：\n\n而胡塞尔将严谨的数学思想赋予哲学，使得笛卡尔主义进一步激进化，在海德格尔的影响下，便产生了现象学运动。\n\n唯物论：\n\n其中费尔巴哈作为德国古典哲学期间的一个唯物主义代表。他将黑格尔哲学称谓精致化和理性化的神学体系，他认为人是思维与存在统一的，思维不仅仅是人脑的表现也是人与人思维的表现。\n\n他的唯物论和实证主义以马赫的学说达到顶点，并在英国流行。\n\n新托马斯主义：\n\n而从公元1879年以来教宗利奥十三世颁发教义宣称为“永远的父亲”之后。多玛斯哲学在基督宗教和神学中的哲学教义再度得到肯定。而梅西耶（Désiré-Joseph Mercier）和马里旦（Jacques Maritain）发展了该学说并吸收了近代哲学的诸多优点，逐步形成新托马斯主义。\n\n\n\n==== 多种主义的第三潮流 ====\n\n科学哲学：\n\n在实证主义出现后的晚生的现代哲学流派，罗素等提倡的新型哲学，具有科学精神，注重的是可否被证明与是否合乎逻辑，减少提及一些像形而上学和主观的问题，例如神或本体论终极的美等。\n\n"
    }
   ],
   "source": [
    "import pandas as pd\n",
    "import numpy as np\n",
    "import lightgbm as lgb\n",
    "from sklearn.model_selection import StratifiedKFold\n",
    "from sklearn.metrics import f1_score\n",
    "from gensim.models import word2vec\n",
    "import logging, jieba\n",
    "import os, io\n",
    "\n",
    "words_file = \"./wiki.txt\" \n",
    "words = list()\n",
    "i = 0 \n",
    "with io.open(words_file, 'r', encoding=\"utf-8\") as words_file_object: \n",
    "  contents = words_file_object.readlines() \n",
    "  for line in contents: \n",
    "    print (line)\n",
    "    i += 1\n",
    "    if i == 200:\n",
    "      break"
   ]
  },
  {
   "cell_type": "code",
   "execution_count": 16,
   "metadata": {
    "tags": [
     "outputPrepend"
    ]
   },
   "outputs": [
    {
     "output_type": "stream",
     "name": "stderr",
     "text": ": INFO : EPOCH 98 - PROGRESS: at 4.24% examples, 318211 words/s, in_qsize 0, out_qsize 0\n2020-09-12 19:49:59,440 : INFO : EPOCH 98 - PROGRESS: at 6.38% examples, 323575 words/s, in_qsize 0, out_qsize 0\n2020-09-12 19:50:00,443 : INFO : EPOCH 98 - PROGRESS: at 8.34% examples, 322174 words/s, in_qsize 0, out_qsize 0\n2020-09-12 19:50:01,448 : INFO : EPOCH 98 - PROGRESS: at 9.74% examples, 302622 words/s, in_qsize 0, out_qsize 0\n2020-09-12 19:50:02,452 : INFO : EPOCH 98 - PROGRESS: at 10.77% examples, 280573 words/s, in_qsize 0, out_qsize 0\n2020-09-12 19:50:03,462 : INFO : EPOCH 98 - PROGRESS: at 12.02% examples, 268300 words/s, in_qsize 0, out_qsize 0\n2020-09-12 19:50:04,467 : INFO : EPOCH 98 - PROGRESS: at 13.65% examples, 268051 words/s, in_qsize 0, out_qsize 0\n2020-09-12 19:50:05,473 : INFO : EPOCH 98 - PROGRESS: at 15.56% examples, 273532 words/s, in_qsize 0, out_qsize 0\n2020-09-12 19:50:06,475 : INFO : EPOCH 98 - PROGRESS: at 17.74% examples, 285457 words/s, in_qsize 0, out_qsize 0\n2020-09-12 19:50:07,481 : INFO : EPOCH 98 - PROGRESS: at 19.86% examples, 293330 words/s, in_qsize 0, out_qsize 0\n2020-09-12 19:50:08,490 : INFO : EPOCH 98 - PROGRESS: at 21.96% examples, 298667 words/s, in_qsize 0, out_qsize 0\n2020-09-12 19:50:09,491 : INFO : EPOCH 98 - PROGRESS: at 24.08% examples, 304132 words/s, in_qsize 0, out_qsize 0\n2020-09-12 19:50:10,493 : INFO : EPOCH 98 - PROGRESS: at 26.31% examples, 309896 words/s, in_qsize 0, out_qsize 0\n2020-09-12 19:50:11,497 : INFO : EPOCH 98 - PROGRESS: at 28.41% examples, 319886 words/s, in_qsize 0, out_qsize 0\n2020-09-12 19:50:12,503 : INFO : EPOCH 98 - PROGRESS: at 30.65% examples, 325818 words/s, in_qsize 0, out_qsize 0\n2020-09-12 19:50:13,512 : INFO : EPOCH 98 - PROGRESS: at 32.83% examples, 329875 words/s, in_qsize 0, out_qsize 0\n2020-09-12 19:50:14,517 : INFO : EPOCH 98 - PROGRESS: at 35.08% examples, 334778 words/s, in_qsize 0, out_qsize 0\n2020-09-12 19:50:15,523 : INFO : EPOCH 98 - PROGRESS: at 37.30% examples, 337665 words/s, in_qsize 0, out_qsize 0\n2020-09-12 19:50:16,523 : INFO : EPOCH 98 - PROGRESS: at 39.48% examples, 340849 words/s, in_qsize 0, out_qsize 0\n2020-09-12 19:50:17,525 : INFO : EPOCH 98 - PROGRESS: at 41.66% examples, 343165 words/s, in_qsize 0, out_qsize 0\n2020-09-12 19:50:18,532 : INFO : EPOCH 98 - PROGRESS: at 43.82% examples, 344429 words/s, in_qsize 0, out_qsize 0\n2020-09-12 19:50:19,547 : INFO : EPOCH 98 - PROGRESS: at 46.09% examples, 353696 words/s, in_qsize 6, out_qsize 1\n2020-09-12 19:50:20,549 : INFO : EPOCH 98 - PROGRESS: at 48.29% examples, 359386 words/s, in_qsize 0, out_qsize 0\n2020-09-12 19:50:21,558 : INFO : EPOCH 98 - PROGRESS: at 50.45% examples, 361336 words/s, in_qsize 0, out_qsize 0\n2020-09-12 19:50:22,565 : INFO : EPOCH 98 - PROGRESS: at 52.92% examples, 364340 words/s, in_qsize 0, out_qsize 0\n2020-09-12 19:50:23,568 : INFO : EPOCH 98 - PROGRESS: at 55.21% examples, 366313 words/s, in_qsize 0, out_qsize 0\n2020-09-12 19:50:24,576 : INFO : EPOCH 98 - PROGRESS: at 57.76% examples, 368479 words/s, in_qsize 0, out_qsize 0\n2020-09-12 19:50:25,577 : INFO : EPOCH 98 - PROGRESS: at 60.31% examples, 372212 words/s, in_qsize 0, out_qsize 0\n2020-09-12 19:50:26,579 : INFO : EPOCH 98 - PROGRESS: at 62.56% examples, 382677 words/s, in_qsize 1, out_qsize 0\n2020-09-12 19:50:27,581 : INFO : EPOCH 98 - PROGRESS: at 64.64% examples, 384051 words/s, in_qsize 0, out_qsize 0\n2020-09-12 19:50:28,595 : INFO : EPOCH 98 - PROGRESS: at 66.74% examples, 384889 words/s, in_qsize 0, out_qsize 0\n2020-09-12 19:50:29,596 : INFO : EPOCH 98 - PROGRESS: at 68.90% examples, 387249 words/s, in_qsize 0, out_qsize 0\n2020-09-12 19:50:30,600 : INFO : EPOCH 98 - PROGRESS: at 70.91% examples, 387412 words/s, in_qsize 0, out_qsize 0\n2020-09-12 19:50:31,607 : INFO : EPOCH 98 - PROGRESS: at 73.03% examples, 389265 words/s, in_qsize 0, out_qsize 0\n2020-09-12 19:50:32,622 : INFO : EPOCH 98 - PROGRESS: at 75.09% examples, 390529 words/s, in_qsize 0, out_qsize 0\n2020-09-12 19:50:33,632 : INFO : EPOCH 98 - PROGRESS: at 77.15% examples, 391176 words/s, in_qsize 4, out_qsize 0\n2020-09-12 19:50:34,637 : INFO : EPOCH 98 - PROGRESS: at 79.33% examples, 393513 words/s, in_qsize 0, out_qsize 0\n2020-09-12 19:50:35,647 : INFO : EPOCH 98 - PROGRESS: at 81.52% examples, 394161 words/s, in_qsize 0, out_qsize 0\n2020-09-12 19:50:36,650 : INFO : EPOCH 98 - PROGRESS: at 83.61% examples, 394960 words/s, in_qsize 0, out_qsize 0\n2020-09-12 19:50:37,655 : INFO : EPOCH 98 - PROGRESS: at 85.53% examples, 394431 words/s, in_qsize 0, out_qsize 0\n2020-09-12 19:50:38,660 : INFO : EPOCH 98 - PROGRESS: at 87.46% examples, 394112 words/s, in_qsize 0, out_qsize 0\n2020-09-12 19:50:39,662 : INFO : EPOCH 98 - PROGRESS: at 89.54% examples, 395021 words/s, in_qsize 0, out_qsize 0\n2020-09-12 19:50:40,668 : INFO : EPOCH 98 - PROGRESS: at 91.62% examples, 395214 words/s, in_qsize 0, out_qsize 0\n2020-09-12 19:50:41,674 : INFO : EPOCH 98 - PROGRESS: at 93.82% examples, 395463 words/s, in_qsize 0, out_qsize 0\n2020-09-12 19:50:42,676 : INFO : EPOCH 98 - PROGRESS: at 96.01% examples, 395416 words/s, in_qsize 0, out_qsize 0\n2020-09-12 19:50:43,678 : INFO : EPOCH 98 - PROGRESS: at 98.25% examples, 395759 words/s, in_qsize 0, out_qsize 0\n2020-09-12 19:50:44,467 : INFO : worker thread finished; awaiting finish of 2 more threads\n2020-09-12 19:50:44,468 : INFO : worker thread finished; awaiting finish of 1 more threads\n2020-09-12 19:50:44,471 : INFO : worker thread finished; awaiting finish of 0 more threads\n2020-09-12 19:50:44,473 : INFO : EPOCH - 98 : training on 48573577 raw words (19013312 effective words) took 48.0s, 395730 effective words/s\n2020-09-12 19:50:45,486 : INFO : EPOCH 99 - PROGRESS: at 2.12% examples, 307565 words/s, in_qsize 0, out_qsize 0\n2020-09-12 19:50:46,493 : INFO : EPOCH 99 - PROGRESS: at 4.24% examples, 317436 words/s, in_qsize 0, out_qsize 0\n2020-09-12 19:50:47,498 : INFO : EPOCH 99 - PROGRESS: at 6.44% examples, 325561 words/s, in_qsize 0, out_qsize 0\n2020-09-12 19:50:48,502 : INFO : EPOCH 99 - PROGRESS: at 8.46% examples, 326828 words/s, in_qsize 0, out_qsize 0\n2020-09-12 19:50:49,503 : INFO : EPOCH 99 - PROGRESS: at 10.29% examples, 320740 words/s, in_qsize 0, out_qsize 0\n2020-09-12 19:50:50,511 : INFO : EPOCH 99 - PROGRESS: at 12.49% examples, 325858 words/s, in_qsize 0, out_qsize 0\n2020-09-12 19:50:51,514 : INFO : EPOCH 99 - PROGRESS: at 14.59% examples, 328680 words/s, in_qsize 0, out_qsize 0\n2020-09-12 19:50:52,515 : INFO : EPOCH 99 - PROGRESS: at 16.84% examples, 335660 words/s, in_qsize 0, out_qsize 0\n2020-09-12 19:50:53,515 : INFO : EPOCH 99 - PROGRESS: at 19.02% examples, 343076 words/s, in_qsize 0, out_qsize 0\n2020-09-12 19:50:54,533 : INFO : EPOCH 99 - PROGRESS: at 21.20% examples, 345849 words/s, in_qsize 0, out_qsize 1\n2020-09-12 19:50:55,536 : INFO : EPOCH 99 - PROGRESS: at 23.49% examples, 350141 words/s, in_qsize 0, out_qsize 0\n2020-09-12 19:50:56,539 : INFO : EPOCH 99 - PROGRESS: at 25.79% examples, 353043 words/s, in_qsize 0, out_qsize 0\n2020-09-12 19:50:57,543 : INFO : EPOCH 99 - PROGRESS: at 28.04% examples, 362873 words/s, in_qsize 0, out_qsize 0\n2020-09-12 19:50:58,545 : INFO : EPOCH 99 - PROGRESS: at 30.24% examples, 366058 words/s, in_qsize 0, out_qsize 0\n2020-09-12 19:50:59,559 : INFO : EPOCH 99 - PROGRESS: at 32.52% examples, 370032 words/s, in_qsize 0, out_qsize 0\n2020-09-12 19:51:00,568 : INFO : EPOCH 99 - PROGRESS: at 34.52% examples, 370523 words/s, in_qsize 0, out_qsize 0\n2020-09-12 19:51:01,590 : INFO : EPOCH 99 - PROGRESS: at 35.96% examples, 363411 words/s, in_qsize 0, out_qsize 0\n2020-09-12 19:51:02,597 : INFO : EPOCH 99 - PROGRESS: at 37.05% examples, 353701 words/s, in_qsize 0, out_qsize 0\n2020-09-12 19:51:03,606 : INFO : EPOCH 99 - PROGRESS: at 38.62% examples, 349731 words/s, in_qsize 0, out_qsize 0\n2020-09-12 19:51:04,609 : INFO : EPOCH 99 - PROGRESS: at 40.65% examples, 350519 words/s, in_qsize 0, out_qsize 0\n2020-09-12 19:51:05,613 : INFO : EPOCH 99 - PROGRESS: at 42.86% examples, 352178 words/s, in_qsize 0, out_qsize 0\n2020-09-12 19:51:06,617 : INFO : EPOCH 99 - PROGRESS: at 45.00% examples, 353664 words/s, in_qsize 0, out_qsize 0\n2020-09-12 19:51:07,620 : INFO : EPOCH 99 - PROGRESS: at 47.51% examples, 368056 words/s, in_qsize 0, out_qsize 0\n2020-09-12 19:51:08,629 : INFO : EPOCH 99 - PROGRESS: at 49.77% examples, 370622 words/s, in_qsize 0, out_qsize 0\n2020-09-12 19:51:09,630 : INFO : EPOCH 99 - PROGRESS: at 52.28% examples, 373974 words/s, in_qsize 0, out_qsize 0\n2020-09-12 19:51:10,638 : INFO : EPOCH 99 - PROGRESS: at 54.78% examples, 377064 words/s, in_qsize 0, out_qsize 0\n2020-09-12 19:51:11,648 : INFO : EPOCH 99 - PROGRESS: at 57.47% examples, 379749 words/s, in_qsize 0, out_qsize 0\n2020-09-12 19:51:12,649 : INFO : EPOCH 99 - PROGRESS: at 60.09% examples, 383876 words/s, in_qsize 0, out_qsize 0\n2020-09-12 19:51:13,652 : INFO : EPOCH 99 - PROGRESS: at 62.58% examples, 395661 words/s, in_qsize 0, out_qsize 0\n2020-09-12 19:51:14,656 : INFO : EPOCH 99 - PROGRESS: at 64.82% examples, 397608 words/s, in_qsize 0, out_qsize 0\n2020-09-12 19:51:15,662 : INFO : EPOCH 99 - PROGRESS: at 67.06% examples, 399034 words/s, in_qsize 0, out_qsize 0\n2020-09-12 19:51:16,666 : INFO : EPOCH 99 - PROGRESS: at 69.35% examples, 401730 words/s, in_qsize 0, out_qsize 0\n2020-09-12 19:51:17,669 : INFO : EPOCH 99 - PROGRESS: at 71.59% examples, 402973 words/s, in_qsize 0, out_qsize 0\n2020-09-12 19:51:18,674 : INFO : EPOCH 99 - PROGRESS: at 73.84% examples, 405256 words/s, in_qsize 0, out_qsize 0\n2020-09-12 19:51:19,682 : INFO : EPOCH 99 - PROGRESS: at 76.12% examples, 407282 words/s, in_qsize 0, out_qsize 0\n2020-09-12 19:51:20,685 : INFO : EPOCH 99 - PROGRESS: at 78.30% examples, 409301 words/s, in_qsize 0, out_qsize 0\n2020-09-12 19:51:21,689 : INFO : EPOCH 99 - PROGRESS: at 80.55% examples, 410275 words/s, in_qsize 0, out_qsize 0\n2020-09-12 19:51:22,702 : INFO : EPOCH 99 - PROGRESS: at 82.77% examples, 411095 words/s, in_qsize 0, out_qsize 0\n2020-09-12 19:51:23,706 : INFO : EPOCH 99 - PROGRESS: at 85.01% examples, 412019 words/s, in_qsize 0, out_qsize 0\n2020-09-12 19:51:24,711 : INFO : EPOCH 99 - PROGRESS: at 87.28% examples, 412724 words/s, in_qsize 0, out_qsize 0\n2020-09-12 19:51:25,721 : INFO : EPOCH 99 - PROGRESS: at 89.50% examples, 413848 words/s, in_qsize 0, out_qsize 1\n2020-09-12 19:51:26,726 : INFO : EPOCH 99 - PROGRESS: at 91.70% examples, 414255 words/s, in_qsize 0, out_qsize 0\n2020-09-12 19:51:27,736 : INFO : EPOCH 99 - PROGRESS: at 94.03% examples, 414377 words/s, in_qsize 0, out_qsize 0\n2020-09-12 19:51:28,741 : INFO : EPOCH 99 - PROGRESS: at 96.29% examples, 414344 words/s, in_qsize 0, out_qsize 0\n2020-09-12 19:51:29,744 : INFO : EPOCH 99 - PROGRESS: at 98.60% examples, 414470 words/s, in_qsize 0, out_qsize 0\n2020-09-12 19:51:30,347 : INFO : worker thread finished; awaiting finish of 2 more threads\n2020-09-12 19:51:30,349 : INFO : worker thread finished; awaiting finish of 1 more threads\n2020-09-12 19:51:30,352 : INFO : worker thread finished; awaiting finish of 0 more threads\n2020-09-12 19:51:30,353 : INFO : EPOCH - 99 : training on 48573577 raw words (19012718 effective words) took 45.9s, 414449 effective words/s\n2020-09-12 19:51:31,359 : INFO : EPOCH 100 - PROGRESS: at 2.20% examples, 322273 words/s, in_qsize 0, out_qsize 0\n2020-09-12 19:51:32,365 : INFO : EPOCH 100 - PROGRESS: at 4.38% examples, 330153 words/s, in_qsize 0, out_qsize 0\n2020-09-12 19:51:33,366 : INFO : EPOCH 100 - PROGRESS: at 6.59% examples, 334476 words/s, in_qsize 0, out_qsize 0\n2020-09-12 19:51:34,373 : INFO : EPOCH 100 - PROGRESS: at 8.83% examples, 342216 words/s, in_qsize 0, out_qsize 0\n2020-09-12 19:51:35,379 : INFO : EPOCH 100 - PROGRESS: at 11.12% examples, 346419 words/s, in_qsize 0, out_qsize 0\n2020-09-12 19:51:36,380 : INFO : EPOCH 100 - PROGRESS: at 13.34% examples, 349417 words/s, in_qsize 0, out_qsize 0\n2020-09-12 19:51:37,384 : INFO : EPOCH 100 - PROGRESS: at 15.60% examples, 352943 words/s, in_qsize 0, out_qsize 0\n2020-09-12 19:51:38,394 : INFO : EPOCH 100 - PROGRESS: at 17.89% examples, 360234 words/s, in_qsize 0, out_qsize 0\n2020-09-12 19:51:39,401 : INFO : EPOCH 100 - PROGRESS: at 20.15% examples, 364100 words/s, in_qsize 0, out_qsize 0\n2020-09-12 19:51:40,405 : INFO : EPOCH 100 - PROGRESS: at 22.44% examples, 366587 words/s, in_qsize 0, out_qsize 0\n2020-09-12 19:51:41,408 : INFO : EPOCH 100 - PROGRESS: at 24.76% examples, 370028 words/s, in_qsize 0, out_qsize 0\n2020-09-12 19:51:42,412 : INFO : EPOCH 100 - PROGRESS: at 27.11% examples, 373226 words/s, in_qsize 0, out_qsize 0\n2020-09-12 19:51:43,417 : INFO : EPOCH 100 - PROGRESS: at 29.42% examples, 382801 words/s, in_qsize 0, out_qsize 0\n2020-09-12 19:51:44,426 : INFO : EPOCH 100 - PROGRESS: at 31.74% examples, 386328 words/s, in_qsize 0, out_qsize 0\n2020-09-12 19:51:45,437 : INFO : EPOCH 100 - PROGRESS: at 34.11% examples, 389729 words/s, in_qsize 0, out_qsize 0\n2020-09-12 19:51:46,441 : INFO : EPOCH 100 - PROGRESS: at 36.39% examples, 391256 words/s, in_qsize 0, out_qsize 0\n2020-09-12 19:51:47,451 : INFO : EPOCH 100 - PROGRESS: at 38.53% examples, 390341 words/s, in_qsize 0, out_qsize 0\n2020-09-12 19:51:48,453 : INFO : EPOCH 100 - PROGRESS: at 40.68% examples, 390118 words/s, in_qsize 0, out_qsize 0\n2020-09-12 19:51:49,461 : INFO : EPOCH 100 - PROGRESS: at 42.63% examples, 387599 words/s, in_qsize 0, out_qsize 0\n2020-09-12 19:51:50,469 : INFO : EPOCH 100 - PROGRESS: at 44.90% examples, 388310 words/s, in_qsize 1, out_qsize 0\n2020-09-12 19:51:51,476 : INFO : EPOCH 100 - PROGRESS: at 47.37% examples, 401925 words/s, in_qsize 0, out_qsize 0\n2020-09-12 19:51:52,482 : INFO : EPOCH 100 - PROGRESS: at 49.59% examples, 402977 words/s, in_qsize 0, out_qsize 0\n2020-09-12 19:51:53,483 : INFO : EPOCH 100 - PROGRESS: at 52.00% examples, 404617 words/s, in_qsize 0, out_qsize 0\n2020-09-12 19:51:54,484 : INFO : EPOCH 100 - PROGRESS: at 54.47% examples, 406271 words/s, in_qsize 0, out_qsize 0\n2020-09-12 19:51:55,489 : INFO : EPOCH 100 - PROGRESS: at 57.10% examples, 408192 words/s, in_qsize 0, out_qsize 0\n2020-09-12 19:51:56,492 : INFO : EPOCH 100 - PROGRESS: at 59.67% examples, 409634 words/s, in_qsize 1, out_qsize 0\n2020-09-12 19:51:57,494 : INFO : EPOCH 100 - PROGRESS: at 62.12% examples, 420375 words/s, in_qsize 5, out_qsize 0\n2020-09-12 19:51:58,499 : INFO : EPOCH 100 - PROGRESS: at 64.33% examples, 422747 words/s, in_qsize 0, out_qsize 0\n2020-09-12 19:51:59,513 : INFO : EPOCH 100 - PROGRESS: at 66.59% examples, 423587 words/s, in_qsize 0, out_qsize 0\n2020-09-12 19:52:00,520 : INFO : EPOCH 100 - PROGRESS: at 68.61% examples, 423496 words/s, in_qsize 0, out_qsize 0\n2020-09-12 19:52:01,524 : INFO : EPOCH 100 - PROGRESS: at 70.07% examples, 419572 words/s, in_qsize 0, out_qsize 0\n2020-09-12 19:52:02,537 : INFO : EPOCH 100 - PROGRESS: at 71.10% examples, 412426 words/s, in_qsize 0, out_qsize 0\n2020-09-12 19:52:03,537 : INFO : EPOCH 100 - PROGRESS: at 72.62% examples, 410222 words/s, in_qsize 0, out_qsize 0\n2020-09-12 19:52:04,555 : INFO : EPOCH 100 - PROGRESS: at 74.48% examples, 408963 words/s, in_qsize 0, out_qsize 1\n2020-09-12 19:52:05,557 : INFO : EPOCH 100 - PROGRESS: at 76.68% examples, 410652 words/s, in_qsize 0, out_qsize 0\n2020-09-12 19:52:06,573 : INFO : EPOCH 100 - PROGRESS: at 78.94% examples, 412910 words/s, in_qsize 0, out_qsize 0\n2020-09-12 19:52:07,577 : INFO : EPOCH 100 - PROGRESS: at 81.19% examples, 413425 words/s, in_qsize 0, out_qsize 0\n2020-09-12 19:52:08,580 : INFO : EPOCH 100 - PROGRESS: at 83.41% examples, 414497 words/s, in_qsize 0, out_qsize 0\n2020-09-12 19:52:09,594 : INFO : EPOCH 100 - PROGRESS: at 85.65% examples, 415045 words/s, in_qsize 0, out_qsize 0\n2020-09-12 19:52:10,604 : INFO : EPOCH 100 - PROGRESS: at 87.92% examples, 415937 words/s, in_qsize 0, out_qsize 0\n2020-09-12 19:52:11,608 : INFO : EPOCH 100 - PROGRESS: at 90.14% examples, 416819 words/s, in_qsize 0, out_qsize 0\n2020-09-12 19:52:12,620 : INFO : EPOCH 100 - PROGRESS: at 92.34% examples, 416982 words/s, in_qsize 0, out_qsize 0\n2020-09-12 19:52:13,627 : INFO : EPOCH 100 - PROGRESS: at 94.67% examples, 416890 words/s, in_qsize 0, out_qsize 0\n2020-09-12 19:52:14,630 : INFO : EPOCH 100 - PROGRESS: at 96.87% examples, 416569 words/s, in_qsize 0, out_qsize 0\n2020-09-12 19:52:15,638 : INFO : EPOCH 100 - PROGRESS: at 99.14% examples, 416292 words/s, in_qsize 0, out_qsize 0\n2020-09-12 19:52:16,005 : INFO : worker thread finished; awaiting finish of 2 more threads\n2020-09-12 19:52:16,007 : INFO : worker thread finished; awaiting finish of 1 more threads\n2020-09-12 19:52:16,010 : INFO : worker thread finished; awaiting finish of 0 more threads\n2020-09-12 19:52:16,011 : INFO : EPOCH - 100 : training on 48573577 raw words (19012488 effective words) took 45.7s, 416436 effective words/s\n2020-09-12 19:52:16,013 : INFO : training on a 4857357700 raw words (1901280606 effective words) took 4634.3s, 410260 effective words/s\n2020-09-12 19:52:16,607 : INFO : saving Word2Vec object under ./wiki_model, separately None\n2020-09-12 19:52:17,684 : INFO : storing np array 'vectors' to ./wiki_model.wv.vectors.npy\n2020-09-12 19:52:19,567 : INFO : not storing attribute vectors_norm\n2020-09-12 19:52:20,431 : INFO : storing np array 'syn1neg' to ./wiki_model.trainables.syn1neg.npy\n2020-09-12 19:52:21,850 : INFO : not storing attribute cum_table\n2020-09-12 19:52:24,839 : INFO : saved ./wiki_model\nD:\\Anaconda3\\envs\\python36\\lib\\site-packages\\ipykernel_launcher.py:21: DeprecationWarning: Call to deprecated `most_similar` (Method will be removed in 4.0.0, use self.wv.most_similar() instead).\n2020-09-12 19:52:26,283 : INFO : precomputing L2-norms of word weight vectors\n和男孩最相似的是：  儿童 0.5096004009246826\n和男孩最相似的是：  女孩 0.5012096166610718\n和男孩最相似的是：  米迦勒 0.49138525128364563\n和男孩最相似的是：  赛斯 0.48177021741867065\n和男孩最相似的是：  过客 0.4667380452156067\n和男孩最相似的是：  艾莉的异想世界 0.4639456868171692\n和男孩最相似的是：  嫦娥 0.45784664154052734\n和男孩最相似的是：  海德先生 0.4553282856941223\n和男孩最相似的是：  声：神村比奈 0.4552660584449768\n和男孩最相似的是：  Thomsen 0.45447003841400146\n--------------------------------------\n和足球最相似的是：  体育 0.6082568168640137\n和足球最相似的是：  篮球 0.5640841126441956\n和足球最相似的是：D:\\Anaconda3\\envs\\python36\\lib\\site-packages\\ipykernel_launcher.py:25: DeprecationWarning: Call to deprecated `most_similar` (Method will be removed in 4.0.0, use self.wv.most_similar() instead).\n 美式足球 0.5638355016708374\n和足球最相似的是：  棒球 0.5507832169532776\n和足球最相似的是：  大联盟 0.5495648384094238\n和足球最相似的是：  网球 0.5448859930038452\n和足球最相似的是：  球队 0.5324796438217163\n和足球最相似的是：  澳式足球 0.5133183598518372\n和足球最相似的是：  冰上曲棍球 0.5100157260894775\n和足球最相似的是：  游泳 0.5095656514167786\n--------------------------------------\n[ 0.8396721  -0.7171084  -0.11724491 -0.16917022  1.0221945  -1.1738113\n  1.3859202  -0.8790373  -1.8766541   1.3112407   0.9324499   0.16380012\n -0.05257631  1.0029163  -0.90137327  0.7375802  -1.3408587   0.2310054\n  0.02604463 -0.52285004  0.66531366  0.42411855  1.7286721   0.2455213\n  0.9878332  -0.53616256  0.54950887 -1.1315434   0.40757674 -0.33032644\n  0.05967197  0.34632337 -1.4189452  -0.7080324   1.8199662   0.17997727\n  0.41168758 -0.986966   -0.46848202 -0.1770822  -0.79625064  0.68885756\n  1.4180195  -0.29976606 -0.91732514  1.2355958  -0.27473426  1.2650822\n -0.89845854  0.7938592   0.03209865  0.77525985 -1.0587987  -1.4577992\n  2.2303667  -0.17436926 -0.663636    0.17913175  1.251567   -0.6830987\n  0.5140133  -0.2400213  -0.9569559  -0.47560424 -0.24460566  1.0294466\n  0.32516065  0.11085005  0.20713502 -0.64316165 -0.12445966 -0.49790555\n  0.17881426  0.47066298 -0.28670713  1.0735706   0.05946101 -0.24987997\n  0.6297731   0.11700036 -0.10540161 -0.02859834 -0.04780408 -0.97804064\n  0.62209356 -1.1522683   0.8240484   0.78295946 -0.16915105 -0.09557687\n -0.36250374 -0.05430434  0.30948833 -1.9374081  -0.6439523   0.81424415\n  1.0498407   0.18897918 -0.4554782   0.23547317]\nD:\\Anaconda3\\envs\\python36\\lib\\site-packages\\ipykernel_launcher.py:29: DeprecationWarning: Call to deprecated `__getitem__` (Method will be removed in 4.0.0, use self.wv.__getitem__() instead).\n"
    }
   ],
   "source": [
    "import pandas as pd\n",
    "import numpy as np\n",
    "import lightgbm as lgb\n",
    "from sklearn.model_selection import StratifiedKFold\n",
    "from sklearn.metrics import f1_score\n",
    "from gensim.models import word2vec\n",
    "import logging, jieba\n",
    "import os, io\n",
    "\n",
    "\n",
    "logging.basicConfig(format='%(asctime)s : %(levelname)s : %(message)s', level=logging.INFO) \n",
    "sentences = word2vec.Text8Corpus(u\"./wiki.txt\")\n",
    "if os.path.exists(\"./wiki_model\"): \n",
    "  model = word2vec.Word2Vec.load('./wiki_model') \n",
    "else: \n",
    "  #这里迭代次数iter默认为5，我使用的是100，生成size=100维词向量，出现少于min_count=5次的词忽略\n",
    "  model = word2vec.Word2Vec(sentences, min_count=5, size=100, iter=100)\n",
    "  model.save(\"./wiki_model\")\n",
    "\n",
    "#下面是测试生成的模型\n",
    "y = model.most_similar(u'男孩', topn = 10)\n",
    "for item in y:\n",
    "  print('和男孩最相似的是： ', item[0], item[1])\n",
    "print('--------------------------------------')\n",
    "y = model.most_similar(u'足球', topn = 10)\n",
    "for item in y:\n",
    "  print('和足球最相似的是： ', item[0], item[1])\n",
    "print('--------------------------------------')\n",
    "print(model[u'早餐'])"
   ]
  },
  {
   "cell_type": "code",
   "execution_count": 21,
   "metadata": {
    "tags": []
   },
   "outputs": [
    {
     "output_type": "stream",
     "name": "stdout",
     "text": "最相似的是：  图片 0.748155415058136\n最相似的是：  建筑设计 0.7148329615592957\n最相似的是：  建筑风格 0.7062318921089172\n最相似的是：  建筑特点 0.6815007925033569\n最相似的是：  画廊 0.6688799858093262\n最相似的是：  特色 0.66258704662323\n最相似的是：  建筑特色 0.6541027426719666\n最相似的是：  主要建筑 0.6501036882400513\n最相似的是：  馆藏 0.6418026685714722\n最相似的是：  藏品 0.6412068605422974\nD:\\Anaconda3\\envs\\python36\\lib\\site-packages\\ipykernel_launcher.py:1: DeprecationWarning: Call to deprecated `most_similar` (Method will be removed in 4.0.0, use self.wv.most_similar() instead).\n  \"\"\"Entry point for launching an IPython kernel.\n"
    }
   ],
   "source": [
    "y = model.most_similar(u'建筑', topn = 10)\n",
    "for item in y:\n",
    "  print('最相似的是： ', item[0], item[1])"
   ]
  },
  {
   "cell_type": "code",
   "execution_count": 27,
   "metadata": {
    "tags": []
   },
   "outputs": [
    {
     "output_type": "stream",
     "name": "stderr",
     "text": "D:\\Anaconda3\\envs\\python36\\lib\\site-packages\\ipykernel_launcher.py:1: DeprecationWarning: Call to deprecated `similarity` (Method will be removed in 4.0.0, use self.wv.similarity() instead).\n  \"\"\"Entry point for launching an IPython kernel.\n"
    },
    {
     "output_type": "execute_result",
     "data": {
      "text/plain": "0.34998924"
     },
     "metadata": {},
     "execution_count": 27
    }
   ],
   "source": [
    "model.similarity(u'物联网', u'通信')"
   ]
  },
  {
   "cell_type": "code",
   "execution_count": null,
   "metadata": {},
   "outputs": [],
   "source": []
  }
 ]
}