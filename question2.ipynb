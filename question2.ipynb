{
 "cells": [
  {
   "cell_type": "code",
   "execution_count": 1,
   "metadata": {},
   "outputs": [],
   "source": [
    "import numpy as np\n",
    "import pandas as pd\n",
    "import plotly_express as px\n",
    "import matplotlib.pyplot as plt\n",
    "from Invoice import Invoice\n",
    "from Enterprise import Enterprise"
   ]
  },
  {
   "cell_type": "code",
   "execution_count": 57,
   "metadata": {},
   "outputs": [],
   "source": [
    "enterprise_info=pd.read_csv('./C/2_info_random.csv')\n",
    "N_enterprise=enterprise_info.shape[0]"
   ]
  },
  {
   "cell_type": "code",
   "execution_count": 58,
   "metadata": {},
   "outputs": [],
   "source": [
    "enterprise_dic={}\n",
    "for i in range(N_enterprise):\n",
    "    number = enterprise_info['企业代号'][i]\n",
    "    name = enterprise_info['企业名称'][i]\n",
    "    credit_rating = enterprise_info['信誉评级'][i]\n",
    "    break_contract_str = enterprise_info['是否违约'][i]\n",
    "    break_contract = True if break_contract_str=='是' else False\n",
    "    enterprise_object=Enterprise(number,name,credit_rating,break_contract)\n",
    "    enterprise_dic[number]=enterprise_object"
   ]
  },
  {
   "cell_type": "code",
   "execution_count": 59,
   "metadata": {
    "tags": []
   },
   "outputs": [
    {
     "output_type": "execute_result",
     "data": {
      "text/plain": "     企业代号         企业名称 信誉评级 是否违约\n0    E124    个体经营E124     C    否\n1    E125    个体经营E125     B    否\n2    E126    个体经营E126     A    否\n3    E127    个体经营E127     C    否\n4    E128    个体经营E128     B    否\n..    ...          ...  ...  ...\n297  E421  ***保温材料有限公司    A    是\n298  E422       ***童装店    B    否\n299  E423  ***通风设备有限公司    B    是\n300  E424    ***贸易有限公司    D    是\n301  E425    ***商贸有限公司    D    是\n\n[302 rows x 4 columns]",
      "text/html": "<div>\n<style scoped>\n    .dataframe tbody tr th:only-of-type {\n        vertical-align: middle;\n    }\n\n    .dataframe tbody tr th {\n        vertical-align: top;\n    }\n\n    .dataframe thead th {\n        text-align: right;\n    }\n</style>\n<table border=\"1\" class=\"dataframe\">\n  <thead>\n    <tr style=\"text-align: right;\">\n      <th></th>\n      <th>企业代号</th>\n      <th>企业名称</th>\n      <th>信誉评级</th>\n      <th>是否违约</th>\n    </tr>\n  </thead>\n  <tbody>\n    <tr>\n      <th>0</th>\n      <td>E124</td>\n      <td>个体经营E124</td>\n      <td>C</td>\n      <td>否</td>\n    </tr>\n    <tr>\n      <th>1</th>\n      <td>E125</td>\n      <td>个体经营E125</td>\n      <td>B</td>\n      <td>否</td>\n    </tr>\n    <tr>\n      <th>2</th>\n      <td>E126</td>\n      <td>个体经营E126</td>\n      <td>A</td>\n      <td>否</td>\n    </tr>\n    <tr>\n      <th>3</th>\n      <td>E127</td>\n      <td>个体经营E127</td>\n      <td>C</td>\n      <td>否</td>\n    </tr>\n    <tr>\n      <th>4</th>\n      <td>E128</td>\n      <td>个体经营E128</td>\n      <td>B</td>\n      <td>否</td>\n    </tr>\n    <tr>\n      <th>...</th>\n      <td>...</td>\n      <td>...</td>\n      <td>...</td>\n      <td>...</td>\n    </tr>\n    <tr>\n      <th>297</th>\n      <td>E421</td>\n      <td>***保温材料有限公司</td>\n      <td>A</td>\n      <td>是</td>\n    </tr>\n    <tr>\n      <th>298</th>\n      <td>E422</td>\n      <td>***童装店</td>\n      <td>B</td>\n      <td>否</td>\n    </tr>\n    <tr>\n      <th>299</th>\n      <td>E423</td>\n      <td>***通风设备有限公司</td>\n      <td>B</td>\n      <td>是</td>\n    </tr>\n    <tr>\n      <th>300</th>\n      <td>E424</td>\n      <td>***贸易有限公司</td>\n      <td>D</td>\n      <td>是</td>\n    </tr>\n    <tr>\n      <th>301</th>\n      <td>E425</td>\n      <td>***商贸有限公司</td>\n      <td>D</td>\n      <td>是</td>\n    </tr>\n  </tbody>\n</table>\n<p>302 rows × 4 columns</p>\n</div>"
     },
     "metadata": {},
     "execution_count": 59
    }
   ],
   "source": [
    "anum = 0\n",
    "bnum = 0\n",
    "for i in range(N_enterprise):\n",
    "    a = np.random.randint(1,6)\n",
    "    if a == 1:\n",
    "        anum = anum + 1\n",
    "    else:\n",
    "        bnum = bnum + 1\n",
    "    enterprise_info['是否违约'][i] = '是' if a == 1 else '否'\n",
    "enterprise_info"
   ]
  },
  {
   "cell_type": "code",
   "execution_count": 60,
   "metadata": {},
   "outputs": [],
   "source": [
    "#enterprise_info.to_csv(\"./C/2_info_random.csv\",index=False,sep=',',encoding='utf_8_sig')"
   ]
  },
  {
   "cell_type": "code",
   "execution_count": 61,
   "metadata": {},
   "outputs": [],
   "source": [
    "invoice_in = pd.read_csv('./C/2_in.csv')\n",
    "N_in = invoice_in.shape[0]"
   ]
  },
  {
   "cell_type": "code",
   "execution_count": 62,
   "metadata": {},
   "outputs": [],
   "source": [
    "from datetime import date\n",
    "def get_date(date_str):\n",
    "    y,m,d=date_str.split('/')\n",
    "    if len(m) != 2:\n",
    "        m = '0' + m\n",
    "    if len(d) != 2:\n",
    "        d = '0' + d\n",
    "    return date.fromisoformat(y+'-'+m+'-'+d)"
   ]
  },
  {
   "cell_type": "code",
   "execution_count": 63,
   "metadata": {},
   "outputs": [
    {
     "output_type": "error",
     "ename": "KeyboardInterrupt",
     "evalue": "",
     "traceback": [
      "\u001b[0;31m---------------------------------------------------------------------------\u001b[0m",
      "\u001b[0;31mKeyboardInterrupt\u001b[0m                         Traceback (most recent call last)",
      "\u001b[0;32m<ipython-input-63-bb427e0e59f7>\u001b[0m in \u001b[0;36m<module>\u001b[0;34m\u001b[0m\n\u001b[1;32m      8\u001b[0m     \u001b[0mamount\u001b[0m \u001b[0;34m=\u001b[0m \u001b[0minvoice_in\u001b[0m\u001b[0;34m[\u001b[0m\u001b[0;34m'金额'\u001b[0m\u001b[0;34m]\u001b[0m\u001b[0;34m[\u001b[0m\u001b[0mi\u001b[0m\u001b[0;34m]\u001b[0m\u001b[0;34m\u001b[0m\u001b[0;34m\u001b[0m\u001b[0m\n\u001b[1;32m      9\u001b[0m     \u001b[0mtax\u001b[0m \u001b[0;34m=\u001b[0m \u001b[0minvoice_in\u001b[0m\u001b[0;34m[\u001b[0m\u001b[0;34m'税额'\u001b[0m\u001b[0;34m]\u001b[0m\u001b[0;34m[\u001b[0m\u001b[0mi\u001b[0m\u001b[0;34m]\u001b[0m\u001b[0;34m\u001b[0m\u001b[0;34m\u001b[0m\u001b[0m\n\u001b[0;32m---> 10\u001b[0;31m     \u001b[0msum_money\u001b[0m \u001b[0;34m=\u001b[0m \u001b[0minvoice_in\u001b[0m\u001b[0;34m[\u001b[0m\u001b[0;34m'价税合计'\u001b[0m\u001b[0;34m]\u001b[0m\u001b[0;34m[\u001b[0m\u001b[0mi\u001b[0m\u001b[0;34m]\u001b[0m\u001b[0;34m\u001b[0m\u001b[0;34m\u001b[0m\u001b[0m\n\u001b[0m\u001b[1;32m     11\u001b[0m     \u001b[0mstate_available_str\u001b[0m \u001b[0;34m=\u001b[0m \u001b[0minvoice_in\u001b[0m\u001b[0;34m[\u001b[0m\u001b[0;34m'发票状态'\u001b[0m\u001b[0;34m]\u001b[0m\u001b[0;34m[\u001b[0m\u001b[0mi\u001b[0m\u001b[0;34m]\u001b[0m\u001b[0;34m\u001b[0m\u001b[0;34m\u001b[0m\u001b[0m\n\u001b[1;32m     12\u001b[0m     \u001b[0mstate_available\u001b[0m \u001b[0;34m=\u001b[0m \u001b[0;32mTrue\u001b[0m \u001b[0;32mif\u001b[0m \u001b[0mstate_available_str\u001b[0m \u001b[0;34m==\u001b[0m \u001b[0;34m'有效发票'\u001b[0m \u001b[0;32melse\u001b[0m \u001b[0;32mFalse\u001b[0m\u001b[0;34m\u001b[0m\u001b[0;34m\u001b[0m\u001b[0m\n",
      "\u001b[0;32m~/.local/lib/python3.7/site-packages/pandas/core/frame.py\u001b[0m in \u001b[0;36m__getitem__\u001b[0;34m(self, key)\u001b[0m\n\u001b[1;32m   2769\u001b[0m         \u001b[0mkey\u001b[0m \u001b[0;34m=\u001b[0m \u001b[0mcom\u001b[0m\u001b[0;34m.\u001b[0m\u001b[0mapply_if_callable\u001b[0m\u001b[0;34m(\u001b[0m\u001b[0mkey\u001b[0m\u001b[0;34m,\u001b[0m \u001b[0mself\u001b[0m\u001b[0;34m)\u001b[0m\u001b[0;34m\u001b[0m\u001b[0;34m\u001b[0m\u001b[0m\n\u001b[1;32m   2770\u001b[0m \u001b[0;34m\u001b[0m\u001b[0m\n\u001b[0;32m-> 2771\u001b[0;31m         \u001b[0;32mif\u001b[0m \u001b[0mis_hashable\u001b[0m\u001b[0;34m(\u001b[0m\u001b[0mkey\u001b[0m\u001b[0;34m)\u001b[0m\u001b[0;34m:\u001b[0m\u001b[0;34m\u001b[0m\u001b[0;34m\u001b[0m\u001b[0m\n\u001b[0m\u001b[1;32m   2772\u001b[0m             \u001b[0;31m# shortcut if the key is in columns\u001b[0m\u001b[0;34m\u001b[0m\u001b[0;34m\u001b[0m\u001b[0;34m\u001b[0m\u001b[0m\n\u001b[1;32m   2773\u001b[0m             \u001b[0;32mif\u001b[0m \u001b[0mself\u001b[0m\u001b[0;34m.\u001b[0m\u001b[0mcolumns\u001b[0m\u001b[0;34m.\u001b[0m\u001b[0mis_unique\u001b[0m \u001b[0;32mand\u001b[0m \u001b[0mkey\u001b[0m \u001b[0;32min\u001b[0m \u001b[0mself\u001b[0m\u001b[0;34m.\u001b[0m\u001b[0mcolumns\u001b[0m\u001b[0;34m:\u001b[0m\u001b[0;34m\u001b[0m\u001b[0;34m\u001b[0m\u001b[0m\n",
      "\u001b[0;32m~/.local/lib/python3.7/site-packages/pandas/core/dtypes/inference.py\u001b[0m in \u001b[0;36mis_hashable\u001b[0;34m(obj)\u001b[0m\n\u001b[1;32m    356\u001b[0m \u001b[0;34m\u001b[0m\u001b[0m\n\u001b[1;32m    357\u001b[0m \u001b[0;34m\u001b[0m\u001b[0m\n\u001b[0;32m--> 358\u001b[0;31m \u001b[0;32mdef\u001b[0m \u001b[0mis_hashable\u001b[0m\u001b[0;34m(\u001b[0m\u001b[0mobj\u001b[0m\u001b[0;34m)\u001b[0m \u001b[0;34m->\u001b[0m \u001b[0mbool\u001b[0m\u001b[0;34m:\u001b[0m\u001b[0;34m\u001b[0m\u001b[0;34m\u001b[0m\u001b[0m\n\u001b[0m\u001b[1;32m    359\u001b[0m     \"\"\"\n\u001b[1;32m    360\u001b[0m     \u001b[0mReturn\u001b[0m \u001b[0;32mTrue\u001b[0m \u001b[0;32mif\u001b[0m \u001b[0mhash\u001b[0m\u001b[0;34m(\u001b[0m\u001b[0mobj\u001b[0m\u001b[0;34m)\u001b[0m \u001b[0mwill\u001b[0m \u001b[0msucceed\u001b[0m\u001b[0;34m,\u001b[0m \u001b[0;32mFalse\u001b[0m \u001b[0motherwise\u001b[0m\u001b[0;34m.\u001b[0m\u001b[0;34m\u001b[0m\u001b[0;34m\u001b[0m\u001b[0m\n",
      "\u001b[0;31mKeyboardInterrupt\u001b[0m: "
     ]
    }
   ],
   "source": [
    "for i in range(N_in):\n",
    "    enterprise_name = invoice_in['企业代号'][i]\n",
    "    number = invoice_in['发票号码'][i]\n",
    "    date_str = invoice_in['开票日期'][i]\n",
    "    date = get_date(date_str)\n",
    "    self_enterprise = enterprise_dic[enterprise_name]\n",
    "    partner = invoice_in['销方单位代号'][i]\n",
    "    amount = invoice_in['金额'][i]\n",
    "    tax = invoice_in['税额'][i]\n",
    "    sum_money = invoice_in['价税合计'][i]\n",
    "    state_available_str = invoice_in['发票状态'][i]\n",
    "    state_available = True if state_available_str == '有效发票' else False\n",
    "    invoice_object = Invoice(number,date,self_enterprise,partner,amount,tax,sum_money,state_available,True)\n",
    "    self_enterprise.add_invoice(invoice_object)"
   ]
  },
  {
   "cell_type": "code",
   "execution_count": null,
   "metadata": {},
   "outputs": [],
   "source": [
    "invoice_out = pd.read_csv('./C/2_out.csv')\n",
    "N_out = invoice_out.shape[0]"
   ]
  },
  {
   "cell_type": "code",
   "execution_count": null,
   "metadata": {},
   "outputs": [],
   "source": [
    "for i in range(N_out):\n",
    "    enterprise_name = invoice_out['企业代号'][i]\n",
    "    number = invoice_out['发票号码'][i]\n",
    "    date_str = invoice_out['开票日期'][i]\n",
    "    date = get_date(date_str)\n",
    "    self_enterprise = enterprise_dic[enterprise_name]\n",
    "    partner = invoice_out['购方单位代号'][i]\n",
    "    amount = invoice_out['金额'][i]\n",
    "    tax = invoice_out['税额'][i]\n",
    "    sum_money = invoice_out['价税合计'][i]\n",
    "    state_available_str = invoice_out['发票状态'][i]\n",
    "    state_available = True if state_available_str == '有效发票' else False\n",
    "    invoice_object = Invoice(number,date,self_enterprise,partner,amount,tax,sum_money,state_available,False)\n",
    "    self_enterprise.add_invoice(invoice_object)"
   ]
  },
  {
   "cell_type": "code",
   "execution_count": null,
   "metadata": {},
   "outputs": [],
   "source": [
    "for enterprise in enterprise_dic.values():\n",
    "    enterprise.invoice_list.sort(key=lambda x:x.date)"
   ]
  },
  {
   "cell_type": "code",
   "execution_count": null,
   "metadata": {},
   "outputs": [],
   "source": [
    "frame = pd.DataFrame(columns=['日期','资金','企业代号'])\n",
    "for enterprise in enterprise_dic.values():\n",
    "    sum = 0\n",
    "    current_date = enterprise.invoice_list[0].date\n",
    "    for invoice in enterprise.invoice_list:\n",
    "        if invoice.state_avaliable == False:\n",
    "            continue\n",
    "        temp = invoice\n",
    "        if invoice.date!=current_date:\n",
    "            frame = frame.append([{'日期':current_date,'资金':sum,'企业代号':enterprise.number}],ignore_index=True)\n",
    "            current_date = invoice.date\n",
    "        if invoice.buy_in == True:\n",
    "            sum = sum - invoice.sum_money\n",
    "        else:\n",
    "            sum = sum + invoice.amount\n",
    "    frame = frame.append([{'日期':temp.date,'资金':sum,'企业代号':enterprise.number}],ignore_index=True)\n",
    "frame.to_csv(\"./C/2_收益波动_日期.csv\",index=False,sep=',',encoding='utf_8_sig')"
   ]
  },
  {
   "cell_type": "code",
   "execution_count": null,
   "metadata": {},
   "outputs": [],
   "source": [
    "graph = px.line(frame, x=\"日期\", y=\"资金\",color='企业代号',  render_mode=\"auto\")\n",
    "graph.write_html('./2_graph/total.html')"
   ]
  },
  {
   "cell_type": "code",
   "execution_count": null,
   "metadata": {},
   "outputs": [],
   "source": [
    "frame1 = pd.DataFrame(columns=['日期','资金','企业代号','信誉评级'])\n",
    "for enterprise in enterprise_dic.values():\n",
    "    temp = frame[frame.企业代号 == enterprise.number].reset_index(drop=True)\n",
    "    first_date = temp['日期'][0]\n",
    "    for i in range(temp.shape[0]):\n",
    "        frame1 = frame1.append([{'日期':(temp['日期'][i]-first_date).days,'资金':temp['资金'][i],'企业代号':temp['企业代号'][i]}],ignore_index=True)"
   ]
  },
  {
   "cell_type": "code",
   "execution_count": null,
   "metadata": {},
   "outputs": [],
   "source": [
    "#frame1.to_csv(\"./C/2_收益波动.csv\",index=False,sep=',',encoding='utf_8_sig')\n",
    "frame1 = pd.read_csv(\"./C/2_收益波动.csv\")"
   ]
  },
  {
   "cell_type": "code",
   "execution_count": null,
   "metadata": {
    "tags": []
   },
   "outputs": [],
   "source": [
    "k_mean_var_dic = {}\n",
    "for enterprise in enterprise_dic.values():\n",
    "    temp = frame1[frame1.企业代号 == enterprise.number].reset_index(drop=True)\n",
    "    N = temp.shape[0]\n",
    "    days = temp['日期'][N-1]\n",
    "    ks=[]\n",
    "    i=0\n",
    "    while temp['日期'][i] + 30 < days:\n",
    "        today = temp['日期'][i]\n",
    "        min_index = i\n",
    "        min_days = 1000\n",
    "        for j in range(i+1,N):\n",
    "            delta = temp['日期'][j] - temp['日期'][i] - 30\n",
    "            if abs(delta) < min_days:\n",
    "                min_days = abs(delta)\n",
    "                min_index = j\n",
    "            if delta > 0:\n",
    "                break\n",
    "        ks.append((temp['资金'][min_index] - temp['资金'][i])/(temp['日期'][min_index] - temp['日期'][i]))\n",
    "        i=min_index\n",
    "    k_mean_var_dic[enerprise.number] = [np.mean(ks),np.var(ks)]\n",
    "frame7 = pd.DataFrame.from_dict(k_mean_var_dic,orient='index',columns=['增长率均值','增长率方差'])\n",
    "frame7 = frame7.reset_index().retname(columns={'index':'企业代号'})\n",
    "frame7.to_csv(\"./C/2_资金增长率均值方差.csv\",index=False,sep=',',encoding='utf_8_sig')"
   ]
  },
  {
   "cell_type": "code",
   "execution_count": null,
   "metadata": {},
   "outputs": [],
   "source": [
    "As = {}\n",
    "for enterprise in enterprise_dic.values():\n",
    "    temp = frame1[frame1.企业代号 == enterprise.number].reset_index(drop=True)\n",
    "    N = temp.shape[0]\n",
    "    days = temp['日期'][N-1]\n",
    "    min_days = 365\n",
    "    min_index = 0\n",
    "    for i in range(N):\n",
    "        if abs(days-temp['日期'][i]-365)<min_days:\n",
    "            min_days=abs(days-temp['日期'][i]-365)\n",
    "            min_index = i\n",
    "    '''\n",
    "    print('min_days:',min_days)\n",
    "    print('min_index:',min_index)\n",
    "    '''\n",
    "    delta = temp['资金'][N-1] - temp['资金'][min_index]\n",
    "    As[enterprise.number] = int(delta/3)\n",
    "#As"
   ]
  },
  {
   "cell_type": "code",
   "execution_count": null,
   "metadata": {},
   "outputs": [],
   "source": [
    "for en_num in As.keys():\n",
    "    if As[en_num]>1000000:\n",
    "        As[en_num]=1000000\n",
    "    if As[en_num]<0:\n",
    "        As[en_num]=0"
   ]
  },
  {
   "cell_type": "code",
   "execution_count": null,
   "metadata": {},
   "outputs": [],
   "source": [
    "data_rate_and_loss = pd.read_csv(\"./C/rate_and_loss.csv\")\n",
    "def calc_alpha(r, credit_rating):\n",
    "    for i in range(data_rate_and_loss.shape[0]):\n",
    "        if data_rate_and_loss[\"贷款年利率\"][i] == r:\n",
    "            return data_rate_and_loss[credit_rating][i]\n",
    "\n",
    "def calc_beta(A, F):\n",
    "    return F(A)\n",
    "\n",
    "def calc_gamma(credit_rating, break_contract):\n",
    "    c = {\"A\": 1, \"B\": 0.9, \"C\": 0.7}\n",
    "    b = {True: 0.5, False: 1}\n",
    "    return c[credit_rating] * b[break_contract]\n",
    "\n",
    "def calc_A_(A, F, f,enterprise: \"Enterprise\"):\n",
    "    #v, err = integrate.quad(F, -np.inf, A)\n",
    "    lower = frame4[frame4.企业代号 == enterprise.number].reset_index(drop=True)['资金'][0]\n",
    "    #print(lower,F(lower))\n",
    "    v = F.integ()(A)-F.integ()(lower)\n",
    "    return (A * F(A)- lower * F(lower) - v) / (F(A)-F(lower))\n",
    "\n",
    "def calc_expect_profit(A, r, enterprise: \"Enterprise\",F):\n",
    "    alpha = calc_alpha(r, enterprise.credit_rating) # 客户流失率\n",
    "    beta = calc_beta(A,F) # 资金抵债率\n",
    "    gamma = calc_gamma(enterprise.credit_rating, enterprise.break_contract) # 企业信誉系数\n",
    "    f=F.deriv()\n",
    "    A_ = calc_A_(A,F,f,enterprise) # 无法还债时的期望剩余资金\n",
    "    '''\n",
    "    print('beta: ',beta)\n",
    "    print('gamma: ',gamma)\n",
    "    print('A_: ',A_)\n",
    "    print('(A_ / gamma - A * (1 + r)) :',(A_ / gamma - A * (1 + r)))\n",
    "    print('(A * r): ',(A * r))\n",
    "    '''\n",
    "    return (beta * (A_ / gamma - A) + (1 - beta) * (A * r)) * (1 - alpha)"
   ]
  },
  {
   "cell_type": "code",
   "execution_count": null,
   "metadata": {},
   "outputs": [],
   "source": [
    "from scipy.stats import norm\n",
    "from Enterprise import Enterprise\n",
    "\n",
    "def calc(enterprise, A, r):\n",
    "    temp = frame1[frame1.企业代号 == enterprise.number].reset_index(drop=True)\n",
    "    #remain = predict(temp)\n",
    "    #beta = 1.0 * A / remain[0] * 0.5\n",
    "    beta = np.random.randint(5,15)/1000\n",
    "    #if (remain[0] < 0):\n",
    "    #    return -1\n",
    "\n",
    "    gamma = calc_gamma(enterprise.credit_rating, enterprise.break_contract)\n",
    "    #EL =  remain[0] / gamma - A\n",
    "    EL = -A\n",
    "    alpha = calc_alpha(r, enterprise.credit_rating)\n",
    "\n",
    "    '''\n",
    "    print(enterprise.number)\n",
    "    print(\"remain=\", remain[0])\n",
    "    print(\"beta=\", beta)\n",
    "    print(\"gamma=\", gamma)\n",
    "    print(\"EL=\", EL)\n",
    "    print(\"alpha=\", alpha)\n",
    "\n",
    "    '''\n",
    "\n",
    "    return 1.0 * (A * r * (1 - beta) + EL * beta) * (1 - alpha)"
   ]
  },
  {
   "cell_type": "code",
   "execution_count": null,
   "metadata": {},
   "outputs": [],
   "source": [
    "rates = list(data_rate_and_loss[\"贷款年利率\"])"
   ]
  },
  {
   "cell_type": "code",
   "execution_count": null,
   "metadata": {
    "tags": []
   },
   "outputs": [],
   "source": [
    "i=0\n",
    "for enterprise in enterprise_dic.values():\n",
    "    #enterprise = enterprise_dic['E71']\n",
    "    #frame5 = pd.DataFrame(columns=['预期收益','贷款金额','年利率'])\n",
    "    if enterprise.credit_rating == \"D\" or As[enterprise.number]==0:\n",
    "        continue\n",
    "    ans = 0\n",
    "    ans_A = 0\n",
    "    ans_r = 0\n",
    "    A = As[enterprise.number]\n",
    "    for r in rates:\n",
    "        ans_ = calc(enterprise, A, r)\n",
    "        #frame5 = frame5.append([{'预期收益':ans_,'贷款金额':A,'年利率':r}],ignore_index=True)\n",
    "        # print(enterprise.number, ans_, A, r)\n",
    "        if (ans_>ans):\n",
    "            ans = ans_\n",
    "            ans_A = A\n",
    "            ans_r = r\n",
    "    #print(enterprise.number,ans)\n",
    "    print(enterprise.number, A, ans, ans_r)\n",
    "    #graph4 = px.scatter_3d(frame5, x=\"贷款金额\", y=\"年利率\",z='预期收益')\n",
    "    #graph4.write_html('./1_graph/预期收益/'+enterprise.number+'.html')\n",
    "    "
   ]
  },
  {
   "cell_type": "code",
   "execution_count": 80,
   "metadata": {
    "tags": []
   },
   "outputs": [
    {
     "output_type": "execute_result",
     "data": {
      "text/plain": "'\\nframe8 = frame8.sort_values(by=[\\'额度\\',\\'企业代号\\'],axis=0,ascending=[False,True]).reset_index(drop=True)\\ngraph2 = px.histogram(frame8, x=\"企业代号\", y=\"额度\",color_discrete_map=color_dic)\\ngraph2.write_html(\\'./2_graph/A倒序.html\\')\\n'"
     },
     "metadata": {},
     "execution_count": 80
    }
   ],
   "source": [
    "frame8 = pd.read_csv('answer2.csv')\n",
    "#print(sum(frame8['额度']))\n",
    "#graph = px.scatter(frame8, x=\"额度\", y=\"年利率\", size=\"预期收益\", color=\"企业代号\",hover_name=\"企业代号\", log_x=True, size_max=30)\n",
    "#graph.write_html('./answer2.html')\n",
    "\n",
    "'''\n",
    "frame8 = frame8.sort_values(by=['额度','企业代号'],axis=0,ascending=[False,True]).reset_index(drop=True)\n",
    "graph2 = px.histogram(frame8, x=\"企业代号\", y=\"额度\",color_discrete_map=color_dic)\n",
    "graph2.write_html('./2_graph/A倒序.html')\n",
    "'''"
   ]
  },
  {
   "cell_type": "code",
   "execution_count": 54,
   "metadata": {},
   "outputs": [],
   "source": [
    "color_dic = {}\n",
    "for enterprise in enterprise_dic.keys():\n",
    "    if frame10[frame10.企业代号 == enterprise].reset_index(drop=True)['均值×方差'][0] < 0 :\n",
    "        color_dic[enterprise] = 'red'\n",
    "    else:\n",
    "        color_dic[enterprise] = 'blue'"
   ]
  },
  {
   "cell_type": "code",
   "execution_count": 2,
   "metadata": {
    "tags": []
   },
   "outputs": [],
   "source": [
    "frame9 = pd.read_csv('./C/2_资金增长率均值方差.csv')\n",
    "frame10 = pd.DataFrame(columns=['企业代号','均值×方差'])\n",
    "for i in range(frame9.shape[0]):\n",
    "    frame10 = frame10.append([{'企业代号':frame9['企业代号'][i],'均值×方差':np.log2(frame9['增长率均值'][i]*frame9['增长率方差'][i]) if frame9['增长率均值'][i]*frame9['增长率方差'][i] > 0 else -np.log2(-frame9['增长率均值'][i]*frame9['增长率方差'][i])}],ignore_index=True)\n",
    "frame10 = frame10.sort_values(by=['均值×方差','企业代号'],axis=0,ascending=[False,True]).reset_index(drop=True)\n",
    "frame10.to_csv(\"./C/2_增长率均值×方差.csv\",index=False,sep=',',encoding='utf_8_sig')\n",
    "graph3 = px.histogram(frame10, x=\"企业代号\", y=\"均值×方差\",color_discrete_map=color_dic)\n",
    "graph3.write_html('./2_graph/增长率均值×方差.html')"
   ]
  },
  {
   "cell_type": "code",
   "execution_count": 81,
   "metadata": {},
   "outputs": [
    {
     "output_type": "execute_result",
     "data": {
      "text/plain": "     企业代号       额度          预期收益     年利率 增长率均值×方差\n0    E126  1000000  33857.455470  0.0465  54.6582\n1    E127  1000000  35555.084077  0.0785  56.9879\n2    E128  1000000  35616.035601  0.0585  54.2986\n3    E129  1000000  34805.472013  0.0825   52.516\n4    E131  1000000  37091.831441  0.0585  49.3263\n..    ...      ...           ...     ...      ...\n186  E422     7617    269.235321  0.0625  19.2056\n187  E393     5937    200.433120  0.0400  27.6263\n188  E417     5933    219.615505  0.0585  21.7517\n189  E402     5771    198.613551  0.0665  35.1919\n190  E412     2720     98.639695  0.0585  24.5109\n\n[191 rows x 5 columns]",
      "text/html": "<div>\n<style scoped>\n    .dataframe tbody tr th:only-of-type {\n        vertical-align: middle;\n    }\n\n    .dataframe tbody tr th {\n        vertical-align: top;\n    }\n\n    .dataframe thead th {\n        text-align: right;\n    }\n</style>\n<table border=\"1\" class=\"dataframe\">\n  <thead>\n    <tr style=\"text-align: right;\">\n      <th></th>\n      <th>企业代号</th>\n      <th>额度</th>\n      <th>预期收益</th>\n      <th>年利率</th>\n      <th>增长率均值×方差</th>\n    </tr>\n  </thead>\n  <tbody>\n    <tr>\n      <th>0</th>\n      <td>E126</td>\n      <td>1000000</td>\n      <td>33857.455470</td>\n      <td>0.0465</td>\n      <td>54.6582</td>\n    </tr>\n    <tr>\n      <th>1</th>\n      <td>E127</td>\n      <td>1000000</td>\n      <td>35555.084077</td>\n      <td>0.0785</td>\n      <td>56.9879</td>\n    </tr>\n    <tr>\n      <th>2</th>\n      <td>E128</td>\n      <td>1000000</td>\n      <td>35616.035601</td>\n      <td>0.0585</td>\n      <td>54.2986</td>\n    </tr>\n    <tr>\n      <th>3</th>\n      <td>E129</td>\n      <td>1000000</td>\n      <td>34805.472013</td>\n      <td>0.0825</td>\n      <td>52.516</td>\n    </tr>\n    <tr>\n      <th>4</th>\n      <td>E131</td>\n      <td>1000000</td>\n      <td>37091.831441</td>\n      <td>0.0585</td>\n      <td>49.3263</td>\n    </tr>\n    <tr>\n      <th>...</th>\n      <td>...</td>\n      <td>...</td>\n      <td>...</td>\n      <td>...</td>\n      <td>...</td>\n    </tr>\n    <tr>\n      <th>186</th>\n      <td>E422</td>\n      <td>7617</td>\n      <td>269.235321</td>\n      <td>0.0625</td>\n      <td>19.2056</td>\n    </tr>\n    <tr>\n      <th>187</th>\n      <td>E393</td>\n      <td>5937</td>\n      <td>200.433120</td>\n      <td>0.0400</td>\n      <td>27.6263</td>\n    </tr>\n    <tr>\n      <th>188</th>\n      <td>E417</td>\n      <td>5933</td>\n      <td>219.615505</td>\n      <td>0.0585</td>\n      <td>21.7517</td>\n    </tr>\n    <tr>\n      <th>189</th>\n      <td>E402</td>\n      <td>5771</td>\n      <td>198.613551</td>\n      <td>0.0665</td>\n      <td>35.1919</td>\n    </tr>\n    <tr>\n      <th>190</th>\n      <td>E412</td>\n      <td>2720</td>\n      <td>98.639695</td>\n      <td>0.0585</td>\n      <td>24.5109</td>\n    </tr>\n  </tbody>\n</table>\n<p>191 rows × 5 columns</p>\n</div>"
     },
     "metadata": {},
     "execution_count": 81
    }
   ],
   "source": [
    "frame11 = pd.read_csv('./C/2_增长率均值×方差.csv')\n",
    "frame8['增长率均值×方差']=''\n",
    "for i in range(frame8.shape[0]):\n",
    "    frame8['增长率均值×方差'][i] = frame11[frame11.企业代号 == frame8['企业代号'][i]].reset_index(drop=True)['均值×方差'][0]\n",
    "#frame8 = frame8.sort_values(by=['增长率均值×方差','企业代号'],axis=0,ascending=[True,True]).reset_index(drop=True)\n",
    "frame8 = frame8.sort_values(by=['额度','企业代号'],axis=0,ascending=[False,True]).reset_index(drop=True)\n",
    "frame8"
   ]
  },
  {
   "cell_type": "code",
   "execution_count": 163,
   "metadata": {},
   "outputs": [],
   "source": [
    "frame8['调整后额度']=''\n",
    "total = 19893799\n",
    "for i in range(frame8.shape[0]):\n",
    "    a = frame8['额度'][i]\n",
    "    '''\n",
    "    if a < 100000:\n",
    "        frame8['调整后额度'][i] = a\n",
    "        continue\n",
    "    if total > 0:\n",
    "        b = min(total,np.random.randint((a - 100000)/2,a - 100000))\n",
    "        frame8['调整后额度'][i] = a - b\n",
    "        total = total - b\n",
    "    else:\n",
    "        frame8['调整后额度'][i] = a\n",
    "    '''\n",
    "    if a < 100000:\n",
    "        frame8['调整后额度'][i] = a\n",
    "        continue\n",
    "    if total > 0:\n",
    "        #r = (a-100000)*0.02\n",
    "        b = min(total,np.random.randint((a-100000)*0.05,(a-100000)*0.3789))\n",
    "        frame8['调整后额度'][i] = a - b\n",
    "        total = total - b\n",
    "    else:\n",
    "        frame8['调整后额度'][i] = a\n",
    "frame8 = frame8.sort_values(by=['额度','企业代号'],axis=0,ascending=[False,True]).reset_index(drop=True)\n",
    "#frame8.to_csv(\"./C/2_调整后额度_2.csv\",index=False,sep=',',encoding='utf_8_sig')\n",
    "frame8.to_csv(\"./C/3_调整后额度.csv\",index=False,sep=',',encoding='utf_8_sig')"
   ]
  },
  {
   "cell_type": "code",
   "execution_count": 164,
   "metadata": {},
   "outputs": [
    {
     "output_type": "execute_result",
     "data": {
      "text/plain": "100000000"
     },
     "metadata": {},
     "execution_count": 164
    }
   ],
   "source": [
    "sum(frame8['调整后额度'])"
   ]
  },
  {
   "cell_type": "code",
   "execution_count": 165,
   "metadata": {},
   "outputs": [
    {
     "output_type": "execute_result",
     "data": {
      "text/plain": "\"\\nfor i in range(frame8.shape[0]):\\n    frame8['额度'][i] = frame8['额度'][i]-frame8['调整后额度'][i]\""
     },
     "metadata": {},
     "execution_count": 165
    }
   ],
   "source": [
    "#frame8 = frame8.sort_values(by=['额度','企业代号'],axis=0,ascending=[False,True]).reset_index(drop=True)\n",
    "#frame8.to_csv(\"./C/2_调整后额度.csv\",index=False,sep=',',encoding='utf_8_sig')\n",
    "frame8 = pd.read_csv('./C/3_调整后额度.csv')\n",
    "\n",
    "for i in range(frame8.shape[0]):\n",
    "    if i%2 == 0:\n",
    "        assert frame8['企业代号'][i] == frame8['企业代号'][i+1]\n",
    "        frame8['额度'][i+1] = frame8['额度'][i+1]-frame8['额度'][i]\n",
    "    else:\n",
    "        continue\n",
    "'''\n",
    "for i in range(frame8.shape[0]):\n",
    "    frame8['额度'][i] = frame8['额度'][i]-frame8['调整后额度'][i]'''"
   ]
  },
  {
   "cell_type": "code",
   "execution_count": 166,
   "metadata": {},
   "outputs": [],
   "source": [
    "graph3 = px.histogram(frame8, x=\"企业代号\", y=\"额度\",color='是否调整',color_discrete_map={'调整后':'green','调整前':'red'})\n",
    "graph3.write_html('./answer3_adjust.html')\n",
    "#frame9 = frame8.drop(['预期收益','年利率','增长率均值×方差'],axis=1)\n",
    "#graph3 = px.bar(frame9, x=\"企业代号\", y=[\"调整后额度\",\"额度\"],color_discrete_map={'额度':'red','调整后额度':'green'})\n",
    "#graph3.write_html('./answer2_adjust_1.html')"
   ]
  },
  {
   "cell_type": "code",
   "execution_count": 66,
   "metadata": {},
   "outputs": [
    {
     "output_type": "execute_result",
     "data": {
      "text/plain": "     企业代号       额度          预期收益     年利率   增长率均值×方差 是否调整\n0    E126        0  33857.455470  0.0465  54.658183  调整前\n1    E126  1000000  33857.455470  0.0465  54.658183  调整后\n2    E127        0  35555.084077  0.0785  56.987888  调整前\n3    E127  1000000  35555.084077  0.0785  56.987888  调整后\n4    E128        0  35616.035601  0.0585  54.298595  调整前\n..    ...      ...           ...     ...        ...  ...\n377  E417     5933    219.615505  0.0585  21.751691  调整后\n378  E402        0    198.613551  0.0665  35.191931  调整前\n379  E402     5771    198.613551  0.0665  35.191931  调整后\n380  E412        0     98.639695  0.0585  24.510943  调整前\n381  E412     2720     98.639695  0.0585  24.510943  调整后\n\n[382 rows x 6 columns]",
      "text/html": "<div>\n<style scoped>\n    .dataframe tbody tr th:only-of-type {\n        vertical-align: middle;\n    }\n\n    .dataframe tbody tr th {\n        vertical-align: top;\n    }\n\n    .dataframe thead th {\n        text-align: right;\n    }\n</style>\n<table border=\"1\" class=\"dataframe\">\n  <thead>\n    <tr style=\"text-align: right;\">\n      <th></th>\n      <th>企业代号</th>\n      <th>额度</th>\n      <th>预期收益</th>\n      <th>年利率</th>\n      <th>增长率均值×方差</th>\n      <th>是否调整</th>\n    </tr>\n  </thead>\n  <tbody>\n    <tr>\n      <th>0</th>\n      <td>E126</td>\n      <td>0</td>\n      <td>33857.455470</td>\n      <td>0.0465</td>\n      <td>54.658183</td>\n      <td>调整前</td>\n    </tr>\n    <tr>\n      <th>1</th>\n      <td>E126</td>\n      <td>1000000</td>\n      <td>33857.455470</td>\n      <td>0.0465</td>\n      <td>54.658183</td>\n      <td>调整后</td>\n    </tr>\n    <tr>\n      <th>2</th>\n      <td>E127</td>\n      <td>0</td>\n      <td>35555.084077</td>\n      <td>0.0785</td>\n      <td>56.987888</td>\n      <td>调整前</td>\n    </tr>\n    <tr>\n      <th>3</th>\n      <td>E127</td>\n      <td>1000000</td>\n      <td>35555.084077</td>\n      <td>0.0785</td>\n      <td>56.987888</td>\n      <td>调整后</td>\n    </tr>\n    <tr>\n      <th>4</th>\n      <td>E128</td>\n      <td>0</td>\n      <td>35616.035601</td>\n      <td>0.0585</td>\n      <td>54.298595</td>\n      <td>调整前</td>\n    </tr>\n    <tr>\n      <th>...</th>\n      <td>...</td>\n      <td>...</td>\n      <td>...</td>\n      <td>...</td>\n      <td>...</td>\n      <td>...</td>\n    </tr>\n    <tr>\n      <th>377</th>\n      <td>E417</td>\n      <td>5933</td>\n      <td>219.615505</td>\n      <td>0.0585</td>\n      <td>21.751691</td>\n      <td>调整后</td>\n    </tr>\n    <tr>\n      <th>378</th>\n      <td>E402</td>\n      <td>0</td>\n      <td>198.613551</td>\n      <td>0.0665</td>\n      <td>35.191931</td>\n      <td>调整前</td>\n    </tr>\n    <tr>\n      <th>379</th>\n      <td>E402</td>\n      <td>5771</td>\n      <td>198.613551</td>\n      <td>0.0665</td>\n      <td>35.191931</td>\n      <td>调整后</td>\n    </tr>\n    <tr>\n      <th>380</th>\n      <td>E412</td>\n      <td>0</td>\n      <td>98.639695</td>\n      <td>0.0585</td>\n      <td>24.510943</td>\n      <td>调整前</td>\n    </tr>\n    <tr>\n      <th>381</th>\n      <td>E412</td>\n      <td>2720</td>\n      <td>98.639695</td>\n      <td>0.0585</td>\n      <td>24.510943</td>\n      <td>调整后</td>\n    </tr>\n  </tbody>\n</table>\n<p>382 rows × 6 columns</p>\n</div>"
     },
     "metadata": {},
     "execution_count": 66
    }
   ],
   "source": [
    "frame8"
   ]
  },
  {
   "cell_type": "code",
   "execution_count": 47,
   "metadata": {},
   "outputs": [
    {
     "output_type": "execute_result",
     "data": {
      "text/plain": "     企业代号  额度    调整后额度\n0    E126   0  1000000\n1    E127   0  1000000\n2    E128   0  1000000\n3    E129   0  1000000\n4    E131   0  1000000\n..    ...  ..      ...\n186  E422   0     7617\n187  E393   0     5937\n188  E417   0     5933\n189  E402   0     5771\n190  E412   0     2720\n\n[191 rows x 3 columns]",
      "text/html": "<div>\n<style scoped>\n    .dataframe tbody tr th:only-of-type {\n        vertical-align: middle;\n    }\n\n    .dataframe tbody tr th {\n        vertical-align: top;\n    }\n\n    .dataframe thead th {\n        text-align: right;\n    }\n</style>\n<table border=\"1\" class=\"dataframe\">\n  <thead>\n    <tr style=\"text-align: right;\">\n      <th></th>\n      <th>企业代号</th>\n      <th>额度</th>\n      <th>调整后额度</th>\n    </tr>\n  </thead>\n  <tbody>\n    <tr>\n      <th>0</th>\n      <td>E126</td>\n      <td>0</td>\n      <td>1000000</td>\n    </tr>\n    <tr>\n      <th>1</th>\n      <td>E127</td>\n      <td>0</td>\n      <td>1000000</td>\n    </tr>\n    <tr>\n      <th>2</th>\n      <td>E128</td>\n      <td>0</td>\n      <td>1000000</td>\n    </tr>\n    <tr>\n      <th>3</th>\n      <td>E129</td>\n      <td>0</td>\n      <td>1000000</td>\n    </tr>\n    <tr>\n      <th>4</th>\n      <td>E131</td>\n      <td>0</td>\n      <td>1000000</td>\n    </tr>\n    <tr>\n      <th>...</th>\n      <td>...</td>\n      <td>...</td>\n      <td>...</td>\n    </tr>\n    <tr>\n      <th>186</th>\n      <td>E422</td>\n      <td>0</td>\n      <td>7617</td>\n    </tr>\n    <tr>\n      <th>187</th>\n      <td>E393</td>\n      <td>0</td>\n      <td>5937</td>\n    </tr>\n    <tr>\n      <th>188</th>\n      <td>E417</td>\n      <td>0</td>\n      <td>5933</td>\n    </tr>\n    <tr>\n      <th>189</th>\n      <td>E402</td>\n      <td>0</td>\n      <td>5771</td>\n    </tr>\n    <tr>\n      <th>190</th>\n      <td>E412</td>\n      <td>0</td>\n      <td>2720</td>\n    </tr>\n  </tbody>\n</table>\n<p>191 rows × 3 columns</p>\n</div>"
     },
     "metadata": {},
     "execution_count": 47
    }
   ],
   "source": [
    "#frame8 = frame8.sort_values(by=['额度','企业代号'],axis=0,ascending=[False,True]).reset_index(drop=True)\n",
    "\n",
    "for i in range(1,frame9.shape[0]):\n",
    "    assert type(frame9['额度'][i-1]) == type(frame9['额度'][i])\n",
    "    assert type(frame9['调整后额度'][i-1]) == type(frame9['调整后额度'][i])\n",
    "    #frame9['额度'][i] = int(frame9['额度'][i])\n",
    "    #frame9['调整后额度'][i] = int(frame9['调整后额度'][i])\n",
    "frame9"
   ]
  },
  {
   "cell_type": "code",
   "execution_count": 60,
   "metadata": {},
   "outputs": [
    {
     "output_type": "display_data",
     "data": {
      "application/vnd.plotly.v1+json": {
       "config": {
        "plotlyServerURL": "https://plot.ly"
       },
       "data": [
        {
         "alignmentgroup": "True",
         "hovertemplate": "variable=gold<br>nation=%{x}<br>value=%{y}<extra></extra>",
         "legendgroup": "gold",
         "marker": {
          "color": "#636efa"
         },
         "name": "gold",
         "offsetgroup": "gold",
         "orientation": "v",
         "showlegend": true,
         "textposition": "auto",
         "type": "bar",
         "x": [
          "South Korea",
          "China",
          "Canada"
         ],
         "xaxis": "x",
         "y": [
          24,
          10,
          9
         ],
         "yaxis": "y"
        },
        {
         "alignmentgroup": "True",
         "hovertemplate": "variable=silver<br>nation=%{x}<br>value=%{y}<extra></extra>",
         "legendgroup": "silver",
         "marker": {
          "color": "#EF553B"
         },
         "name": "silver",
         "offsetgroup": "silver",
         "orientation": "v",
         "showlegend": true,
         "textposition": "auto",
         "type": "bar",
         "x": [
          "South Korea",
          "China",
          "Canada"
         ],
         "xaxis": "x",
         "y": [
          13,
          15,
          12
         ],
         "yaxis": "y"
        },
        {
         "alignmentgroup": "True",
         "hovertemplate": "variable=bronze<br>nation=%{x}<br>value=%{y}<extra></extra>",
         "legendgroup": "bronze",
         "marker": {
          "color": "#00cc96"
         },
         "name": "bronze",
         "offsetgroup": "bronze",
         "orientation": "v",
         "showlegend": true,
         "textposition": "auto",
         "type": "bar",
         "x": [
          "South Korea",
          "China",
          "Canada"
         ],
         "xaxis": "x",
         "y": [
          11,
          8,
          12
         ],
         "yaxis": "y"
        }
       ],
       "layout": {
        "barmode": "relative",
        "legend": {
         "title": {
          "text": "variable"
         },
         "tracegroupgap": 0
        },
        "template": {
         "data": {
          "bar": [
           {
            "error_x": {
             "color": "#2a3f5f"
            },
            "error_y": {
             "color": "#2a3f5f"
            },
            "marker": {
             "line": {
              "color": "#E5ECF6",
              "width": 0.5
             }
            },
            "type": "bar"
           }
          ],
          "barpolar": [
           {
            "marker": {
             "line": {
              "color": "#E5ECF6",
              "width": 0.5
             }
            },
            "type": "barpolar"
           }
          ],
          "carpet": [
           {
            "aaxis": {
             "endlinecolor": "#2a3f5f",
             "gridcolor": "white",
             "linecolor": "white",
             "minorgridcolor": "white",
             "startlinecolor": "#2a3f5f"
            },
            "baxis": {
             "endlinecolor": "#2a3f5f",
             "gridcolor": "white",
             "linecolor": "white",
             "minorgridcolor": "white",
             "startlinecolor": "#2a3f5f"
            },
            "type": "carpet"
           }
          ],
          "choropleth": [
           {
            "colorbar": {
             "outlinewidth": 0,
             "ticks": ""
            },
            "type": "choropleth"
           }
          ],
          "contour": [
           {
            "colorbar": {
             "outlinewidth": 0,
             "ticks": ""
            },
            "colorscale": [
             [
              0,
              "#0d0887"
             ],
             [
              0.1111111111111111,
              "#46039f"
             ],
             [
              0.2222222222222222,
              "#7201a8"
             ],
             [
              0.3333333333333333,
              "#9c179e"
             ],
             [
              0.4444444444444444,
              "#bd3786"
             ],
             [
              0.5555555555555556,
              "#d8576b"
             ],
             [
              0.6666666666666666,
              "#ed7953"
             ],
             [
              0.7777777777777778,
              "#fb9f3a"
             ],
             [
              0.8888888888888888,
              "#fdca26"
             ],
             [
              1,
              "#f0f921"
             ]
            ],
            "type": "contour"
           }
          ],
          "contourcarpet": [
           {
            "colorbar": {
             "outlinewidth": 0,
             "ticks": ""
            },
            "type": "contourcarpet"
           }
          ],
          "heatmap": [
           {
            "colorbar": {
             "outlinewidth": 0,
             "ticks": ""
            },
            "colorscale": [
             [
              0,
              "#0d0887"
             ],
             [
              0.1111111111111111,
              "#46039f"
             ],
             [
              0.2222222222222222,
              "#7201a8"
             ],
             [
              0.3333333333333333,
              "#9c179e"
             ],
             [
              0.4444444444444444,
              "#bd3786"
             ],
             [
              0.5555555555555556,
              "#d8576b"
             ],
             [
              0.6666666666666666,
              "#ed7953"
             ],
             [
              0.7777777777777778,
              "#fb9f3a"
             ],
             [
              0.8888888888888888,
              "#fdca26"
             ],
             [
              1,
              "#f0f921"
             ]
            ],
            "type": "heatmap"
           }
          ],
          "heatmapgl": [
           {
            "colorbar": {
             "outlinewidth": 0,
             "ticks": ""
            },
            "colorscale": [
             [
              0,
              "#0d0887"
             ],
             [
              0.1111111111111111,
              "#46039f"
             ],
             [
              0.2222222222222222,
              "#7201a8"
             ],
             [
              0.3333333333333333,
              "#9c179e"
             ],
             [
              0.4444444444444444,
              "#bd3786"
             ],
             [
              0.5555555555555556,
              "#d8576b"
             ],
             [
              0.6666666666666666,
              "#ed7953"
             ],
             [
              0.7777777777777778,
              "#fb9f3a"
             ],
             [
              0.8888888888888888,
              "#fdca26"
             ],
             [
              1,
              "#f0f921"
             ]
            ],
            "type": "heatmapgl"
           }
          ],
          "histogram": [
           {
            "marker": {
             "colorbar": {
              "outlinewidth": 0,
              "ticks": ""
             }
            },
            "type": "histogram"
           }
          ],
          "histogram2d": [
           {
            "colorbar": {
             "outlinewidth": 0,
             "ticks": ""
            },
            "colorscale": [
             [
              0,
              "#0d0887"
             ],
             [
              0.1111111111111111,
              "#46039f"
             ],
             [
              0.2222222222222222,
              "#7201a8"
             ],
             [
              0.3333333333333333,
              "#9c179e"
             ],
             [
              0.4444444444444444,
              "#bd3786"
             ],
             [
              0.5555555555555556,
              "#d8576b"
             ],
             [
              0.6666666666666666,
              "#ed7953"
             ],
             [
              0.7777777777777778,
              "#fb9f3a"
             ],
             [
              0.8888888888888888,
              "#fdca26"
             ],
             [
              1,
              "#f0f921"
             ]
            ],
            "type": "histogram2d"
           }
          ],
          "histogram2dcontour": [
           {
            "colorbar": {
             "outlinewidth": 0,
             "ticks": ""
            },
            "colorscale": [
             [
              0,
              "#0d0887"
             ],
             [
              0.1111111111111111,
              "#46039f"
             ],
             [
              0.2222222222222222,
              "#7201a8"
             ],
             [
              0.3333333333333333,
              "#9c179e"
             ],
             [
              0.4444444444444444,
              "#bd3786"
             ],
             [
              0.5555555555555556,
              "#d8576b"
             ],
             [
              0.6666666666666666,
              "#ed7953"
             ],
             [
              0.7777777777777778,
              "#fb9f3a"
             ],
             [
              0.8888888888888888,
              "#fdca26"
             ],
             [
              1,
              "#f0f921"
             ]
            ],
            "type": "histogram2dcontour"
           }
          ],
          "mesh3d": [
           {
            "colorbar": {
             "outlinewidth": 0,
             "ticks": ""
            },
            "type": "mesh3d"
           }
          ],
          "parcoords": [
           {
            "line": {
             "colorbar": {
              "outlinewidth": 0,
              "ticks": ""
             }
            },
            "type": "parcoords"
           }
          ],
          "pie": [
           {
            "automargin": true,
            "type": "pie"
           }
          ],
          "scatter": [
           {
            "marker": {
             "colorbar": {
              "outlinewidth": 0,
              "ticks": ""
             }
            },
            "type": "scatter"
           }
          ],
          "scatter3d": [
           {
            "line": {
             "colorbar": {
              "outlinewidth": 0,
              "ticks": ""
             }
            },
            "marker": {
             "colorbar": {
              "outlinewidth": 0,
              "ticks": ""
             }
            },
            "type": "scatter3d"
           }
          ],
          "scattercarpet": [
           {
            "marker": {
             "colorbar": {
              "outlinewidth": 0,
              "ticks": ""
             }
            },
            "type": "scattercarpet"
           }
          ],
          "scattergeo": [
           {
            "marker": {
             "colorbar": {
              "outlinewidth": 0,
              "ticks": ""
             }
            },
            "type": "scattergeo"
           }
          ],
          "scattergl": [
           {
            "marker": {
             "colorbar": {
              "outlinewidth": 0,
              "ticks": ""
             }
            },
            "type": "scattergl"
           }
          ],
          "scattermapbox": [
           {
            "marker": {
             "colorbar": {
              "outlinewidth": 0,
              "ticks": ""
             }
            },
            "type": "scattermapbox"
           }
          ],
          "scatterpolar": [
           {
            "marker": {
             "colorbar": {
              "outlinewidth": 0,
              "ticks": ""
             }
            },
            "type": "scatterpolar"
           }
          ],
          "scatterpolargl": [
           {
            "marker": {
             "colorbar": {
              "outlinewidth": 0,
              "ticks": ""
             }
            },
            "type": "scatterpolargl"
           }
          ],
          "scatterternary": [
           {
            "marker": {
             "colorbar": {
              "outlinewidth": 0,
              "ticks": ""
             }
            },
            "type": "scatterternary"
           }
          ],
          "surface": [
           {
            "colorbar": {
             "outlinewidth": 0,
             "ticks": ""
            },
            "colorscale": [
             [
              0,
              "#0d0887"
             ],
             [
              0.1111111111111111,
              "#46039f"
             ],
             [
              0.2222222222222222,
              "#7201a8"
             ],
             [
              0.3333333333333333,
              "#9c179e"
             ],
             [
              0.4444444444444444,
              "#bd3786"
             ],
             [
              0.5555555555555556,
              "#d8576b"
             ],
             [
              0.6666666666666666,
              "#ed7953"
             ],
             [
              0.7777777777777778,
              "#fb9f3a"
             ],
             [
              0.8888888888888888,
              "#fdca26"
             ],
             [
              1,
              "#f0f921"
             ]
            ],
            "type": "surface"
           }
          ],
          "table": [
           {
            "cells": {
             "fill": {
              "color": "#EBF0F8"
             },
             "line": {
              "color": "white"
             }
            },
            "header": {
             "fill": {
              "color": "#C8D4E3"
             },
             "line": {
              "color": "white"
             }
            },
            "type": "table"
           }
          ]
         },
         "layout": {
          "annotationdefaults": {
           "arrowcolor": "#2a3f5f",
           "arrowhead": 0,
           "arrowwidth": 1
          },
          "coloraxis": {
           "colorbar": {
            "outlinewidth": 0,
            "ticks": ""
           }
          },
          "colorscale": {
           "diverging": [
            [
             0,
             "#8e0152"
            ],
            [
             0.1,
             "#c51b7d"
            ],
            [
             0.2,
             "#de77ae"
            ],
            [
             0.3,
             "#f1b6da"
            ],
            [
             0.4,
             "#fde0ef"
            ],
            [
             0.5,
             "#f7f7f7"
            ],
            [
             0.6,
             "#e6f5d0"
            ],
            [
             0.7,
             "#b8e186"
            ],
            [
             0.8,
             "#7fbc41"
            ],
            [
             0.9,
             "#4d9221"
            ],
            [
             1,
             "#276419"
            ]
           ],
           "sequential": [
            [
             0,
             "#0d0887"
            ],
            [
             0.1111111111111111,
             "#46039f"
            ],
            [
             0.2222222222222222,
             "#7201a8"
            ],
            [
             0.3333333333333333,
             "#9c179e"
            ],
            [
             0.4444444444444444,
             "#bd3786"
            ],
            [
             0.5555555555555556,
             "#d8576b"
            ],
            [
             0.6666666666666666,
             "#ed7953"
            ],
            [
             0.7777777777777778,
             "#fb9f3a"
            ],
            [
             0.8888888888888888,
             "#fdca26"
            ],
            [
             1,
             "#f0f921"
            ]
           ],
           "sequentialminus": [
            [
             0,
             "#0d0887"
            ],
            [
             0.1111111111111111,
             "#46039f"
            ],
            [
             0.2222222222222222,
             "#7201a8"
            ],
            [
             0.3333333333333333,
             "#9c179e"
            ],
            [
             0.4444444444444444,
             "#bd3786"
            ],
            [
             0.5555555555555556,
             "#d8576b"
            ],
            [
             0.6666666666666666,
             "#ed7953"
            ],
            [
             0.7777777777777778,
             "#fb9f3a"
            ],
            [
             0.8888888888888888,
             "#fdca26"
            ],
            [
             1,
             "#f0f921"
            ]
           ]
          },
          "colorway": [
           "#636efa",
           "#EF553B",
           "#00cc96",
           "#ab63fa",
           "#FFA15A",
           "#19d3f3",
           "#FF6692",
           "#B6E880",
           "#FF97FF",
           "#FECB52"
          ],
          "font": {
           "color": "#2a3f5f"
          },
          "geo": {
           "bgcolor": "white",
           "lakecolor": "white",
           "landcolor": "#E5ECF6",
           "showlakes": true,
           "showland": true,
           "subunitcolor": "white"
          },
          "hoverlabel": {
           "align": "left"
          },
          "hovermode": "closest",
          "mapbox": {
           "style": "light"
          },
          "paper_bgcolor": "white",
          "plot_bgcolor": "#E5ECF6",
          "polar": {
           "angularaxis": {
            "gridcolor": "white",
            "linecolor": "white",
            "ticks": ""
           },
           "bgcolor": "#E5ECF6",
           "radialaxis": {
            "gridcolor": "white",
            "linecolor": "white",
            "ticks": ""
           }
          },
          "scene": {
           "xaxis": {
            "backgroundcolor": "#E5ECF6",
            "gridcolor": "white",
            "gridwidth": 2,
            "linecolor": "white",
            "showbackground": true,
            "ticks": "",
            "zerolinecolor": "white"
           },
           "yaxis": {
            "backgroundcolor": "#E5ECF6",
            "gridcolor": "white",
            "gridwidth": 2,
            "linecolor": "white",
            "showbackground": true,
            "ticks": "",
            "zerolinecolor": "white"
           },
           "zaxis": {
            "backgroundcolor": "#E5ECF6",
            "gridcolor": "white",
            "gridwidth": 2,
            "linecolor": "white",
            "showbackground": true,
            "ticks": "",
            "zerolinecolor": "white"
           }
          },
          "shapedefaults": {
           "line": {
            "color": "#2a3f5f"
           }
          },
          "ternary": {
           "aaxis": {
            "gridcolor": "white",
            "linecolor": "white",
            "ticks": ""
           },
           "baxis": {
            "gridcolor": "white",
            "linecolor": "white",
            "ticks": ""
           },
           "bgcolor": "#E5ECF6",
           "caxis": {
            "gridcolor": "white",
            "linecolor": "white",
            "ticks": ""
           }
          },
          "title": {
           "x": 0.05
          },
          "xaxis": {
           "automargin": true,
           "gridcolor": "white",
           "linecolor": "white",
           "ticks": "",
           "title": {
            "standoff": 15
           },
           "zerolinecolor": "white",
           "zerolinewidth": 2
          },
          "yaxis": {
           "automargin": true,
           "gridcolor": "white",
           "linecolor": "white",
           "ticks": "",
           "title": {
            "standoff": 15
           },
           "zerolinecolor": "white",
           "zerolinewidth": 2
          }
         }
        },
        "title": {
         "text": "Wide-Form Input"
        },
        "xaxis": {
         "anchor": "y",
         "domain": [
          0,
          1
         ],
         "title": {
          "text": "nation"
         }
        },
        "yaxis": {
         "anchor": "x",
         "domain": [
          0,
          1
         ],
         "title": {
          "text": "value"
         }
        }
       }
      },
      "text/html": "<div>\n        \n        \n            <div id=\"266ac23d-a5ef-4c1c-ac7b-036d28800352\" class=\"plotly-graph-div\" style=\"height:525px; width:100%;\"></div>\n            <script type=\"text/javascript\">\n                require([\"plotly\"], function(Plotly) {\n                    window.PLOTLYENV=window.PLOTLYENV || {};\n                    \n                if (document.getElementById(\"266ac23d-a5ef-4c1c-ac7b-036d28800352\")) {\n                    Plotly.newPlot(\n                        '266ac23d-a5ef-4c1c-ac7b-036d28800352',\n                        [{\"alignmentgroup\": \"True\", \"hovertemplate\": \"variable=gold<br>nation=%{x}<br>value=%{y}<extra></extra>\", \"legendgroup\": \"gold\", \"marker\": {\"color\": \"#636efa\"}, \"name\": \"gold\", \"offsetgroup\": \"gold\", \"orientation\": \"v\", \"showlegend\": true, \"textposition\": \"auto\", \"type\": \"bar\", \"x\": [\"South Korea\", \"China\", \"Canada\"], \"xaxis\": \"x\", \"y\": [24, 10, 9], \"yaxis\": \"y\"}, {\"alignmentgroup\": \"True\", \"hovertemplate\": \"variable=silver<br>nation=%{x}<br>value=%{y}<extra></extra>\", \"legendgroup\": \"silver\", \"marker\": {\"color\": \"#EF553B\"}, \"name\": \"silver\", \"offsetgroup\": \"silver\", \"orientation\": \"v\", \"showlegend\": true, \"textposition\": \"auto\", \"type\": \"bar\", \"x\": [\"South Korea\", \"China\", \"Canada\"], \"xaxis\": \"x\", \"y\": [13, 15, 12], \"yaxis\": \"y\"}, {\"alignmentgroup\": \"True\", \"hovertemplate\": \"variable=bronze<br>nation=%{x}<br>value=%{y}<extra></extra>\", \"legendgroup\": \"bronze\", \"marker\": {\"color\": \"#00cc96\"}, \"name\": \"bronze\", \"offsetgroup\": \"bronze\", \"orientation\": \"v\", \"showlegend\": true, \"textposition\": \"auto\", \"type\": \"bar\", \"x\": [\"South Korea\", \"China\", \"Canada\"], \"xaxis\": \"x\", \"y\": [11, 8, 12], \"yaxis\": \"y\"}],\n                        {\"barmode\": \"relative\", \"legend\": {\"title\": {\"text\": \"variable\"}, \"tracegroupgap\": 0}, \"template\": {\"data\": {\"bar\": [{\"error_x\": {\"color\": \"#2a3f5f\"}, \"error_y\": {\"color\": \"#2a3f5f\"}, \"marker\": {\"line\": {\"color\": \"#E5ECF6\", \"width\": 0.5}}, \"type\": \"bar\"}], \"barpolar\": [{\"marker\": {\"line\": {\"color\": \"#E5ECF6\", \"width\": 0.5}}, \"type\": \"barpolar\"}], \"carpet\": [{\"aaxis\": {\"endlinecolor\": \"#2a3f5f\", \"gridcolor\": \"white\", \"linecolor\": \"white\", \"minorgridcolor\": \"white\", \"startlinecolor\": \"#2a3f5f\"}, \"baxis\": {\"endlinecolor\": \"#2a3f5f\", \"gridcolor\": \"white\", \"linecolor\": \"white\", \"minorgridcolor\": \"white\", \"startlinecolor\": \"#2a3f5f\"}, \"type\": \"carpet\"}], \"choropleth\": [{\"colorbar\": {\"outlinewidth\": 0, \"ticks\": \"\"}, \"type\": \"choropleth\"}], \"contour\": [{\"colorbar\": {\"outlinewidth\": 0, \"ticks\": \"\"}, \"colorscale\": [[0.0, \"#0d0887\"], [0.1111111111111111, \"#46039f\"], [0.2222222222222222, \"#7201a8\"], [0.3333333333333333, \"#9c179e\"], [0.4444444444444444, \"#bd3786\"], [0.5555555555555556, \"#d8576b\"], [0.6666666666666666, \"#ed7953\"], [0.7777777777777778, \"#fb9f3a\"], [0.8888888888888888, \"#fdca26\"], [1.0, \"#f0f921\"]], \"type\": \"contour\"}], \"contourcarpet\": [{\"colorbar\": {\"outlinewidth\": 0, \"ticks\": \"\"}, \"type\": \"contourcarpet\"}], \"heatmap\": [{\"colorbar\": {\"outlinewidth\": 0, \"ticks\": \"\"}, \"colorscale\": [[0.0, \"#0d0887\"], [0.1111111111111111, \"#46039f\"], [0.2222222222222222, \"#7201a8\"], [0.3333333333333333, \"#9c179e\"], [0.4444444444444444, \"#bd3786\"], [0.5555555555555556, \"#d8576b\"], [0.6666666666666666, \"#ed7953\"], [0.7777777777777778, \"#fb9f3a\"], [0.8888888888888888, \"#fdca26\"], [1.0, \"#f0f921\"]], \"type\": \"heatmap\"}], \"heatmapgl\": [{\"colorbar\": {\"outlinewidth\": 0, \"ticks\": \"\"}, \"colorscale\": [[0.0, \"#0d0887\"], [0.1111111111111111, \"#46039f\"], [0.2222222222222222, \"#7201a8\"], [0.3333333333333333, \"#9c179e\"], [0.4444444444444444, \"#bd3786\"], [0.5555555555555556, \"#d8576b\"], [0.6666666666666666, \"#ed7953\"], [0.7777777777777778, \"#fb9f3a\"], [0.8888888888888888, \"#fdca26\"], [1.0, \"#f0f921\"]], \"type\": \"heatmapgl\"}], \"histogram\": [{\"marker\": {\"colorbar\": {\"outlinewidth\": 0, \"ticks\": \"\"}}, \"type\": \"histogram\"}], \"histogram2d\": [{\"colorbar\": {\"outlinewidth\": 0, \"ticks\": \"\"}, \"colorscale\": [[0.0, \"#0d0887\"], [0.1111111111111111, \"#46039f\"], [0.2222222222222222, \"#7201a8\"], [0.3333333333333333, \"#9c179e\"], [0.4444444444444444, \"#bd3786\"], [0.5555555555555556, \"#d8576b\"], [0.6666666666666666, \"#ed7953\"], [0.7777777777777778, \"#fb9f3a\"], [0.8888888888888888, \"#fdca26\"], [1.0, \"#f0f921\"]], \"type\": \"histogram2d\"}], \"histogram2dcontour\": [{\"colorbar\": {\"outlinewidth\": 0, \"ticks\": \"\"}, \"colorscale\": [[0.0, \"#0d0887\"], [0.1111111111111111, \"#46039f\"], [0.2222222222222222, \"#7201a8\"], [0.3333333333333333, \"#9c179e\"], [0.4444444444444444, \"#bd3786\"], [0.5555555555555556, \"#d8576b\"], [0.6666666666666666, \"#ed7953\"], [0.7777777777777778, \"#fb9f3a\"], [0.8888888888888888, \"#fdca26\"], [1.0, \"#f0f921\"]], \"type\": \"histogram2dcontour\"}], \"mesh3d\": [{\"colorbar\": {\"outlinewidth\": 0, \"ticks\": \"\"}, \"type\": \"mesh3d\"}], \"parcoords\": [{\"line\": {\"colorbar\": {\"outlinewidth\": 0, \"ticks\": \"\"}}, \"type\": \"parcoords\"}], \"pie\": [{\"automargin\": true, \"type\": \"pie\"}], \"scatter\": [{\"marker\": {\"colorbar\": {\"outlinewidth\": 0, \"ticks\": \"\"}}, \"type\": \"scatter\"}], \"scatter3d\": [{\"line\": {\"colorbar\": {\"outlinewidth\": 0, \"ticks\": \"\"}}, \"marker\": {\"colorbar\": {\"outlinewidth\": 0, \"ticks\": \"\"}}, \"type\": \"scatter3d\"}], \"scattercarpet\": [{\"marker\": {\"colorbar\": {\"outlinewidth\": 0, \"ticks\": \"\"}}, \"type\": \"scattercarpet\"}], \"scattergeo\": [{\"marker\": {\"colorbar\": {\"outlinewidth\": 0, \"ticks\": \"\"}}, \"type\": \"scattergeo\"}], \"scattergl\": [{\"marker\": {\"colorbar\": {\"outlinewidth\": 0, \"ticks\": \"\"}}, \"type\": \"scattergl\"}], \"scattermapbox\": [{\"marker\": {\"colorbar\": {\"outlinewidth\": 0, \"ticks\": \"\"}}, \"type\": \"scattermapbox\"}], \"scatterpolar\": [{\"marker\": {\"colorbar\": {\"outlinewidth\": 0, \"ticks\": \"\"}}, \"type\": \"scatterpolar\"}], \"scatterpolargl\": [{\"marker\": {\"colorbar\": {\"outlinewidth\": 0, \"ticks\": \"\"}}, \"type\": \"scatterpolargl\"}], \"scatterternary\": [{\"marker\": {\"colorbar\": {\"outlinewidth\": 0, \"ticks\": \"\"}}, \"type\": \"scatterternary\"}], \"surface\": [{\"colorbar\": {\"outlinewidth\": 0, \"ticks\": \"\"}, \"colorscale\": [[0.0, \"#0d0887\"], [0.1111111111111111, \"#46039f\"], [0.2222222222222222, \"#7201a8\"], [0.3333333333333333, \"#9c179e\"], [0.4444444444444444, \"#bd3786\"], [0.5555555555555556, \"#d8576b\"], [0.6666666666666666, \"#ed7953\"], [0.7777777777777778, \"#fb9f3a\"], [0.8888888888888888, \"#fdca26\"], [1.0, \"#f0f921\"]], \"type\": \"surface\"}], \"table\": [{\"cells\": {\"fill\": {\"color\": \"#EBF0F8\"}, \"line\": {\"color\": \"white\"}}, \"header\": {\"fill\": {\"color\": \"#C8D4E3\"}, \"line\": {\"color\": \"white\"}}, \"type\": \"table\"}]}, \"layout\": {\"annotationdefaults\": {\"arrowcolor\": \"#2a3f5f\", \"arrowhead\": 0, \"arrowwidth\": 1}, \"coloraxis\": {\"colorbar\": {\"outlinewidth\": 0, \"ticks\": \"\"}}, \"colorscale\": {\"diverging\": [[0, \"#8e0152\"], [0.1, \"#c51b7d\"], [0.2, \"#de77ae\"], [0.3, \"#f1b6da\"], [0.4, \"#fde0ef\"], [0.5, \"#f7f7f7\"], [0.6, \"#e6f5d0\"], [0.7, \"#b8e186\"], [0.8, \"#7fbc41\"], [0.9, \"#4d9221\"], [1, \"#276419\"]], \"sequential\": [[0.0, \"#0d0887\"], [0.1111111111111111, \"#46039f\"], [0.2222222222222222, \"#7201a8\"], [0.3333333333333333, \"#9c179e\"], [0.4444444444444444, \"#bd3786\"], [0.5555555555555556, \"#d8576b\"], [0.6666666666666666, \"#ed7953\"], [0.7777777777777778, \"#fb9f3a\"], [0.8888888888888888, \"#fdca26\"], [1.0, \"#f0f921\"]], \"sequentialminus\": [[0.0, \"#0d0887\"], [0.1111111111111111, \"#46039f\"], [0.2222222222222222, \"#7201a8\"], [0.3333333333333333, \"#9c179e\"], [0.4444444444444444, \"#bd3786\"], [0.5555555555555556, \"#d8576b\"], [0.6666666666666666, \"#ed7953\"], [0.7777777777777778, \"#fb9f3a\"], [0.8888888888888888, \"#fdca26\"], [1.0, \"#f0f921\"]]}, \"colorway\": [\"#636efa\", \"#EF553B\", \"#00cc96\", \"#ab63fa\", \"#FFA15A\", \"#19d3f3\", \"#FF6692\", \"#B6E880\", \"#FF97FF\", \"#FECB52\"], \"font\": {\"color\": \"#2a3f5f\"}, \"geo\": {\"bgcolor\": \"white\", \"lakecolor\": \"white\", \"landcolor\": \"#E5ECF6\", \"showlakes\": true, \"showland\": true, \"subunitcolor\": \"white\"}, \"hoverlabel\": {\"align\": \"left\"}, \"hovermode\": \"closest\", \"mapbox\": {\"style\": \"light\"}, \"paper_bgcolor\": \"white\", \"plot_bgcolor\": \"#E5ECF6\", \"polar\": {\"angularaxis\": {\"gridcolor\": \"white\", \"linecolor\": \"white\", \"ticks\": \"\"}, \"bgcolor\": \"#E5ECF6\", \"radialaxis\": {\"gridcolor\": \"white\", \"linecolor\": \"white\", \"ticks\": \"\"}}, \"scene\": {\"xaxis\": {\"backgroundcolor\": \"#E5ECF6\", \"gridcolor\": \"white\", \"gridwidth\": 2, \"linecolor\": \"white\", \"showbackground\": true, \"ticks\": \"\", \"zerolinecolor\": \"white\"}, \"yaxis\": {\"backgroundcolor\": \"#E5ECF6\", \"gridcolor\": \"white\", \"gridwidth\": 2, \"linecolor\": \"white\", \"showbackground\": true, \"ticks\": \"\", \"zerolinecolor\": \"white\"}, \"zaxis\": {\"backgroundcolor\": \"#E5ECF6\", \"gridcolor\": \"white\", \"gridwidth\": 2, \"linecolor\": \"white\", \"showbackground\": true, \"ticks\": \"\", \"zerolinecolor\": \"white\"}}, \"shapedefaults\": {\"line\": {\"color\": \"#2a3f5f\"}}, \"ternary\": {\"aaxis\": {\"gridcolor\": \"white\", \"linecolor\": \"white\", \"ticks\": \"\"}, \"baxis\": {\"gridcolor\": \"white\", \"linecolor\": \"white\", \"ticks\": \"\"}, \"bgcolor\": \"#E5ECF6\", \"caxis\": {\"gridcolor\": \"white\", \"linecolor\": \"white\", \"ticks\": \"\"}}, \"title\": {\"x\": 0.05}, \"xaxis\": {\"automargin\": true, \"gridcolor\": \"white\", \"linecolor\": \"white\", \"ticks\": \"\", \"title\": {\"standoff\": 15}, \"zerolinecolor\": \"white\", \"zerolinewidth\": 2}, \"yaxis\": {\"automargin\": true, \"gridcolor\": \"white\", \"linecolor\": \"white\", \"ticks\": \"\", \"title\": {\"standoff\": 15}, \"zerolinecolor\": \"white\", \"zerolinewidth\": 2}}}, \"title\": {\"text\": \"Wide-Form Input\"}, \"xaxis\": {\"anchor\": \"y\", \"domain\": [0.0, 1.0], \"title\": {\"text\": \"nation\"}}, \"yaxis\": {\"anchor\": \"x\", \"domain\": [0.0, 1.0], \"title\": {\"text\": \"value\"}}},\n                        {\"responsive\": true}\n                    ).then(function(){\n                            \nvar gd = document.getElementById('266ac23d-a5ef-4c1c-ac7b-036d28800352');\nvar x = new MutationObserver(function (mutations, observer) {{\n        var display = window.getComputedStyle(gd).display;\n        if (!display || display === 'none') {{\n            console.log([gd, 'removed!']);\n            Plotly.purge(gd);\n            observer.disconnect();\n        }}\n}});\n\n// Listen for the removal of the full notebook cells\nvar notebookContainer = gd.closest('#notebook-container');\nif (notebookContainer) {{\n    x.observe(notebookContainer, {childList: true});\n}}\n\n// Listen for the clearing of the current output cell\nvar outputEl = gd.closest('.output');\nif (outputEl) {{\n    x.observe(outputEl, {childList: true});\n}}\n\n                        })\n                };\n                });\n            </script>\n        </div>"
     },
     "metadata": {}
    },
    {
     "output_type": "execute_result",
     "data": {
      "text/plain": "        nation  gold  silver  bronze\n0  South Korea    24      13      11\n1        China    10      15       8\n2       Canada     9      12      12",
      "text/html": "<div>\n<style scoped>\n    .dataframe tbody tr th:only-of-type {\n        vertical-align: middle;\n    }\n\n    .dataframe tbody tr th {\n        vertical-align: top;\n    }\n\n    .dataframe thead th {\n        text-align: right;\n    }\n</style>\n<table border=\"1\" class=\"dataframe\">\n  <thead>\n    <tr style=\"text-align: right;\">\n      <th></th>\n      <th>nation</th>\n      <th>gold</th>\n      <th>silver</th>\n      <th>bronze</th>\n    </tr>\n  </thead>\n  <tbody>\n    <tr>\n      <th>0</th>\n      <td>South Korea</td>\n      <td>24</td>\n      <td>13</td>\n      <td>11</td>\n    </tr>\n    <tr>\n      <th>1</th>\n      <td>China</td>\n      <td>10</td>\n      <td>15</td>\n      <td>8</td>\n    </tr>\n    <tr>\n      <th>2</th>\n      <td>Canada</td>\n      <td>9</td>\n      <td>12</td>\n      <td>12</td>\n    </tr>\n  </tbody>\n</table>\n</div>"
     },
     "metadata": {},
     "execution_count": 60
    }
   ],
   "source": [
    "wide_df = px.data.medals_wide()\n",
    "fig = px.bar(wide_df, x=\"nation\", y=[\"gold\", \"silver\", \"bronze\"], title=\"Wide-Form Input\")\n",
    "fig.show()\n",
    "wide_df\n"
   ]
  },
  {
   "cell_type": "code",
   "execution_count": 62,
   "metadata": {},
   "outputs": [],
   "source": [
    "frame10 = pd.DataFrame(columns=['企业代号','额度','调整后额度'])\n",
    "\n",
    "for i in range(10):\n",
    "    frame10 = frame10.append([{'企业代号':str(frame9['企业代号'][i]),'额度':frame9['额度'][i],'调整后额度':frame9['调整后额度'][i]}],ignore_index=True)\n",
    "graph3 = px.bar(frame10, x=\"企业代号\", y=[\"调整后额度\",\"额度\"])\n",
    "graph3.write_html('./answer2_adjust_1.html')"
   ]
  },
  {
   "cell_type": "code",
   "execution_count": 55,
   "metadata": {},
   "outputs": [
    {
     "output_type": "execute_result",
     "data": {
      "text/plain": "     企业代号 额度    调整后额度\n0    E126  0  1000000\n1    E127  0  1000000\n2    E128  0  1000000\n3    E129  0  1000000\n4    E131  0  1000000\n..    ... ..      ...\n186  E422  0     7617\n187  E393  0     5937\n188  E417  0     5933\n189  E402  0     5771\n190  E412  0     2720\n\n[191 rows x 3 columns]",
      "text/html": "<div>\n<style scoped>\n    .dataframe tbody tr th:only-of-type {\n        vertical-align: middle;\n    }\n\n    .dataframe tbody tr th {\n        vertical-align: top;\n    }\n\n    .dataframe thead th {\n        text-align: right;\n    }\n</style>\n<table border=\"1\" class=\"dataframe\">\n  <thead>\n    <tr style=\"text-align: right;\">\n      <th></th>\n      <th>企业代号</th>\n      <th>额度</th>\n      <th>调整后额度</th>\n    </tr>\n  </thead>\n  <tbody>\n    <tr>\n      <th>0</th>\n      <td>E126</td>\n      <td>0</td>\n      <td>1000000</td>\n    </tr>\n    <tr>\n      <th>1</th>\n      <td>E127</td>\n      <td>0</td>\n      <td>1000000</td>\n    </tr>\n    <tr>\n      <th>2</th>\n      <td>E128</td>\n      <td>0</td>\n      <td>1000000</td>\n    </tr>\n    <tr>\n      <th>3</th>\n      <td>E129</td>\n      <td>0</td>\n      <td>1000000</td>\n    </tr>\n    <tr>\n      <th>4</th>\n      <td>E131</td>\n      <td>0</td>\n      <td>1000000</td>\n    </tr>\n    <tr>\n      <th>...</th>\n      <td>...</td>\n      <td>...</td>\n      <td>...</td>\n    </tr>\n    <tr>\n      <th>186</th>\n      <td>E422</td>\n      <td>0</td>\n      <td>7617</td>\n    </tr>\n    <tr>\n      <th>187</th>\n      <td>E393</td>\n      <td>0</td>\n      <td>5937</td>\n    </tr>\n    <tr>\n      <th>188</th>\n      <td>E417</td>\n      <td>0</td>\n      <td>5933</td>\n    </tr>\n    <tr>\n      <th>189</th>\n      <td>E402</td>\n      <td>0</td>\n      <td>5771</td>\n    </tr>\n    <tr>\n      <th>190</th>\n      <td>E412</td>\n      <td>0</td>\n      <td>2720</td>\n    </tr>\n  </tbody>\n</table>\n<p>191 rows × 3 columns</p>\n</div>"
     },
     "metadata": {},
     "execution_count": 55
    }
   ],
   "source": [
    "frame10"
   ]
  }
 ],
 "metadata": {
  "language_info": {
   "codemirror_mode": {
    "name": "ipython",
    "version": 3
   },
   "file_extension": ".py",
   "mimetype": "text/x-python",
   "name": "python",
   "nbconvert_exporter": "python",
   "pygments_lexer": "ipython3",
   "version": "3.7.5-final"
  },
  "orig_nbformat": 2,
  "kernelspec": {
   "name": "python37564bit7ce19d34b5d64e10aeb63e084aaca162",
   "display_name": "Python 3.7.5 64-bit"
  }
 },
 "nbformat": 4,
 "nbformat_minor": 2
}